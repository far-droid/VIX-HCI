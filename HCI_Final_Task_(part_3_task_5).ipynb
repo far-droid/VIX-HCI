{
  "nbformat": 4,
  "nbformat_minor": 0,
  "metadata": {
    "colab": {
      "provenance": []
    },
    "kernelspec": {
      "name": "python3",
      "display_name": "Python 3"
    },
    "language_info": {
      "name": "python"
    }
  },
  "cells": [
    {
      "cell_type": "markdown",
      "metadata": {
        "id": "AWOI6JeQjzQk"
      },
      "source": [
        "# Data\n",
        "application_train/application_test: data pelatihan dan pengujian utama dengan informasi tentang setiap aplikasi pinjaman di Home Credit. Setiap pinjaman memiliki barisnya masing-masing dan ditandai dengan fitur SK_ID_CURR. Data aplikasi pelatihan dilengkapi dengan TARGET yang menunjukkan 0: pinjaman telah dilunasi atau 1: pinjaman tidak dilunasi.\n",
        "\n",
        "bureau: data mengenai kredit klien sebelumnya dari lembaga keuangan lain. Setiap kredit sebelumnya memiliki barisnya sendiri di biro, tetapi satu pinjaman dalam data aplikasi dapat memiliki beberapa kredit sebelumnya.\n",
        "\n",
        "bureau_balance: data bulanan tentang kredit sebelumnya di biro. Setiap baris adalah satu bulan dari kredit sebelumnya, dan satu kredit sebelumnya dapat memiliki beberapa baris, satu untuk setiap bulan dari panjang kredit.\n",
        "\n",
        "previous_application: aplikasi sebelumnya untuk pinjaman di Home Credit klien yang memiliki pinjaman dalam data aplikasi. Setiap pinjaman saat ini dalam data aplikasi dapat memiliki beberapa pinjaman sebelumnya. Setiap aplikasi sebelumnya memiliki satu baris dan diidentifikasi oleh fitur SK_ID_PREV.\n",
        "\n",
        "POS_CASH_BALANCE: data bulanan tentang titik penjualan sebelumnya atau pinjaman tunai yang dimiliki klien dengan Home Credit. Setiap baris adalah satu bulan dari titik penjualan atau pinjaman tunai sebelumnya, dan satu pinjaman sebelumnya dapat memiliki banyak baris.\n",
        "\n",
        "credit_card_balance: data bulanan tentang kartu kredit sebelumnya yang dimiliki klien dengan Home Credit. Setiap baris adalah satu bulan dari saldo kartu kredit, dan satu kartu kredit dapat memiliki banyak baris.\n",
        "\n",
        "installments_payment: riwayat pembayaran untuk pinjaman sebelumnya di Home Credit. Ada satu baris untuk setiap pembayaran yang dilakukan dan satu baris untuk setiap pembayaran yang terlewatkan.\n",
        "\n"
      ]
    },
    {
      "cell_type": "markdown",
      "source": [
        "![image](https://drive.google.com/uc?id=1uMUlwp_cnYv8sIfGPgiXf-uxBxAzptqM)\n"
      ],
      "metadata": {
        "id": "qb9YT0nTfn78"
      }
    },
    {
      "cell_type": "code",
      "execution_count": null,
      "metadata": {
        "id": "-AuGnhVEjzQp"
      },
      "outputs": [],
      "source": [
        "#import libraries\n",
        "import pandas as pd\n",
        "import numpy as np\n"
      ]
    },
    {
      "cell_type": "code",
      "execution_count": null,
      "metadata": {
        "id": "ewqhMFBajzQu",
        "colab": {
          "base_uri": "https://localhost:8080/"
        },
        "outputId": "dcaf9270-1a20-40ae-b872-fda2c3f16c62"
      },
      "outputs": [
        {
          "output_type": "stream",
          "name": "stdout",
          "text": [
            "Drive already mounted at /content/drive/; to attempt to forcibly remount, call drive.mount(\"/content/drive/\", force_remount=True).\n"
          ]
        }
      ],
      "source": [
        "from google.colab import drive\n",
        "drive.mount('/content/drive/')"
      ]
    },
    {
      "cell_type": "code",
      "source": [
        "application_bureau_prev = pd.read_csv('/content/drive/MyDrive/Colab Notebooks/application_bureau_prev.csv')\n",
        "application_bureau_prev_test = pd.read_csv('/content/drive/MyDrive/Colab Notebooks/application_bureau_prev_test.csv')"
      ],
      "metadata": {
        "id": "0xbdod-c2om1"
      },
      "execution_count": null,
      "outputs": []
    },
    {
      "cell_type": "code",
      "source": [
        "application_bureau_prev.head()"
      ],
      "metadata": {
        "id": "Uoh84Y_O1s1I",
        "colab": {
          "base_uri": "https://localhost:8080/",
          "height": 316
        },
        "outputId": "4c2b0ebb-3400-4e56-86ae-4646e9c9582e"
      },
      "execution_count": null,
      "outputs": [
        {
          "output_type": "execute_result",
          "data": {
            "text/plain": [
              "   Unnamed: 0.1  Unnamed: 0  SK_ID_CURR  NAME_CONTRACT_TYPE  FLAG_OWN_CAR  \\\n",
              "0             0           0      100002                   0             0   \n",
              "1             1           1      100003                   0             0   \n",
              "2             2           2      100004                   1             1   \n",
              "3             3           3      100006                   0             0   \n",
              "4             4           4      100007                   0             0   \n",
              "\n",
              "   FLAG_OWN_REALTY  CNT_CHILDREN  AMT_INCOME_TOTAL  AMT_CREDIT  AMT_ANNUITY  \\\n",
              "0                1             0          202500.0    406597.5      24700.5   \n",
              "1                0             0          270000.0   1293502.5      35698.5   \n",
              "2                1             0           67500.0    135000.0       6750.0   \n",
              "3                1             0          135000.0    312682.5      29686.5   \n",
              "4                1             0          121500.0    513000.0      21865.5   \n",
              "\n",
              "   ...  POS_NAME_CONTRACT_STATUS_Demand  \\\n",
              "0  ...                              0.0   \n",
              "1  ...                              0.0   \n",
              "2  ...                              0.0   \n",
              "3  ...                              0.0   \n",
              "4  ...                              0.0   \n",
              "\n",
              "   POS_NAME_CONTRACT_STATUS_Returned to the store  \\\n",
              "0                                        0.000000   \n",
              "1                                        0.000000   \n",
              "2                                        0.000000   \n",
              "3                                        0.047619   \n",
              "4                                        0.000000   \n",
              "\n",
              "   POS_NAME_CONTRACT_STATUS_Signed  POS_NAME_CONTRACT_STATUS_XNA  \\\n",
              "0                         0.000000                           0.0   \n",
              "1                         0.000000                           0.0   \n",
              "2                         0.000000                           0.0   \n",
              "3                         0.000000                           0.0   \n",
              "4                         0.015152                           0.0   \n",
              "\n",
              "   INSTA_NUM_INSTALMENT_VERSION  INSTA_NUM_INSTALMENT_NUMBER  \\\n",
              "0                      1.052632                    10.000000   \n",
              "1                      1.040000                     5.080000   \n",
              "2                      1.333333                     2.000000   \n",
              "3                      1.125000                     4.437500   \n",
              "4                      1.166667                     7.045455   \n",
              "\n",
              "   INSTA_DAYS_INSTALMENT  INSTA_DAYS_ENTRY_PAYMENT  INSTA_AMT_INSTALMENT  \\\n",
              "0            -295.000000               -315.421053          11559.247105   \n",
              "1           -1378.160000              -1385.320000          64754.586000   \n",
              "2            -754.000000               -761.666667           7096.155000   \n",
              "3            -252.250000               -271.625000          62947.088438   \n",
              "4           -1028.606061              -1032.242424          12666.444545   \n",
              "\n",
              "   INSTA_AMT_PAYMENT  \n",
              "0       11559.247105  \n",
              "1       64754.586000  \n",
              "2        7096.155000  \n",
              "3       62947.088438  \n",
              "4       12214.060227  \n",
              "\n",
              "[5 rows x 469 columns]"
            ],
            "text/html": [
              "\n",
              "  <div id=\"df-ee31a37a-93d6-4e7f-aeed-1a3b369e5100\">\n",
              "    <div class=\"colab-df-container\">\n",
              "      <div>\n",
              "<style scoped>\n",
              "    .dataframe tbody tr th:only-of-type {\n",
              "        vertical-align: middle;\n",
              "    }\n",
              "\n",
              "    .dataframe tbody tr th {\n",
              "        vertical-align: top;\n",
              "    }\n",
              "\n",
              "    .dataframe thead th {\n",
              "        text-align: right;\n",
              "    }\n",
              "</style>\n",
              "<table border=\"1\" class=\"dataframe\">\n",
              "  <thead>\n",
              "    <tr style=\"text-align: right;\">\n",
              "      <th></th>\n",
              "      <th>Unnamed: 0.1</th>\n",
              "      <th>Unnamed: 0</th>\n",
              "      <th>SK_ID_CURR</th>\n",
              "      <th>NAME_CONTRACT_TYPE</th>\n",
              "      <th>FLAG_OWN_CAR</th>\n",
              "      <th>FLAG_OWN_REALTY</th>\n",
              "      <th>CNT_CHILDREN</th>\n",
              "      <th>AMT_INCOME_TOTAL</th>\n",
              "      <th>AMT_CREDIT</th>\n",
              "      <th>AMT_ANNUITY</th>\n",
              "      <th>...</th>\n",
              "      <th>POS_NAME_CONTRACT_STATUS_Demand</th>\n",
              "      <th>POS_NAME_CONTRACT_STATUS_Returned to the store</th>\n",
              "      <th>POS_NAME_CONTRACT_STATUS_Signed</th>\n",
              "      <th>POS_NAME_CONTRACT_STATUS_XNA</th>\n",
              "      <th>INSTA_NUM_INSTALMENT_VERSION</th>\n",
              "      <th>INSTA_NUM_INSTALMENT_NUMBER</th>\n",
              "      <th>INSTA_DAYS_INSTALMENT</th>\n",
              "      <th>INSTA_DAYS_ENTRY_PAYMENT</th>\n",
              "      <th>INSTA_AMT_INSTALMENT</th>\n",
              "      <th>INSTA_AMT_PAYMENT</th>\n",
              "    </tr>\n",
              "  </thead>\n",
              "  <tbody>\n",
              "    <tr>\n",
              "      <th>0</th>\n",
              "      <td>0</td>\n",
              "      <td>0</td>\n",
              "      <td>100002</td>\n",
              "      <td>0</td>\n",
              "      <td>0</td>\n",
              "      <td>1</td>\n",
              "      <td>0</td>\n",
              "      <td>202500.0</td>\n",
              "      <td>406597.5</td>\n",
              "      <td>24700.5</td>\n",
              "      <td>...</td>\n",
              "      <td>0.0</td>\n",
              "      <td>0.000000</td>\n",
              "      <td>0.000000</td>\n",
              "      <td>0.0</td>\n",
              "      <td>1.052632</td>\n",
              "      <td>10.000000</td>\n",
              "      <td>-295.000000</td>\n",
              "      <td>-315.421053</td>\n",
              "      <td>11559.247105</td>\n",
              "      <td>11559.247105</td>\n",
              "    </tr>\n",
              "    <tr>\n",
              "      <th>1</th>\n",
              "      <td>1</td>\n",
              "      <td>1</td>\n",
              "      <td>100003</td>\n",
              "      <td>0</td>\n",
              "      <td>0</td>\n",
              "      <td>0</td>\n",
              "      <td>0</td>\n",
              "      <td>270000.0</td>\n",
              "      <td>1293502.5</td>\n",
              "      <td>35698.5</td>\n",
              "      <td>...</td>\n",
              "      <td>0.0</td>\n",
              "      <td>0.000000</td>\n",
              "      <td>0.000000</td>\n",
              "      <td>0.0</td>\n",
              "      <td>1.040000</td>\n",
              "      <td>5.080000</td>\n",
              "      <td>-1378.160000</td>\n",
              "      <td>-1385.320000</td>\n",
              "      <td>64754.586000</td>\n",
              "      <td>64754.586000</td>\n",
              "    </tr>\n",
              "    <tr>\n",
              "      <th>2</th>\n",
              "      <td>2</td>\n",
              "      <td>2</td>\n",
              "      <td>100004</td>\n",
              "      <td>1</td>\n",
              "      <td>1</td>\n",
              "      <td>1</td>\n",
              "      <td>0</td>\n",
              "      <td>67500.0</td>\n",
              "      <td>135000.0</td>\n",
              "      <td>6750.0</td>\n",
              "      <td>...</td>\n",
              "      <td>0.0</td>\n",
              "      <td>0.000000</td>\n",
              "      <td>0.000000</td>\n",
              "      <td>0.0</td>\n",
              "      <td>1.333333</td>\n",
              "      <td>2.000000</td>\n",
              "      <td>-754.000000</td>\n",
              "      <td>-761.666667</td>\n",
              "      <td>7096.155000</td>\n",
              "      <td>7096.155000</td>\n",
              "    </tr>\n",
              "    <tr>\n",
              "      <th>3</th>\n",
              "      <td>3</td>\n",
              "      <td>3</td>\n",
              "      <td>100006</td>\n",
              "      <td>0</td>\n",
              "      <td>0</td>\n",
              "      <td>1</td>\n",
              "      <td>0</td>\n",
              "      <td>135000.0</td>\n",
              "      <td>312682.5</td>\n",
              "      <td>29686.5</td>\n",
              "      <td>...</td>\n",
              "      <td>0.0</td>\n",
              "      <td>0.047619</td>\n",
              "      <td>0.000000</td>\n",
              "      <td>0.0</td>\n",
              "      <td>1.125000</td>\n",
              "      <td>4.437500</td>\n",
              "      <td>-252.250000</td>\n",
              "      <td>-271.625000</td>\n",
              "      <td>62947.088438</td>\n",
              "      <td>62947.088438</td>\n",
              "    </tr>\n",
              "    <tr>\n",
              "      <th>4</th>\n",
              "      <td>4</td>\n",
              "      <td>4</td>\n",
              "      <td>100007</td>\n",
              "      <td>0</td>\n",
              "      <td>0</td>\n",
              "      <td>1</td>\n",
              "      <td>0</td>\n",
              "      <td>121500.0</td>\n",
              "      <td>513000.0</td>\n",
              "      <td>21865.5</td>\n",
              "      <td>...</td>\n",
              "      <td>0.0</td>\n",
              "      <td>0.000000</td>\n",
              "      <td>0.015152</td>\n",
              "      <td>0.0</td>\n",
              "      <td>1.166667</td>\n",
              "      <td>7.045455</td>\n",
              "      <td>-1028.606061</td>\n",
              "      <td>-1032.242424</td>\n",
              "      <td>12666.444545</td>\n",
              "      <td>12214.060227</td>\n",
              "    </tr>\n",
              "  </tbody>\n",
              "</table>\n",
              "<p>5 rows × 469 columns</p>\n",
              "</div>\n",
              "      <button class=\"colab-df-convert\" onclick=\"convertToInteractive('df-ee31a37a-93d6-4e7f-aeed-1a3b369e5100')\"\n",
              "              title=\"Convert this dataframe to an interactive table.\"\n",
              "              style=\"display:none;\">\n",
              "        \n",
              "  <svg xmlns=\"http://www.w3.org/2000/svg\" height=\"24px\"viewBox=\"0 0 24 24\"\n",
              "       width=\"24px\">\n",
              "    <path d=\"M0 0h24v24H0V0z\" fill=\"none\"/>\n",
              "    <path d=\"M18.56 5.44l.94 2.06.94-2.06 2.06-.94-2.06-.94-.94-2.06-.94 2.06-2.06.94zm-11 1L8.5 8.5l.94-2.06 2.06-.94-2.06-.94L8.5 2.5l-.94 2.06-2.06.94zm10 10l.94 2.06.94-2.06 2.06-.94-2.06-.94-.94-2.06-.94 2.06-2.06.94z\"/><path d=\"M17.41 7.96l-1.37-1.37c-.4-.4-.92-.59-1.43-.59-.52 0-1.04.2-1.43.59L10.3 9.45l-7.72 7.72c-.78.78-.78 2.05 0 2.83L4 21.41c.39.39.9.59 1.41.59.51 0 1.02-.2 1.41-.59l7.78-7.78 2.81-2.81c.8-.78.8-2.07 0-2.86zM5.41 20L4 18.59l7.72-7.72 1.47 1.35L5.41 20z\"/>\n",
              "  </svg>\n",
              "      </button>\n",
              "      \n",
              "  <style>\n",
              "    .colab-df-container {\n",
              "      display:flex;\n",
              "      flex-wrap:wrap;\n",
              "      gap: 12px;\n",
              "    }\n",
              "\n",
              "    .colab-df-convert {\n",
              "      background-color: #E8F0FE;\n",
              "      border: none;\n",
              "      border-radius: 50%;\n",
              "      cursor: pointer;\n",
              "      display: none;\n",
              "      fill: #1967D2;\n",
              "      height: 32px;\n",
              "      padding: 0 0 0 0;\n",
              "      width: 32px;\n",
              "    }\n",
              "\n",
              "    .colab-df-convert:hover {\n",
              "      background-color: #E2EBFA;\n",
              "      box-shadow: 0px 1px 2px rgba(60, 64, 67, 0.3), 0px 1px 3px 1px rgba(60, 64, 67, 0.15);\n",
              "      fill: #174EA6;\n",
              "    }\n",
              "\n",
              "    [theme=dark] .colab-df-convert {\n",
              "      background-color: #3B4455;\n",
              "      fill: #D2E3FC;\n",
              "    }\n",
              "\n",
              "    [theme=dark] .colab-df-convert:hover {\n",
              "      background-color: #434B5C;\n",
              "      box-shadow: 0px 1px 3px 1px rgba(0, 0, 0, 0.15);\n",
              "      filter: drop-shadow(0px 1px 2px rgba(0, 0, 0, 0.3));\n",
              "      fill: #FFFFFF;\n",
              "    }\n",
              "  </style>\n",
              "\n",
              "      <script>\n",
              "        const buttonEl =\n",
              "          document.querySelector('#df-ee31a37a-93d6-4e7f-aeed-1a3b369e5100 button.colab-df-convert');\n",
              "        buttonEl.style.display =\n",
              "          google.colab.kernel.accessAllowed ? 'block' : 'none';\n",
              "\n",
              "        async function convertToInteractive(key) {\n",
              "          const element = document.querySelector('#df-ee31a37a-93d6-4e7f-aeed-1a3b369e5100');\n",
              "          const dataTable =\n",
              "            await google.colab.kernel.invokeFunction('convertToInteractive',\n",
              "                                                     [key], {});\n",
              "          if (!dataTable) return;\n",
              "\n",
              "          const docLinkHtml = 'Like what you see? Visit the ' +\n",
              "            '<a target=\"_blank\" href=https://colab.research.google.com/notebooks/data_table.ipynb>data table notebook</a>'\n",
              "            + ' to learn more about interactive tables.';\n",
              "          element.innerHTML = '';\n",
              "          dataTable['output_type'] = 'display_data';\n",
              "          await google.colab.output.renderOutput(dataTable, element);\n",
              "          const docLink = document.createElement('div');\n",
              "          docLink.innerHTML = docLinkHtml;\n",
              "          element.appendChild(docLink);\n",
              "        }\n",
              "      </script>\n",
              "    </div>\n",
              "  </div>\n",
              "  "
            ]
          },
          "metadata": {},
          "execution_count": 12
        }
      ]
    },
    {
      "cell_type": "markdown",
      "source": [
        "# Feature Engineering\n"
      ],
      "metadata": {
        "id": "1lOpajSzDaS-"
      }
    },
    {
      "cell_type": "code",
      "source": [
        "insta_payments = pd.read_csv('/content/drive/MyDrive/Colab Notebooks/installments_payments.csv')"
      ],
      "metadata": {
        "id": "jdU5-8JEgGgZ"
      },
      "execution_count": null,
      "outputs": []
    },
    {
      "cell_type": "code",
      "source": [
        "# Menggabungkan fitur numerik dan tidak ada fitur kategorikal dalam dataset ini\n",
        "grp = insta_payments.drop('SK_ID_PREV', axis =1).groupby(by=['SK_ID_CURR']).mean().reset_index()\n",
        "prev_columns = ['INSTA_'+column if column != 'SK_ID_CURR' else column for column in grp.columns ]\n",
        "grp.columns = prev_columns\n",
        "# Update the columns with fillna(0)\n",
        "cols_to_update = [col for col in grp.columns if col in application_bureau_prev.columns]\n",
        "application_bureau_prev[cols_to_update] = application_bureau_prev[cols_to_update].fillna(0)\n",
        "\n",
        "# Merge the grp dataframe with application_bureau_prev\n",
        "application_bureau_prev = application_bureau_prev.merge(grp, on=['SK_ID_CURR'], how='left', suffixes=('_x', '_y'))\n",
        "\n",
        "# Update the columns with fillna(0)\n",
        "cols_to_update2 = [col for col in grp.columns if col in application_bureau_prev_test.columns]\n",
        "application_bureau_prev_test[cols_to_update2] = application_bureau_prev_test[cols_to_update2].fillna(0)\n",
        "\n",
        "# Merge the grp dataframe with application_bureau_prev_test\n",
        "application_bureau_prev_test = application_bureau_prev_test.merge(grp, on=['SK_ID_CURR'], how='left', suffixes=('_x', '_y'))\n"
      ],
      "metadata": {
        "id": "D4o2_If4eOiK"
      },
      "execution_count": null,
      "outputs": []
    },
    {
      "cell_type": "code",
      "source": [
        "import gc"
      ],
      "metadata": {
        "id": "RAhSXGFbSMVH"
      },
      "execution_count": null,
      "outputs": []
    },
    {
      "cell_type": "code",
      "source": [
        "gc.collect()"
      ],
      "metadata": {
        "id": "HSuj2bjWSQtV",
        "colab": {
          "base_uri": "https://localhost:8080/"
        },
        "outputId": "6e9a02b3-02b2-4406-9a29-c9f86199a81f"
      },
      "execution_count": null,
      "outputs": [
        {
          "output_type": "execute_result",
          "data": {
            "text/plain": [
              "8"
            ]
          },
          "metadata": {},
          "execution_count": 16
        }
      ]
    },
    {
      "cell_type": "markdown",
      "source": [
        "## Data Credit card balance \n"
      ],
      "metadata": {
        "id": "M6b6HapnIEXo"
      }
    },
    {
      "cell_type": "code",
      "source": [
        "bureau_balance = pd.read_csv('/content/drive/MyDrive/Colab Notebooks/bureau_balance.csv')\n",
        "credit_card_balance = pd.read_csv('/content/drive/MyDrive/Colab Notebooks/credit_card_balance.csv')"
      ],
      "metadata": {
        "id": "QMhYMZkIgJgJ"
      },
      "execution_count": null,
      "outputs": []
    },
    {
      "cell_type": "code",
      "source": [
        "credit_card = credit_card_balance\n",
        "\n",
        "# Convert non-numeric columns to numeric\n",
        "non_numeric_cols = credit_card.select_dtypes(exclude='number').columns\n",
        "credit_card[non_numeric_cols] = credit_card[non_numeric_cols].apply(pd.to_numeric, errors='coerce')\n",
        "\n",
        "# Menggabungkan fitur numerik\n",
        "grp = credit_card.drop('SK_ID_PREV', axis=1).groupby(by=['SK_ID_CURR']).mean().reset_index()\n",
        "prev_columns = ['CREDIT_' + column if column != 'SK_ID_CURR' else column for column in grp.columns]\n",
        "grp.columns = prev_columns\n",
        "\n",
        "application_bureau_prev = application_bureau_prev.merge(grp, on=['SK_ID_CURR'], how='left')\n",
        "application_bureau_prev.update(application_bureau_prev[grp.columns].fillna(0))\n",
        "\n",
        "application_bureau_prev_test = application_bureau_prev_test.merge(grp, on=['SK_ID_CURR'], how='left')\n",
        "application_bureau_prev_test.update(application_bureau_prev_test[grp.columns].fillna(0))\n"
      ],
      "metadata": {
        "id": "Wm3XfgEceVxP"
      },
      "execution_count": null,
      "outputs": []
    },
    {
      "cell_type": "code",
      "source": [
        "#import pandas as pd\n",
        "#import numpy as np\n",
        "\n",
        "EPSILON = 1e-10  # Small constant to avoid division by zero\n",
        "\n",
        "def calculate_woe_iv(dataset, feature, target):\n",
        "    grouped = dataset.groupby(feature)[target].agg(['count', 'sum'])\n",
        "    grouped = grouped.rename(columns={'count': 'All', 'sum': 'Bad'})\n",
        "    grouped['Good'] = grouped['All'] - grouped['Bad']\n",
        "    \n",
        "    grouped['Distr_Good'] = grouped['Good'] / grouped['Good'].sum()\n",
        "    grouped['Distr_Bad'] = grouped['Bad'] / grouped['Bad'].sum()\n",
        "    grouped['WoE'] = np.log((grouped['Distr_Good'] + EPSILON) / (grouped['Distr_Bad'] + EPSILON))\n",
        "    \n",
        "    grouped['IV'] = (grouped['Distr_Good'] - grouped['Distr_Bad']) * grouped['WoE']\n",
        "    iv = grouped['IV'].sum()\n",
        "    \n",
        "    grouped = grouped.sort_values(by='WoE')\n",
        "    \n",
        "    return grouped, iv\n",
        "\n",
        "iv_columns = {}\n",
        "for col in application_bureau_prev.columns:\n",
        "    if col == 'TARGET':\n",
        "        continue\n",
        "    else:\n",
        "        df, iv = calculate_woe_iv(application_bureau_prev, col, 'TARGET')\n",
        "        iv_columns[col] = iv\n",
        "\n",
        "# Filter columns based on IV threshold\n",
        "iv_threshold = 0.1\n",
        "list_of_columns = [col for col, iv in iv_columns.items() if iv > iv_threshold]\n",
        "print(len(list_of_columns))"
      ],
      "metadata": {
        "colab": {
          "base_uri": "https://localhost:8080/"
        },
        "id": "F-ICQobRtEyO",
        "outputId": "c3a266c5-6bb7-4cc9-bcf5-3591623de8bd"
      },
      "execution_count": null,
      "outputs": [
        {
          "output_type": "stream",
          "name": "stdout",
          "text": [
            "115\n"
          ]
        }
      ]
    },
    {
      "cell_type": "code",
      "source": [
        "#import pandas as pd\n",
        "#import numpy as np\n",
        "\n",
        "# def calculate_woe_iv(dataset, feature, target):\n",
        "#     grouped = dataset.groupby(feature)[target].agg(['count', 'sum'])\n",
        "#     grouped = grouped.rename(columns={'count': 'All', 'sum': 'Bad'})\n",
        "#     grouped['Good'] = grouped['All'] - grouped['Bad']\n",
        "    \n",
        "#     grouped['Distr_Good'] = grouped['Good'] / grouped['Good'].sum()\n",
        "#     grouped['Distr_Bad'] = grouped['Bad'] / grouped['Bad'].sum()\n",
        "#     grouped['WoE'] = np.log(grouped['Distr_Good'] / grouped['Distr_Bad'])\n",
        "#     grouped['WoE'] = grouped['WoE'].replace({np.inf: 0, -np.inf: 0})\n",
        "    \n",
        "#     grouped['IV'] = (grouped['Distr_Good'] - grouped['Distr_Bad']) * grouped['WoE']\n",
        "#     iv = grouped['IV'].sum()\n",
        "    \n",
        "#     grouped = grouped.sort_values(by='WoE')\n",
        "    \n",
        "#     return grouped, iv\n",
        "\n",
        "# for col in application_bureau_prev.columns:\n",
        "#     if col == 'TARGET':\n",
        "#         continue\n",
        "#     else:\n",
        "#         print('WoE and IV for column: {}'.format(col))\n",
        "#         df, iv = calculate_woe_iv(application_bureau_prev, col, 'TARGET')\n",
        "#         print(df)\n",
        "#         print('IV score: {:.2f}'.format(iv))\n",
        "#         print('\\n')\n"
      ],
      "metadata": {
        "id": "wxEYZI91s3TF"
      },
      "execution_count": null,
      "outputs": []
    },
    {
      "cell_type": "markdown",
      "source": [
        "# Data Split train, valid and test\n"
      ],
      "metadata": {
        "id": "vIz1zUsdITyo"
      }
    },
    {
      "cell_type": "code",
      "source": [
        "X=application_bureau_prev.drop(columns=['TARGET'])\n",
        "y=application_bureau_prev['TARGET']\n",
        "\n",
        "from sklearn.model_selection import train_test_split\n",
        "X_train, X_test, y_train, y_test = train_test_split(X, y, test_size=0.2, random_state=1)"
      ],
      "metadata": {
        "id": "fbCYRDjdev6_"
      },
      "execution_count": null,
      "outputs": []
    },
    {
      "cell_type": "code",
      "source": [
        "y_test.info()"
      ],
      "metadata": {
        "colab": {
          "base_uri": "https://localhost:8080/"
        },
        "id": "UtqIabL7lCqJ",
        "outputId": "a6169026-4ed5-4f53-f1fe-0458cb437a9e"
      },
      "execution_count": null,
      "outputs": [
        {
          "output_type": "stream",
          "name": "stdout",
          "text": [
            "<class 'pandas.core.series.Series'>\n",
            "Int64Index: 61503 entries, 64282 to 175308\n",
            "Series name: TARGET\n",
            "Non-Null Count  Dtype\n",
            "--------------  -----\n",
            "61503 non-null  int64\n",
            "dtypes: int64(1)\n",
            "memory usage: 961.0 KB\n"
          ]
        }
      ]
    },
    {
      "cell_type": "code",
      "source": [
        "for col in X_train.columns:\n",
        "  print(col)"
      ],
      "metadata": {
        "colab": {
          "base_uri": "https://localhost:8080/"
        },
        "id": "uLEYnNFSHMog",
        "outputId": "a669d088-1dc0-4ff0-d4b8-1c8fdeeb85f5"
      },
      "execution_count": null,
      "outputs": [
        {
          "output_type": "stream",
          "name": "stdout",
          "text": [
            "Unnamed: 0.1\n",
            "Unnamed: 0\n",
            "SK_ID_CURR\n",
            "NAME_CONTRACT_TYPE\n",
            "FLAG_OWN_CAR\n",
            "FLAG_OWN_REALTY\n",
            "CNT_CHILDREN\n",
            "AMT_INCOME_TOTAL\n",
            "AMT_CREDIT\n",
            "AMT_ANNUITY\n",
            "AMT_GOODS_PRICE\n",
            "REGION_POPULATION_RELATIVE\n",
            "DAYS_BIRTH\n",
            "DAYS_EMPLOYED\n",
            "DAYS_REGISTRATION\n",
            "DAYS_ID_PUBLISH\n",
            "OWN_CAR_AGE\n",
            "FLAG_MOBIL\n",
            "FLAG_EMP_PHONE\n",
            "FLAG_WORK_PHONE\n",
            "FLAG_CONT_MOBILE\n",
            "FLAG_PHONE\n",
            "FLAG_EMAIL\n",
            "CNT_FAM_MEMBERS\n",
            "REGION_RATING_CLIENT\n",
            "REGION_RATING_CLIENT_W_CITY\n",
            "HOUR_APPR_PROCESS_START\n",
            "REG_REGION_NOT_LIVE_REGION\n",
            "REG_REGION_NOT_WORK_REGION\n",
            "LIVE_REGION_NOT_WORK_REGION\n",
            "REG_CITY_NOT_LIVE_CITY\n",
            "REG_CITY_NOT_WORK_CITY\n",
            "LIVE_CITY_NOT_WORK_CITY\n",
            "EXT_SOURCE_1\n",
            "EXT_SOURCE_2\n",
            "EXT_SOURCE_3\n",
            "APARTMENTS_AVG\n",
            "BASEMENTAREA_AVG\n",
            "YEARS_BEGINEXPLUATATION_AVG\n",
            "YEARS_BUILD_AVG\n",
            "COMMONAREA_AVG\n",
            "ELEVATORS_AVG\n",
            "ENTRANCES_AVG\n",
            "FLOORSMAX_AVG\n",
            "FLOORSMIN_AVG\n",
            "LANDAREA_AVG\n",
            "LIVINGAPARTMENTS_AVG\n",
            "LIVINGAREA_AVG\n",
            "NONLIVINGAPARTMENTS_AVG\n",
            "NONLIVINGAREA_AVG\n",
            "APARTMENTS_MODE\n",
            "BASEMENTAREA_MODE\n",
            "YEARS_BEGINEXPLUATATION_MODE\n",
            "YEARS_BUILD_MODE\n",
            "COMMONAREA_MODE\n",
            "ELEVATORS_MODE\n",
            "ENTRANCES_MODE\n",
            "FLOORSMAX_MODE\n",
            "FLOORSMIN_MODE\n",
            "LANDAREA_MODE\n",
            "LIVINGAPARTMENTS_MODE\n",
            "LIVINGAREA_MODE\n",
            "NONLIVINGAPARTMENTS_MODE\n",
            "NONLIVINGAREA_MODE\n",
            "APARTMENTS_MEDI\n",
            "BASEMENTAREA_MEDI\n",
            "YEARS_BEGINEXPLUATATION_MEDI\n",
            "YEARS_BUILD_MEDI\n",
            "COMMONAREA_MEDI\n",
            "ELEVATORS_MEDI\n",
            "ENTRANCES_MEDI\n",
            "FLOORSMAX_MEDI\n",
            "FLOORSMIN_MEDI\n",
            "LANDAREA_MEDI\n",
            "LIVINGAPARTMENTS_MEDI\n",
            "LIVINGAREA_MEDI\n",
            "NONLIVINGAPARTMENTS_MEDI\n",
            "NONLIVINGAREA_MEDI\n",
            "TOTALAREA_MODE\n",
            "OBS_30_CNT_SOCIAL_CIRCLE\n",
            "DEF_30_CNT_SOCIAL_CIRCLE\n",
            "OBS_60_CNT_SOCIAL_CIRCLE\n",
            "DEF_60_CNT_SOCIAL_CIRCLE\n",
            "DAYS_LAST_PHONE_CHANGE\n",
            "FLAG_DOCUMENT_2\n",
            "FLAG_DOCUMENT_3\n",
            "FLAG_DOCUMENT_4\n",
            "FLAG_DOCUMENT_5\n",
            "FLAG_DOCUMENT_6\n",
            "FLAG_DOCUMENT_7\n",
            "FLAG_DOCUMENT_8\n",
            "FLAG_DOCUMENT_9\n",
            "FLAG_DOCUMENT_10\n",
            "FLAG_DOCUMENT_11\n",
            "FLAG_DOCUMENT_12\n",
            "FLAG_DOCUMENT_13\n",
            "FLAG_DOCUMENT_14\n",
            "FLAG_DOCUMENT_15\n",
            "FLAG_DOCUMENT_16\n",
            "FLAG_DOCUMENT_17\n",
            "FLAG_DOCUMENT_18\n",
            "FLAG_DOCUMENT_19\n",
            "FLAG_DOCUMENT_20\n",
            "FLAG_DOCUMENT_21\n",
            "AMT_REQ_CREDIT_BUREAU_HOUR\n",
            "AMT_REQ_CREDIT_BUREAU_DAY\n",
            "AMT_REQ_CREDIT_BUREAU_WEEK\n",
            "AMT_REQ_CREDIT_BUREAU_MON\n",
            "AMT_REQ_CREDIT_BUREAU_QRT\n",
            "AMT_REQ_CREDIT_BUREAU_YEAR\n",
            "CODE_GENDER_F\n",
            "CODE_GENDER_M\n",
            "NAME_TYPE_SUITE_Children\n",
            "NAME_TYPE_SUITE_Family\n",
            "NAME_TYPE_SUITE_Group of people\n",
            "NAME_TYPE_SUITE_Other_A\n",
            "NAME_TYPE_SUITE_Other_B\n",
            "NAME_TYPE_SUITE_Spouse, partner\n",
            "NAME_TYPE_SUITE_Unaccompanied\n",
            "NAME_INCOME_TYPE_Businessman\n",
            "NAME_INCOME_TYPE_Commercial associate\n",
            "NAME_INCOME_TYPE_Pensioner\n",
            "NAME_INCOME_TYPE_State servant\n",
            "NAME_INCOME_TYPE_Student\n",
            "NAME_INCOME_TYPE_Unemployed\n",
            "NAME_INCOME_TYPE_Working\n",
            "NAME_EDUCATION_TYPE_Academic degree\n",
            "NAME_EDUCATION_TYPE_Higher education\n",
            "NAME_EDUCATION_TYPE_Incomplete higher\n",
            "NAME_EDUCATION_TYPE_Lower secondary\n",
            "NAME_EDUCATION_TYPE_Secondary / secondary special\n",
            "NAME_FAMILY_STATUS_Civil marriage\n",
            "NAME_FAMILY_STATUS_Married\n",
            "NAME_FAMILY_STATUS_Separated\n",
            "NAME_FAMILY_STATUS_Single / not married\n",
            "NAME_FAMILY_STATUS_Widow\n",
            "NAME_HOUSING_TYPE_Co-op apartment\n",
            "NAME_HOUSING_TYPE_House / apartment\n",
            "NAME_HOUSING_TYPE_Municipal apartment\n",
            "NAME_HOUSING_TYPE_Office apartment\n",
            "NAME_HOUSING_TYPE_Rented apartment\n",
            "NAME_HOUSING_TYPE_With parents\n",
            "OCCUPATION_TYPE_Accountants\n",
            "OCCUPATION_TYPE_Cleaning staff\n",
            "OCCUPATION_TYPE_Cooking staff\n",
            "OCCUPATION_TYPE_Core staff\n",
            "OCCUPATION_TYPE_Drivers\n",
            "OCCUPATION_TYPE_HR staff\n",
            "OCCUPATION_TYPE_High skill tech staff\n",
            "OCCUPATION_TYPE_IT staff\n",
            "OCCUPATION_TYPE_Laborers\n",
            "OCCUPATION_TYPE_Low-skill Laborers\n",
            "OCCUPATION_TYPE_Managers\n",
            "OCCUPATION_TYPE_Medicine staff\n",
            "OCCUPATION_TYPE_Private service staff\n",
            "OCCUPATION_TYPE_Realty agents\n",
            "OCCUPATION_TYPE_Sales staff\n",
            "OCCUPATION_TYPE_Secretaries\n",
            "OCCUPATION_TYPE_Security staff\n",
            "OCCUPATION_TYPE_Waiters/barmen staff\n",
            "WEEKDAY_APPR_PROCESS_START_FRIDAY\n",
            "WEEKDAY_APPR_PROCESS_START_MONDAY\n",
            "WEEKDAY_APPR_PROCESS_START_SATURDAY\n",
            "WEEKDAY_APPR_PROCESS_START_SUNDAY\n",
            "WEEKDAY_APPR_PROCESS_START_THURSDAY\n",
            "WEEKDAY_APPR_PROCESS_START_TUESDAY\n",
            "WEEKDAY_APPR_PROCESS_START_WEDNESDAY\n",
            "ORGANIZATION_TYPE_Advertising\n",
            "ORGANIZATION_TYPE_Agriculture\n",
            "ORGANIZATION_TYPE_Bank\n",
            "ORGANIZATION_TYPE_Business Entity Type 1\n",
            "ORGANIZATION_TYPE_Business Entity Type 2\n",
            "ORGANIZATION_TYPE_Business Entity Type 3\n",
            "ORGANIZATION_TYPE_Cleaning\n",
            "ORGANIZATION_TYPE_Construction\n",
            "ORGANIZATION_TYPE_Culture\n",
            "ORGANIZATION_TYPE_Electricity\n",
            "ORGANIZATION_TYPE_Emergency\n",
            "ORGANIZATION_TYPE_Government\n",
            "ORGANIZATION_TYPE_Hotel\n",
            "ORGANIZATION_TYPE_Housing\n",
            "ORGANIZATION_TYPE_Industry: type 1\n",
            "ORGANIZATION_TYPE_Industry: type 10\n",
            "ORGANIZATION_TYPE_Industry: type 11\n",
            "ORGANIZATION_TYPE_Industry: type 12\n",
            "ORGANIZATION_TYPE_Industry: type 13\n",
            "ORGANIZATION_TYPE_Industry: type 2\n",
            "ORGANIZATION_TYPE_Industry: type 3\n",
            "ORGANIZATION_TYPE_Industry: type 4\n",
            "ORGANIZATION_TYPE_Industry: type 5\n",
            "ORGANIZATION_TYPE_Industry: type 6\n",
            "ORGANIZATION_TYPE_Industry: type 7\n",
            "ORGANIZATION_TYPE_Industry: type 8\n",
            "ORGANIZATION_TYPE_Industry: type 9\n",
            "ORGANIZATION_TYPE_Insurance\n",
            "ORGANIZATION_TYPE_Kindergarten\n",
            "ORGANIZATION_TYPE_Legal Services\n",
            "ORGANIZATION_TYPE_Medicine\n",
            "ORGANIZATION_TYPE_Military\n",
            "ORGANIZATION_TYPE_Mobile\n",
            "ORGANIZATION_TYPE_Other\n",
            "ORGANIZATION_TYPE_Police\n",
            "ORGANIZATION_TYPE_Postal\n",
            "ORGANIZATION_TYPE_Realtor\n",
            "ORGANIZATION_TYPE_Religion\n",
            "ORGANIZATION_TYPE_Restaurant\n",
            "ORGANIZATION_TYPE_School\n",
            "ORGANIZATION_TYPE_Security\n",
            "ORGANIZATION_TYPE_Security Ministries\n",
            "ORGANIZATION_TYPE_Self-employed\n",
            "ORGANIZATION_TYPE_Services\n",
            "ORGANIZATION_TYPE_Telecom\n",
            "ORGANIZATION_TYPE_Trade: type 1\n",
            "ORGANIZATION_TYPE_Trade: type 2\n",
            "ORGANIZATION_TYPE_Trade: type 3\n",
            "ORGANIZATION_TYPE_Trade: type 4\n",
            "ORGANIZATION_TYPE_Trade: type 5\n",
            "ORGANIZATION_TYPE_Trade: type 6\n",
            "ORGANIZATION_TYPE_Trade: type 7\n",
            "ORGANIZATION_TYPE_Transport: type 1\n",
            "ORGANIZATION_TYPE_Transport: type 2\n",
            "ORGANIZATION_TYPE_Transport: type 3\n",
            "ORGANIZATION_TYPE_Transport: type 4\n",
            "ORGANIZATION_TYPE_University\n",
            "ORGANIZATION_TYPE_XNA\n",
            "FONDKAPREMONT_MODE_not specified\n",
            "FONDKAPREMONT_MODE_org spec account\n",
            "FONDKAPREMONT_MODE_reg oper account\n",
            "FONDKAPREMONT_MODE_reg oper spec account\n",
            "HOUSETYPE_MODE_block of flats\n",
            "HOUSETYPE_MODE_specific housing\n",
            "HOUSETYPE_MODE_terraced house\n",
            "WALLSMATERIAL_MODE_Block\n",
            "WALLSMATERIAL_MODE_Mixed\n",
            "WALLSMATERIAL_MODE_Monolithic\n",
            "WALLSMATERIAL_MODE_Others\n",
            "WALLSMATERIAL_MODE_Panel\n",
            "WALLSMATERIAL_MODE_Stone, brick\n",
            "WALLSMATERIAL_MODE_Wooden\n",
            "EMERGENCYSTATE_MODE_No\n",
            "EMERGENCYSTATE_MODE_Yes\n",
            "DAYS_EMPLOYED_ANOM\n",
            "Credit_flag\n",
            "Percent_Days_employed\n",
            "Annuity_as_percent_income\n",
            "Credit_as_percent_income\n",
            "BUREAU_DAYS_CREDIT\n",
            "BUREAU_CREDIT_DAY_OVERDUE\n",
            "BUREAU_DAYS_CREDIT_ENDDATE\n",
            "BUREAU_DAYS_ENDDATE_FACT\n",
            "BUREAU_AMT_CREDIT_MAX_OVERDUE\n",
            "BUREAU_CNT_CREDIT_PROLONG\n",
            "BUREAU_AMT_CREDIT_SUM\n",
            "BUREAU_AMT_CREDIT_SUM_DEBT\n",
            "BUREAU_AMT_CREDIT_SUM_LIMIT\n",
            "BUREAU_AMT_CREDIT_SUM_OVERDUE\n",
            "BUREAU_DAYS_CREDIT_UPDATE\n",
            "BUREAU_AMT_ANNUITY\n",
            "BUREAU_CREDIT_ACTIVE_Active\n",
            "BUREAU_CREDIT_ACTIVE_Bad debt\n",
            "BUREAU_CREDIT_ACTIVE_Closed\n",
            "BUREAU_CREDIT_ACTIVE_Sold\n",
            "BUREAU_CREDIT_CURRENCY_currency 1\n",
            "BUREAU_CREDIT_CURRENCY_currency 2\n",
            "BUREAU_CREDIT_CURRENCY_currency 3\n",
            "BUREAU_CREDIT_CURRENCY_currency 4\n",
            "BUREAU_CREDIT_TYPE_Another type of loan\n",
            "BUREAU_CREDIT_TYPE_Car loan\n",
            "BUREAU_CREDIT_TYPE_Cash loan (non-earmarked)\n",
            "BUREAU_CREDIT_TYPE_Consumer credit\n",
            "BUREAU_CREDIT_TYPE_Credit card\n",
            "BUREAU_CREDIT_TYPE_Interbank credit\n",
            "BUREAU_CREDIT_TYPE_Loan for business development\n",
            "BUREAU_CREDIT_TYPE_Loan for purchase of shares (margin lending)\n",
            "BUREAU_CREDIT_TYPE_Loan for the purchase of equipment\n",
            "BUREAU_CREDIT_TYPE_Loan for working capital replenishment\n",
            "BUREAU_CREDIT_TYPE_Microloan\n",
            "BUREAU_CREDIT_TYPE_Mobile operator loan\n",
            "BUREAU_CREDIT_TYPE_Mortgage\n",
            "BUREAU_CREDIT_TYPE_Real estate loan\n",
            "BUREAU_CREDIT_TYPE_Unknown type of loan\n",
            "BUREAU_LOAN_COUNT\n",
            "BUREAU_LOAN_TYPES\n",
            "DEBT_CREDIT_RATIO\n",
            "OVERDUE_DEBT_RATIO\n",
            "PREV_APP_COUNT\n",
            "PREV_AMT_ANNUITY\n",
            "PREV_AMT_APPLICATION\n",
            "PREV_AMT_CREDIT\n",
            "PREV_AMT_DOWN_PAYMENT\n",
            "PREV_AMT_GOODS_PRICE\n",
            "PREV_HOUR_APPR_PROCESS_START\n",
            "PREV_NFLAG_LAST_APPL_IN_DAY\n",
            "PREV_RATE_DOWN_PAYMENT\n",
            "PREV_RATE_INTEREST_PRIMARY\n",
            "PREV_RATE_INTEREST_PRIVILEGED\n",
            "PREV_DAYS_DECISION\n",
            "PREV_SELLERPLACE_AREA\n",
            "PREV_CNT_PAYMENT\n",
            "PREV_DAYS_FIRST_DRAWING\n",
            "PREV_DAYS_FIRST_DUE\n",
            "PREV_DAYS_LAST_DUE_1ST_VERSION\n",
            "PREV_DAYS_LAST_DUE\n",
            "PREV_DAYS_TERMINATION\n",
            "PREV_NFLAG_INSURED_ON_APPROVAL\n",
            "PREV_NAME_CONTRACT_TYPE_Cash loans\n",
            "PREV_NAME_CONTRACT_TYPE_Consumer loans\n",
            "PREV_NAME_CONTRACT_TYPE_Revolving loans\n",
            "PREV_NAME_CONTRACT_TYPE_XNA\n",
            "PREV_WEEKDAY_APPR_PROCESS_START_FRIDAY\n",
            "PREV_WEEKDAY_APPR_PROCESS_START_MONDAY\n",
            "PREV_WEEKDAY_APPR_PROCESS_START_SATURDAY\n",
            "PREV_WEEKDAY_APPR_PROCESS_START_SUNDAY\n",
            "PREV_WEEKDAY_APPR_PROCESS_START_THURSDAY\n",
            "PREV_WEEKDAY_APPR_PROCESS_START_TUESDAY\n",
            "PREV_WEEKDAY_APPR_PROCESS_START_WEDNESDAY\n",
            "PREV_FLAG_LAST_APPL_PER_CONTRACT_N\n",
            "PREV_FLAG_LAST_APPL_PER_CONTRACT_Y\n",
            "PREV_NAME_CASH_LOAN_PURPOSE_Building a house or an annex\n",
            "PREV_NAME_CASH_LOAN_PURPOSE_Business development\n",
            "PREV_NAME_CASH_LOAN_PURPOSE_Buying a garage\n",
            "PREV_NAME_CASH_LOAN_PURPOSE_Buying a holiday home / land\n",
            "PREV_NAME_CASH_LOAN_PURPOSE_Buying a home\n",
            "PREV_NAME_CASH_LOAN_PURPOSE_Buying a new car\n",
            "PREV_NAME_CASH_LOAN_PURPOSE_Buying a used car\n",
            "PREV_NAME_CASH_LOAN_PURPOSE_Car repairs\n",
            "PREV_NAME_CASH_LOAN_PURPOSE_Education\n",
            "PREV_NAME_CASH_LOAN_PURPOSE_Everyday expenses\n",
            "PREV_NAME_CASH_LOAN_PURPOSE_Furniture\n",
            "PREV_NAME_CASH_LOAN_PURPOSE_Gasification / water supply\n",
            "PREV_NAME_CASH_LOAN_PURPOSE_Hobby\n",
            "PREV_NAME_CASH_LOAN_PURPOSE_Journey\n",
            "PREV_NAME_CASH_LOAN_PURPOSE_Medicine\n",
            "PREV_NAME_CASH_LOAN_PURPOSE_Money for a third person\n",
            "PREV_NAME_CASH_LOAN_PURPOSE_Other\n",
            "PREV_NAME_CASH_LOAN_PURPOSE_Payments on other loans\n",
            "PREV_NAME_CASH_LOAN_PURPOSE_Purchase of electronic equipment\n",
            "PREV_NAME_CASH_LOAN_PURPOSE_Refusal to name the goal\n",
            "PREV_NAME_CASH_LOAN_PURPOSE_Repairs\n",
            "PREV_NAME_CASH_LOAN_PURPOSE_Urgent needs\n",
            "PREV_NAME_CASH_LOAN_PURPOSE_Wedding / gift / holiday\n",
            "PREV_NAME_CASH_LOAN_PURPOSE_XAP\n",
            "PREV_NAME_CASH_LOAN_PURPOSE_XNA\n",
            "PREV_NAME_CONTRACT_STATUS_Approved\n",
            "PREV_NAME_CONTRACT_STATUS_Canceled\n",
            "PREV_NAME_CONTRACT_STATUS_Refused\n",
            "PREV_NAME_CONTRACT_STATUS_Unused offer\n",
            "PREV_NAME_PAYMENT_TYPE_Cash through the bank\n",
            "PREV_NAME_PAYMENT_TYPE_Cashless from the account of the employer\n",
            "PREV_NAME_PAYMENT_TYPE_Non-cash from your account\n",
            "PREV_NAME_PAYMENT_TYPE_XNA\n",
            "PREV_CODE_REJECT_REASON_CLIENT\n",
            "PREV_CODE_REJECT_REASON_HC\n",
            "PREV_CODE_REJECT_REASON_LIMIT\n",
            "PREV_CODE_REJECT_REASON_SCO\n",
            "PREV_CODE_REJECT_REASON_SCOFR\n",
            "PREV_CODE_REJECT_REASON_SYSTEM\n",
            "PREV_CODE_REJECT_REASON_VERIF\n",
            "PREV_CODE_REJECT_REASON_XAP\n",
            "PREV_CODE_REJECT_REASON_XNA\n",
            "PREV_NAME_TYPE_SUITE_Children\n",
            "PREV_NAME_TYPE_SUITE_Family\n",
            "PREV_NAME_TYPE_SUITE_Group of people\n",
            "PREV_NAME_TYPE_SUITE_Other_A\n",
            "PREV_NAME_TYPE_SUITE_Other_B\n",
            "PREV_NAME_TYPE_SUITE_Spouse, partner\n",
            "PREV_NAME_TYPE_SUITE_Unaccompanied\n",
            "PREV_NAME_CLIENT_TYPE_New\n",
            "PREV_NAME_CLIENT_TYPE_Refreshed\n",
            "PREV_NAME_CLIENT_TYPE_Repeater\n",
            "PREV_NAME_CLIENT_TYPE_XNA\n",
            "PREV_NAME_GOODS_CATEGORY_Additional Service\n",
            "PREV_NAME_GOODS_CATEGORY_Animals\n",
            "PREV_NAME_GOODS_CATEGORY_Audio/Video\n",
            "PREV_NAME_GOODS_CATEGORY_Auto Accessories\n",
            "PREV_NAME_GOODS_CATEGORY_Clothing and Accessories\n",
            "PREV_NAME_GOODS_CATEGORY_Computers\n",
            "PREV_NAME_GOODS_CATEGORY_Construction Materials\n",
            "PREV_NAME_GOODS_CATEGORY_Consumer Electronics\n",
            "PREV_NAME_GOODS_CATEGORY_Direct Sales\n",
            "PREV_NAME_GOODS_CATEGORY_Education\n",
            "PREV_NAME_GOODS_CATEGORY_Fitness\n",
            "PREV_NAME_GOODS_CATEGORY_Furniture\n",
            "PREV_NAME_GOODS_CATEGORY_Gardening\n",
            "PREV_NAME_GOODS_CATEGORY_Homewares\n",
            "PREV_NAME_GOODS_CATEGORY_House Construction\n",
            "PREV_NAME_GOODS_CATEGORY_Insurance\n",
            "PREV_NAME_GOODS_CATEGORY_Jewelry\n",
            "PREV_NAME_GOODS_CATEGORY_Medical Supplies\n",
            "PREV_NAME_GOODS_CATEGORY_Medicine\n",
            "PREV_NAME_GOODS_CATEGORY_Mobile\n",
            "PREV_NAME_GOODS_CATEGORY_Office Appliances\n",
            "PREV_NAME_GOODS_CATEGORY_Other\n",
            "PREV_NAME_GOODS_CATEGORY_Photo / Cinema Equipment\n",
            "PREV_NAME_GOODS_CATEGORY_Sport and Leisure\n",
            "PREV_NAME_GOODS_CATEGORY_Tourism\n",
            "PREV_NAME_GOODS_CATEGORY_Vehicles\n",
            "PREV_NAME_GOODS_CATEGORY_Weapon\n",
            "PREV_NAME_GOODS_CATEGORY_XNA\n",
            "PREV_NAME_PORTFOLIO_Cards\n",
            "PREV_NAME_PORTFOLIO_Cars\n",
            "PREV_NAME_PORTFOLIO_Cash\n",
            "PREV_NAME_PORTFOLIO_POS\n",
            "PREV_NAME_PORTFOLIO_XNA\n",
            "PREV_NAME_PRODUCT_TYPE_XNA\n",
            "PREV_NAME_PRODUCT_TYPE_walk-in\n",
            "PREV_NAME_PRODUCT_TYPE_x-sell\n",
            "PREV_CHANNEL_TYPE_AP+ (Cash loan)\n",
            "PREV_CHANNEL_TYPE_Car dealer\n",
            "PREV_CHANNEL_TYPE_Channel of corporate sales\n",
            "PREV_CHANNEL_TYPE_Contact center\n",
            "PREV_CHANNEL_TYPE_Country-wide\n",
            "PREV_CHANNEL_TYPE_Credit and cash offices\n",
            "PREV_CHANNEL_TYPE_Regional / Local\n",
            "PREV_CHANNEL_TYPE_Stone\n",
            "PREV_NAME_SELLER_INDUSTRY_Auto technology\n",
            "PREV_NAME_SELLER_INDUSTRY_Clothing\n",
            "PREV_NAME_SELLER_INDUSTRY_Connectivity\n",
            "PREV_NAME_SELLER_INDUSTRY_Construction\n",
            "PREV_NAME_SELLER_INDUSTRY_Consumer electronics\n",
            "PREV_NAME_SELLER_INDUSTRY_Furniture\n",
            "PREV_NAME_SELLER_INDUSTRY_Industry\n",
            "PREV_NAME_SELLER_INDUSTRY_Jewelry\n",
            "PREV_NAME_SELLER_INDUSTRY_MLM partners\n",
            "PREV_NAME_SELLER_INDUSTRY_Tourism\n",
            "PREV_NAME_SELLER_INDUSTRY_XNA\n",
            "PREV_NAME_YIELD_GROUP_XNA\n",
            "PREV_NAME_YIELD_GROUP_high\n",
            "PREV_NAME_YIELD_GROUP_low_action\n",
            "PREV_NAME_YIELD_GROUP_low_normal\n",
            "PREV_NAME_YIELD_GROUP_middle\n",
            "PREV_PRODUCT_COMBINATION_Card Street\n",
            "PREV_PRODUCT_COMBINATION_Card X-Sell\n",
            "PREV_PRODUCT_COMBINATION_Cash\n",
            "PREV_PRODUCT_COMBINATION_Cash Street: high\n",
            "PREV_PRODUCT_COMBINATION_Cash Street: low\n",
            "PREV_PRODUCT_COMBINATION_Cash Street: middle\n",
            "PREV_PRODUCT_COMBINATION_Cash X-Sell: high\n",
            "PREV_PRODUCT_COMBINATION_Cash X-Sell: low\n",
            "PREV_PRODUCT_COMBINATION_Cash X-Sell: middle\n",
            "PREV_PRODUCT_COMBINATION_POS household with interest\n",
            "PREV_PRODUCT_COMBINATION_POS household without interest\n",
            "PREV_PRODUCT_COMBINATION_POS industry with interest\n",
            "PREV_PRODUCT_COMBINATION_POS industry without interest\n",
            "PREV_PRODUCT_COMBINATION_POS mobile with interest\n",
            "PREV_PRODUCT_COMBINATION_POS mobile without interest\n",
            "PREV_PRODUCT_COMBINATION_POS other with interest\n",
            "PREV_PRODUCT_COMBINATION_POS others without interest\n",
            "POS_MONTHS_BALANCE\n",
            "POS_CNT_INSTALMENT\n",
            "POS_CNT_INSTALMENT_FUTURE\n",
            "POS_SK_DPD\n",
            "POS_SK_DPD_DEF\n",
            "POS_NAME_CONTRACT_STATUS_Active\n",
            "POS_NAME_CONTRACT_STATUS_Amortized debt\n",
            "POS_NAME_CONTRACT_STATUS_Approved\n",
            "POS_NAME_CONTRACT_STATUS_Canceled\n",
            "POS_NAME_CONTRACT_STATUS_Completed\n",
            "POS_NAME_CONTRACT_STATUS_Demand\n",
            "POS_NAME_CONTRACT_STATUS_Returned to the store\n",
            "POS_NAME_CONTRACT_STATUS_Signed\n",
            "POS_NAME_CONTRACT_STATUS_XNA\n",
            "INSTA_NUM_INSTALMENT_VERSION_x\n",
            "INSTA_NUM_INSTALMENT_NUMBER_x\n",
            "INSTA_DAYS_INSTALMENT_x\n",
            "INSTA_DAYS_ENTRY_PAYMENT_x\n",
            "INSTA_AMT_INSTALMENT_x\n",
            "INSTA_AMT_PAYMENT_x\n",
            "INSTA_NUM_INSTALMENT_VERSION_y\n",
            "INSTA_NUM_INSTALMENT_NUMBER_y\n",
            "INSTA_DAYS_INSTALMENT_y\n",
            "INSTA_DAYS_ENTRY_PAYMENT_y\n",
            "INSTA_AMT_INSTALMENT_y\n",
            "INSTA_AMT_PAYMENT_y\n",
            "CREDIT_MONTHS_BALANCE\n",
            "CREDIT_AMT_BALANCE\n",
            "CREDIT_AMT_CREDIT_LIMIT_ACTUAL\n",
            "CREDIT_AMT_DRAWINGS_ATM_CURRENT\n",
            "CREDIT_AMT_DRAWINGS_CURRENT\n",
            "CREDIT_AMT_DRAWINGS_OTHER_CURRENT\n",
            "CREDIT_AMT_DRAWINGS_POS_CURRENT\n",
            "CREDIT_AMT_INST_MIN_REGULARITY\n",
            "CREDIT_AMT_PAYMENT_CURRENT\n",
            "CREDIT_AMT_PAYMENT_TOTAL_CURRENT\n",
            "CREDIT_AMT_RECEIVABLE_PRINCIPAL\n",
            "CREDIT_AMT_RECIVABLE\n",
            "CREDIT_AMT_TOTAL_RECEIVABLE\n",
            "CREDIT_CNT_DRAWINGS_ATM_CURRENT\n",
            "CREDIT_CNT_DRAWINGS_CURRENT\n",
            "CREDIT_CNT_DRAWINGS_OTHER_CURRENT\n",
            "CREDIT_CNT_DRAWINGS_POS_CURRENT\n",
            "CREDIT_CNT_INSTALMENT_MATURE_CUM\n",
            "CREDIT_NAME_CONTRACT_STATUS\n",
            "CREDIT_SK_DPD\n",
            "CREDIT_SK_DPD_DEF\n"
          ]
        }
      ]
    },
    {
      "cell_type": "code",
      "source": [
        "print(list_of_columns)"
      ],
      "metadata": {
        "colab": {
          "base_uri": "https://localhost:8080/"
        },
        "id": "06SWL_x7UZRj",
        "outputId": "1d8e6ef0-90ee-4a0c-b2a7-1630cd2dbd8f"
      },
      "execution_count": null,
      "outputs": [
        {
          "output_type": "stream",
          "name": "stdout",
          "text": [
            "['Unnamed: 0.1', 'Unnamed: 0', 'SK_ID_CURR', 'AMT_INCOME_TOTAL', 'AMT_CREDIT', 'AMT_ANNUITY', 'AMT_GOODS_PRICE', 'DAYS_BIRTH', 'DAYS_EMPLOYED', 'DAYS_REGISTRATION', 'DAYS_ID_PUBLISH', 'EXT_SOURCE_1', 'EXT_SOURCE_2', 'EXT_SOURCE_3', 'APARTMENTS_AVG', 'BASEMENTAREA_AVG', 'COMMONAREA_AVG', 'ELEVATORS_AVG', 'FLOORSMAX_AVG', 'FLOORSMIN_AVG', 'LANDAREA_AVG', 'LIVINGAPARTMENTS_AVG', 'LIVINGAREA_AVG', 'NONLIVINGAPARTMENTS_AVG', 'NONLIVINGAREA_AVG', 'APARTMENTS_MODE', 'BASEMENTAREA_MODE', 'COMMONAREA_MODE', 'LANDAREA_MODE', 'LIVINGAPARTMENTS_MODE', 'LIVINGAREA_MODE', 'NONLIVINGAREA_MODE', 'APARTMENTS_MEDI', 'BASEMENTAREA_MEDI', 'COMMONAREA_MEDI', 'LANDAREA_MEDI', 'LIVINGAPARTMENTS_MEDI', 'LIVINGAREA_MEDI', 'NONLIVINGAPARTMENTS_MEDI', 'NONLIVINGAREA_MEDI', 'TOTALAREA_MODE', 'DAYS_LAST_PHONE_CHANGE', 'Percent_Days_employed', 'Annuity_as_percent_income', 'Credit_as_percent_income', 'BUREAU_DAYS_CREDIT', 'BUREAU_CREDIT_DAY_OVERDUE', 'BUREAU_DAYS_CREDIT_ENDDATE', 'BUREAU_DAYS_ENDDATE_FACT', 'BUREAU_AMT_CREDIT_MAX_OVERDUE', 'BUREAU_AMT_CREDIT_SUM', 'BUREAU_AMT_CREDIT_SUM_DEBT', 'BUREAU_AMT_CREDIT_SUM_LIMIT', 'BUREAU_AMT_CREDIT_SUM_OVERDUE', 'BUREAU_DAYS_CREDIT_UPDATE', 'BUREAU_AMT_ANNUITY', 'BUREAU_CREDIT_ACTIVE_Active', 'BUREAU_CREDIT_ACTIVE_Closed', 'DEBT_CREDIT_RATIO', 'OVERDUE_DEBT_RATIO', 'PREV_AMT_ANNUITY', 'PREV_AMT_APPLICATION', 'PREV_AMT_CREDIT', 'PREV_AMT_DOWN_PAYMENT', 'PREV_AMT_GOODS_PRICE', 'PREV_HOUR_APPR_PROCESS_START', 'PREV_RATE_DOWN_PAYMENT', 'PREV_DAYS_DECISION', 'PREV_SELLERPLACE_AREA', 'PREV_CNT_PAYMENT', 'PREV_DAYS_FIRST_DRAWING', 'PREV_DAYS_FIRST_DUE', 'PREV_DAYS_LAST_DUE_1ST_VERSION', 'PREV_DAYS_LAST_DUE', 'PREV_DAYS_TERMINATION', 'PREV_NAME_CONTRACT_STATUS_Approved', 'PREV_NAME_CONTRACT_STATUS_Refused', 'PREV_CODE_REJECT_REASON_XAP', 'POS_MONTHS_BALANCE', 'POS_CNT_INSTALMENT', 'POS_CNT_INSTALMENT_FUTURE', 'POS_SK_DPD', 'POS_SK_DPD_DEF', 'POS_NAME_CONTRACT_STATUS_Active', 'POS_NAME_CONTRACT_STATUS_Completed', 'INSTA_NUM_INSTALMENT_VERSION_x', 'INSTA_NUM_INSTALMENT_NUMBER_x', 'INSTA_DAYS_INSTALMENT_x', 'INSTA_DAYS_ENTRY_PAYMENT_x', 'INSTA_AMT_INSTALMENT_x', 'INSTA_AMT_PAYMENT_x', 'INSTA_NUM_INSTALMENT_VERSION_y', 'INSTA_NUM_INSTALMENT_NUMBER_y', 'INSTA_DAYS_INSTALMENT_y', 'INSTA_DAYS_ENTRY_PAYMENT_y', 'INSTA_AMT_INSTALMENT_y', 'INSTA_AMT_PAYMENT_y', 'CREDIT_AMT_BALANCE', 'CREDIT_AMT_CREDIT_LIMIT_ACTUAL', 'CREDIT_AMT_DRAWINGS_ATM_CURRENT', 'CREDIT_AMT_DRAWINGS_CURRENT', 'CREDIT_AMT_DRAWINGS_OTHER_CURRENT', 'CREDIT_AMT_DRAWINGS_POS_CURRENT', 'CREDIT_AMT_INST_MIN_REGULARITY', 'CREDIT_AMT_PAYMENT_CURRENT', 'CREDIT_AMT_PAYMENT_TOTAL_CURRENT', 'CREDIT_AMT_RECEIVABLE_PRINCIPAL', 'CREDIT_AMT_RECIVABLE', 'CREDIT_AMT_TOTAL_RECEIVABLE', 'CREDIT_CNT_DRAWINGS_ATM_CURRENT', 'CREDIT_CNT_DRAWINGS_CURRENT', 'CREDIT_CNT_DRAWINGS_POS_CURRENT', 'CREDIT_CNT_INSTALMENT_MATURE_CUM', 'CREDIT_SK_DPD', 'CREDIT_SK_DPD_DEF']\n"
          ]
        }
      ]
    },
    {
      "cell_type": "markdown",
      "source": [
        "\n",
        "\n",
        "---\n",
        "\n"
      ],
      "metadata": {
        "id": "q_6IRQkTAil1"
      }
    },
    {
      "cell_type": "code",
      "source": [
        "if==0:\n",
        "def check_data(X, y):\n",
        "    # Check for missing values\n",
        "    if X.isnull().sum().sum() > 0:\n",
        "        print(\"Warning: Input data contains missing values. Imputing...\")\n",
        "        X.fillna(X.median(), inplace=True)\n",
        "        \n",
        "    # Check for invalid values\n",
        "    if X.isin([np.inf, -np.inf]).sum().sum() > 0:\n",
        "        print(\"Warning: Input data contains invalid values. Removing...\")\n",
        "        X = X.replace([np.inf, -np.inf], np.nan).dropna()\n",
        "        y = y.loc[X.index]\n",
        "        \n",
        "    # Check target variable is binary\n",
        "    if set(y.unique()) != set([0, 1]):\n",
        "        raise ValueError(\"Target variable is not binary\")\n",
        "        \n",
        "    return X, y\n",
        "    \n",
        "check_data(X_train, y_train)"
      ],
      "metadata": {
        "id": "FMzd-tXyum8f"
      },
      "execution_count": null,
      "outputs": []
    },
    {
      "cell_type": "markdown",
      "source": [
        "# Pemilihan Fitur menggunakan Nilai Informasi dan Bobot Bukti\n",
        "\n",
        "Ada banyak metode untuk pemilihan fitur. Beberapa di antaranya menyertakan kepentingan fitur menggunakan XGBoost dan RandomForest. Metode lainnya adalah eliminasi maju atau mundur dan Boruta. Di sini kami menggunakan salah satu metode yang paling umum untuk pemilihan fitur, Nilai informasi dan bobot bukti untuk menentukan pemilihan fitur untuk analisis risiko kredit.\n",
        "\n",
        "Kode untuk menghitung IV dan WOE\n",
        "\n"
      ],
      "metadata": {
        "id": "uzFbnqz_e0mG"
      }
    },
    {
      "cell_type": "markdown",
      "source": [
        "![image.png](data:image/png;base64,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)"
      ],
      "metadata": {
        "id": "ad8gmUbWyZBz"
      }
    },
    {
      "cell_type": "code",
      "source": [
        "X_test.info()"
      ],
      "metadata": {
        "id": "gD-xSouLs2AQ",
        "colab": {
          "base_uri": "https://localhost:8080/"
        },
        "outputId": "f0e5f6b0-86fb-448d-ba23-4d866b20c543"
      },
      "execution_count": null,
      "outputs": [
        {
          "output_type": "stream",
          "name": "stdout",
          "text": [
            "<class 'pandas.core.frame.DataFrame'>\n",
            "Int64Index: 61503 entries, 64282 to 175308\n",
            "Columns: 495 entries, Unnamed: 0.1 to CREDIT_SK_DPD_DEF\n",
            "dtypes: bool(2), float64(318), int64(175)\n",
            "memory usage: 231.9 MB\n"
          ]
        }
      ]
    },
    {
      "cell_type": "code",
      "source": [
        "# def calculate_woe_iv(dataset, feature, target):\n",
        "#     lst = []\n",
        "#     for i in range(dataset[feature].nunique()):\n",
        "#         val = list(dataset[feature].unique())[i]\n",
        "#         lst.append({\n",
        "#             'Value': val,\n",
        "#             'All': dataset[dataset[feature] == val].count()[feature],\n",
        "#             'Good': dataset[(dataset[feature] == val) & (dataset[target] == 0)].count()[feature],\n",
        "#             'Bad': dataset[(dataset[feature] == val) & (dataset[target] == 1)].count()[feature]\n",
        "#         })\n",
        "        \n",
        "#     dset = pd.DataFrame(lst)\n",
        "#     dset['Distr_Good'] = dset['Good'] / dset['Good'].sum()\n",
        "#     dset['Distr_Bad'] = dset['Bad'] / dset['Bad'].sum()\n",
        "#     dset['WoE'] = np.log(dset['Distr_Good'] / dset['Distr_Bad'])\n",
        "#     dset = dset.replace({'WoE': {np.inf: 0, -np.inf: 0}})\n",
        "#     dset['IV'] = (dset['Distr_Good'] - dset['Distr_Bad']) * dset['WoE']\n",
        "#     iv = dset['IV'].sum()\n",
        "    \n",
        "#     dset = dset.sort_values(by='WoE')\n",
        "    \n",
        "#     return dset, iv"
      ],
      "metadata": {
        "id": "_W8oAiom9GLZ"
      },
      "execution_count": null,
      "outputs": []
    },
    {
      "cell_type": "code",
      "source": [
        "# for col in application_bureau_prev.columns:\n",
        "#     if col == 'TARGET': continue\n",
        "#     else:\n",
        "#         print('WoE and IV for column: {}'.format(col))\n",
        "#         df, iv = calculate_woe_iv(application_bureau_prev, col, 'TARGET')\n",
        "#         print(df)\n",
        "#         print('IV score: {:.2f}'.format(iv))\n",
        "#         print('\\n')"
      ],
      "metadata": {
        "id": "wFlbt6IZ9wnu"
      },
      "execution_count": null,
      "outputs": []
    },
    {
      "cell_type": "code",
      "source": [
        "#!pip install --upgrade pandas"
      ],
      "metadata": {
        "id": "5gRdlolAY2Eq"
      },
      "execution_count": null,
      "outputs": []
    },
    {
      "cell_type": "code",
      "source": [
        "gc.collect()"
      ],
      "metadata": {
        "colab": {
          "base_uri": "https://localhost:8080/"
        },
        "id": "OigX302oiPcl",
        "outputId": "5c6c5a31-d1be-49dd-f1bc-2be413c1bfc5"
      },
      "execution_count": null,
      "outputs": [
        {
          "output_type": "execute_result",
          "data": {
            "text/plain": [
              "0"
            ]
          },
          "metadata": {},
          "execution_count": 23
        }
      ]
    },
    {
      "cell_type": "code",
      "source": [
        "# if==0:\n",
        "# DO NOT RUN\n",
        "# # to check monotonicity of a series\n",
        "# def is_monotonic(temp_series):\n",
        "#     return all(temp_series[i] <= temp_series[i + 1] for i in range(len(temp_series) - 1)) or all(temp_series[i] >= temp_series[i + 1] for i in range(len(temp_series) - 1))\n",
        "\n",
        "# def prepare_bins(bin_data, c_i, target_col, max_bins):\n",
        "#     force_bin = True\n",
        "#     binned = False\n",
        "#     remarks = np.nan\n",
        "#     # ----------------- Monotonic binning -----------------\n",
        "#     for n_bins in range(max_bins, 2, -1):\n",
        "#         try:\n",
        "#             bin_data[c_i + \"_bins\"] = pd.qcut(bin_data[c_i], n_bins, duplicates=\"drop\")\n",
        "#             monotonic_series = bin_data.groupby(c_i + \"_bins\")[target_col].mean().reset_index(drop=True)\n",
        "#             if is_monotonic(monotonic_series):\n",
        "#                 force_bin = False\n",
        "#                 binned = True\n",
        "#                 remarks = \"binned monotonically\"\n",
        "#                 break\n",
        "#         except:\n",
        "#             pass\n",
        "#     # ----------------- Force binning -----------------\n",
        "#     # creating 2 bins forcefully because 2 bins will always be monotonic\n",
        "#     if force_bin or (c_i + \"_bins\" in bin_data and bin_data[c_i + \"_bins\"].nunique() < 2):\n",
        "#         _min=bin_data[c_i].min()\n",
        "#         _mean=bin_data[c_i].mean()\n",
        "#         _max=bin_data[c_i].max()\n",
        "#         bin_data[c_i + \"_bins\"] = pd.cut(bin_data[c_i], [_min, _mean, _max], include_lowest=True)\n",
        "#         if bin_data[c_i + \"_bins\"].nunique() == 2:\n",
        "#             binned = True\n",
        "#             remarks = \"binned forcefully\"\n",
        "    \n",
        "#     if binned:\n",
        "#         return c_i + \"_bins\", remarks, bin_data[[c_i, c_i+\"_bins\", target_col]].copy()\n",
        "#     else:\n",
        "#         remarks = \"couldn't bin\"\n",
        "#         return c_i, remarks, bin_data[[c_i, target_col]].copy()\n",
        "\n",
        "# # calculate WOE and IV for every group/bin/class for a provided feature\n",
        "# def iv_woe_4iter(binned_data, target_col, class_col):\n",
        "#     if \"_bins\" in class_col:\n",
        "#         binned_data[class_col] = binned_data[class_col].cat.add_categories(['Missing'])\n",
        "#         binned_data[class_col] = binned_data[class_col].fillna(\"Missing\")\n",
        "#         temp_groupby = binned_data.groupby(class_col).agg({class_col.replace(\"_bins\", \"\"):[\"min\", \"max\"],\n",
        "#                                                            target_col: [\"count\", \"sum\", \"mean\"]}).reset_index()\n",
        "#     else:\n",
        "#         binned_data[class_col] = binned_data[class_col].fillna(\"Missing\")\n",
        "#         temp_groupby = binned_data.groupby(class_col).agg({class_col:[\"first\", \"first\"],\n",
        "#                                                            target_col: [\"count\", \"sum\", \"mean\"]}).reset_index()\n",
        "    \n",
        "#     temp_groupby.columns = [\"sample_class\", \"min_value\", \"max_value\", \"sample_count\", \"event_count\", \"event_rate\"]\n",
        "#     temp_groupby[\"non_event_count\"] = temp_groupby[\"sample_count\"] - temp_groupby[\"event_count\"]\n",
        "#     temp_groupby[\"non_event_rate\"] = 1 - temp_groupby[\"event_rate\"]\n",
        "#     temp_groupby = temp_groupby[[\"sample_class\", \"min_value\", \"max_value\", \"sample_count\",\n",
        "#                                  \"non_event_count\", \"non_event_rate\", \"event_count\", \"event_rate\"]]\n",
        "    \n",
        "#     if \"_bins\" not in class_col and \"Missing\" in temp_groupby[\"min_value\"]:\n",
        "#         temp_groupby[\"min_value\"] = temp_groupby[\"min_value\"].replace({\"Missing\": np.nan})\n",
        "#         temp_groupby[\"max_value\"] = temp_groupby[\"max_value\"].replace({\"Missing\": np.nan})\n",
        "#     temp_groupby[\"feature\"] = class_col\n",
        "#     if \"_bins\" in class_col:\n",
        "#         temp_groupby[\"sample_class_label\"]=temp_groupby[\"sample_class\"].replace({\"Missing\": np.nan}).astype('category').cat.codes.replace({-1: np.nan})\n",
        "#     else:\n",
        "#         temp_groupby[\"sample_class_label\"]=np.nan\n",
        "#     temp_groupby = temp_groupby[[\"feature\", \"sample_class\", \"sample_class_label\", \"sample_count\", \"min_value\", \"max_value\",\n",
        "#                                  \"non_event_count\", \"non_event_rate\", \"event_count\", \"event_rate\"]]\n",
        "    \n",
        "#     \"\"\"\n",
        "#     **********get distribution of good and bad\n",
        "#     \"\"\"\n",
        "#     temp_groupby['distbn_non_event'] = temp_groupby[\"non_event_count\"]/temp_groupby[\"non_event_count\"].sum()\n",
        "#     temp_groupby['distbn_event'] = temp_groupby[\"event_count\"]/temp_groupby[\"event_count\"].sum()\n",
        "\n",
        "#     temp_groupby['woe'] = np.log(temp_groupby['distbn_non_event'] / temp_groupby['distbn_event'])\n",
        "#     temp_groupby['iv'] = (temp_groupby['distbn_non_event'] - temp_groupby['distbn_event']) * temp_groupby['woe']\n",
        "    \n",
        "#     temp_groupby[\"woe\"] = temp_groupby[\"woe\"].replace([np.inf,-np.inf],0)\n",
        "#     temp_groupby[\"iv\"] = temp_groupby[\"iv\"].replace([np.inf,-np.inf],0)\n",
        "    \n",
        "#     return temp_groupby\n",
        "\n",
        "# \"\"\"\n",
        "# - iterate over all features.\n",
        "# - calculate WOE & IV for there classes.\n",
        "# - append to one DataFrame woe_iv.\n",
        "# \"\"\"\n",
        "# def var_iter(data, target_col, max_bins):\n",
        "#     woe_iv = pd.DataFrame()\n",
        "#     remarks_list = []\n",
        "#     for c_i in data.columns:\n",
        "#         if c_i not in [target_col]:\n",
        "#             # check if binning is required. if yes, then prepare bins and calculate woe and iv.\n",
        "#             \"\"\"\n",
        "#             ----logic---\n",
        "#             binning is done only when feature is continuous and non-binary.\n",
        "#             Note: Make sure dtype of continuous columns in dataframe is not object.\n",
        "#             \"\"\"\n",
        "#             c_i_start_time=time.time()\n",
        "#             if np.issubdtype(data[c_i], np.number) and data[c_i].nunique() > 2:\n",
        "#                 class_col, remarks, binned_data = prepare_bins(data[[c_i, target_col]].copy(), c_i, target_col, max_bins)\n",
        "#                 agg_data = iv_woe_4iter(binned_data.copy(), target_col, class_col)\n",
        "#                 remarks_list.append({\"feature\": c_i, \"remarks\": remarks})\n",
        "#             else:\n",
        "#                 agg_data = iv_woe_4iter(data[[c_i, target_col]].copy(), target_col, c_i)\n",
        "#                 remarks_list.append({\"feature\": c_i, \"remarks\": \"categorical\"})\n",
        "#             # print(\"---{} seconds. c_i: {}----\".format(round(time.time() - c_i_start_time, 2), c_i))\n",
        "#             woe_iv = woe_iv.append(agg_data)\n",
        "#     return woe_iv, pd.DataFrame(remarks_list)\n",
        "\n",
        "# # after getting woe and iv for all classes of features calculate aggregated IV values for features.\n",
        "# def get_iv_woe(data, target_col, max_bins):\n",
        "#     func_start_time = time.time()\n",
        "#     woe_iv, binning_remarks = var_iter(data, target_col, max_bins)\n",
        "#     print(\"------------------IV and WOE calculated for individual groups.------------------\")\n",
        "#     print(\"Total time elapsed: {} minutes\".format(round((time.time() - func_start_time) / 60, 3)))\n",
        "    \n",
        "#     woe_iv[\"feature\"] = woe_iv[\"feature\"].replace(\"_bins\", \"\", regex=True)    \n",
        "#     woe_iv = woe_iv[[\"feature\", \"sample_class\", \"sample_class_label\", \"sample_count\", \"min_value\", \"max_value\",\n",
        "#                      \"non_event_count\", \"non_event_rate\", \"event_count\", \"event_rate\", 'distbn_non_event',\n",
        "#                      'distbn_event', 'woe', 'iv']]\n",
        "    \n",
        "#     iv = woe_iv.groupby(\"feature\")[[\"iv\"]].agg([\"sum\", \"count\"]).reset_index()\n",
        "#     print(\"------------------Aggregated IV values for features calculated.------------------\")\n",
        "#     print(\"Total time elapsed: {} minutes\".format(round((time.time() - func_start_time) / 60, 3)))\n",
        "    \n",
        "#     iv.columns = [\"feature\", \"iv\", \"number_of_classes\"]\n",
        "#     null_percent_data=pd.DataFrame(data.isnull().mean()).reset_index()\n",
        "#     null_percent_data.columns=[\"feature\", \"feature_null_percent\"]\n",
        "#     iv=iv.merge(null_percent_data, on=\"feature\", how=\"left\")\n",
        "#     print(\"------------------Null percent calculated in features.------------------\")\n",
        "#     print(\"Total time elapsed: {} minutes\".format(round((time.time() - func_start_time) / 60, 3)))\n",
        "#     iv = iv.merge(binning_remarks, on=\"feature\", how=\"left\")\n",
        "#     woe_iv = woe_iv.merge(iv[[\"feature\", \"iv\", \"remarks\"]].rename(columns={\"iv\": \"iv_sum\"}), on=\"feature\", how=\"left\")\n",
        "#     print(\"------------------Binning remarks added and process is complete.------------------\")\n",
        "#     print(\"Total time elapsed: {} minutes\".format(round((time.time() - func_start_time) / 60, 3)))\n",
        "#     return iv, woe_iv.replace({\"Missing\": np.nan})"
      ],
      "metadata": {
        "id": "xT6xJJS8ovF8"
      },
      "execution_count": null,
      "outputs": []
    },
    {
      "cell_type": "code",
      "source": [
        "# if==0:\n",
        "# DO NOT RUN\n",
        "# import pandas as pd, numpy as np, os, re, math, time\n",
        "# iv, woe_iv = get_iv_woe(X_train.copy(), target_col=y_train, max_bins=20)\n",
        "# print(iv.shape, woe_iv.shape)"
      ],
      "metadata": {
        "id": "tw0aesdtox2Q"
      },
      "execution_count": null,
      "outputs": []
    },
    {
      "cell_type": "markdown",
      "source": [
        "*   IV for column: AMT_ANNUITY 0.5\n",
        "*   IV for column: AMT_GOODS_PRICE 0.13\n",
        "*   IV for column: DAYS_BIRTH   0.39\n",
        "DAYS_EMPLOYED                                                           \n",
        "IV score: 0.26\n",
        "DAYS_REGISTRATION                      IV score: 0.33\n",
        "DAYS_ID_PUBLISH IV score: 0.27\n",
        "EXT_SOURCE_1 IV score: 0.51\n",
        "EXT_SOURCE_2 IV score: 0.96\n",
        "EXT_SOURCE_3 IV score: 0.47\n",
        "BASEMENTAREA_AVG IV score: 0.23\n",
        "COMMONAREA_AVG IV score: 0.20\n",
        "LANDAREA_AVG IV score: 0.22\n",
        "LIVINGAPARTMENTS_AVG IV score: 0.12\n",
        "LIVINGAREA_AVG IV score: 0.24\n",
        "NONLIVINGAREA_AVG IV score: 0.14\n",
        "BASEMENTAREA_MODE IV score: 0.23\n",
        "COMMONAREA_MODE IV score: 0.21\n",
        "LANDAREA_MODE IV score: 0.22\n",
        "LIVINGAREA_MODE IV score: 0.24\n",
        "NONLIVINGAREA_MODE IV score: 0.14\n",
        "BASEMENTAREA_MEDI IV score: 0.23\n",
        "NONLIVINGAREA_MEDI IV score: 0.14\n",
        "TOTALAREA_MODE IV score: 0.23\n",
        "DAYS_LAST_PHONE_CHANGE IV score: 0.17\n",
        "Annuity_as_percent_income  IV score: 0.71\n",
        "Credit_as_percent_income IV score: 0.44\n",
        "BUREAU_DAYS_CREDIT IV score: 0.52\n",
        "BUREAU_DAYS_CREDIT_ENDDATE IV score: 0.52\n",
        "BUREAU_DAYS_ENDDATE_FACT IV score: 0.36\n",
        "BUREAU_AMT_CREDIT_SUM            IV score: 0.21\n",
        "BUREAU_AMT_CREDIT_SUM_DEBT            IV score: 0.18\n",
        "BUREAU_DAYS_CREDIT_UPDATE IV score: 0.45\n",
        "BUREAU_CREDIT_ACTIVE_Closed  IV score: 0.11\n",
        "PREV_AMT_ANNUITY\n",
        "IV score: 0.25\n",
        "PREV_AMT_APPLICATION            \n",
        "IV score: 0.52\n",
        "PREV_AMT_CREDIT\n",
        "IV score: 0.59\n",
        "PREV_AMT_DOWN_PAYMENT \n",
        "IV score: 0.27\n",
        "PREV_AMT_GOODS_PRICE                                                    \n",
        "IV score: 0.55\n",
        "PREV_RATE_DOWN_PAYMENT       0.15  \n",
        "PREV_DAYS_DECISION       0.52\n",
        "PREV_SELLERPLACE_AREA            IV score: 0.32\n",
        "PREV_DAYS_FIRST_DRAWING   IV score: 0.24\n",
        "PREV_DAYS_FIRST_DUE  IV score: 0.43\n",
        "PREV_DAYS_LAST_DUE_1ST_VERSION        IV score: 0.56\n",
        "PREV_DAYS_LAST_DUE       0.52\n",
        "PREV_DAYS_TERMINATION        IV score: 0.50\n",
        "POS_CNT_INSTALMENT         IV score: 0.33  \n",
        "POS_CNT_INSTALMENT_FUTURE IV score: 0.34\n",
        "INSTA_NUM_INSTALMENT_VERSION_x    IV score: 0.19\n",
        "INSTA_NUM_INSTALMENT_NUMBER_x  IV score: 0.32\n",
        "INSTA_DAYS_INSTALMENT_x IV score: 0.40\n",
        "INSTA_DAYS_ENTRY_PAYMENT_x IV score: 0.56\n",
        "INSTA_NUM_INSTALMENT_VERSION_y IV score: 0.20\n",
        "INSTA_NUM_INSTALMENT_NUMBER_y IV score: 0.32\n",
        "INSTA_DAYS_INSTALMENT_y            0.41 \n",
        "INSTA_DAYS_ENTRY_PAYMENT_y             IV score: 0.57\n",
        "CREDIT_AMT_DRAWINGS_ATM_CURRENT          IV score: 0.15\n",
        "CREDIT_CNT_DRAWINGS_ATM_CURRENT           IV score: 0.11\n",
        "CREDIT_CNT_DRAWINGS_CURRENT            IV score: 0.14\n",
        "CREDIT_CNT_INSTALMENT_MATURE_CUM             IV score: 0.13\n"
      ],
      "metadata": {
        "id": "lDZ_sBqQ8923"
      }
    },
    {
      "cell_type": "code",
      "source": [
        "# #dalam kasus Nilai informasi, prediksi dengan nilai informasi <0,02 tidak berguna untuk prediksi,\n",
        "# #juga nilai informasi 0,02-0,1 akan menjadi prediksi yang lemah\n",
        "# #jadi kita hanya akan mempertimbangkan kolom dengan IV > 0,1.\n",
        "\n",
        "# list_of_columns=IV[IV['IV'] > 0.1]['VAR_NAME'].to_list()\n",
        "# print(len(list_of_columns))"
      ],
      "metadata": {
        "id": "mTikplXEfkHy"
      },
      "execution_count": null,
      "outputs": []
    },
    {
      "cell_type": "code",
      "source": [
        "#Kami menemukan bahwa hanya 115 kolom yang sudah dijelaskan sebelumnya yang efisien dalam memprediksi default oleh pelanggan. \n",
        "#Oleh karena itu kami hanya akan mempertimbangkan kolom tersebut\n",
        "\n",
        "# X_train_selected_features['SK_ID_CURR'] = X_train['SK_ID_CURR'].copy()\n",
        "# X_test_selected_features['SK_ID_CURR'] = X_test['SK_ID_CURR'].copy()\n",
        "X_train_selected_features = X_train.loc[:, list_of_columns].copy()\n",
        "X_test_selected_features = X_test.loc[:, list_of_columns].copy()\n",
        "\n",
        "# application_bureau_prev_test_selected_features['SK_ID_CURR'] = application_bureau_prev_test['SK_ID_CURR'].copy()\n",
        "application_bureau_prev_test_selected_features = application_bureau_prev_test.loc[:, list_of_columns].copy()\n"
      ],
      "metadata": {
        "id": "1Vnc0N3Cftx-"
      },
      "execution_count": null,
      "outputs": []
    },
    {
      "cell_type": "code",
      "source": [
        "X_train_selected_features.columns"
      ],
      "metadata": {
        "id": "aw0m7JIViGLi",
        "outputId": "b0305bb4-8ca8-4306-ec70-aac221d400bf",
        "colab": {
          "base_uri": "https://localhost:8080/",
          "height": 171
        }
      },
      "execution_count": null,
      "outputs": [
        {
          "output_type": "error",
          "ename": "NameError",
          "evalue": "ignored",
          "traceback": [
            "\u001b[0;31m---------------------------------------------------------------------------\u001b[0m",
            "\u001b[0;31mNameError\u001b[0m                                 Traceback (most recent call last)",
            "\u001b[0;32m<ipython-input-1-813b32e2ba9d>\u001b[0m in \u001b[0;36m<cell line: 1>\u001b[0;34m()\u001b[0m\n\u001b[0;32m----> 1\u001b[0;31m \u001b[0mX_train_selected_features\u001b[0m\u001b[0;34m.\u001b[0m\u001b[0mcolumns\u001b[0m\u001b[0;34m\u001b[0m\u001b[0;34m\u001b[0m\u001b[0m\n\u001b[0m",
            "\u001b[0;31mNameError\u001b[0m: name 'X_train_selected_features' is not defined"
          ]
        }
      ]
    },
    {
      "cell_type": "code",
      "source": [
        "gc.collect()"
      ],
      "metadata": {
        "id": "3rG7lgudIrJk",
        "colab": {
          "base_uri": "https://localhost:8080/"
        },
        "outputId": "b8ddadb2-53af-485a-a040-58ccdcc1402e"
      },
      "execution_count": null,
      "outputs": [
        {
          "output_type": "execute_result",
          "data": {
            "text/plain": [
              "0"
            ]
          },
          "metadata": {},
          "execution_count": 25
        }
      ]
    },
    {
      "cell_type": "code",
      "source": [
        "X_train_selected_features.to_csv('X_train_hci.csv')\n",
        "X_test_selected_features.to_csv('X_test_hci.csv')\n",
        "y_train.to_csv('y_train_hci.csv')\n",
        "y_test.to_csv('y_test_hci.csv')\n",
        "application_bureau_prev_test_selected_features.to_csv('application_bureau_prev_test_selected_features.csv')\n"
      ],
      "metadata": {
        "id": "gtVClxiS8Pn2"
      },
      "execution_count": null,
      "outputs": []
    },
    {
      "cell_type": "code",
      "source": [
        "!mv /content/X_train_hci.csv /content/drive/MyDrive/Colab\\ Notebooks\n",
        "!mv /content/X_test_hci.csv /content/drive/MyDrive/Colab\\ Notebooks\n",
        "!mv /content/y_train_hci.csv /content/drive/MyDrive/Colab\\ Notebooks\n",
        "!mv /content/y_test_hci.csv /content/drive/MyDrive/Colab\\ Notebooks\n",
        "!mv /content/application_bureau_prev_test_selected_features.csv /content/drive/MyDrive/Colab\\ Notebooks"
      ],
      "metadata": {
        "id": "LPCJIaff8TIb"
      },
      "execution_count": null,
      "outputs": []
    },
    {
      "cell_type": "markdown",
      "source": [
        "\n",
        "out of RAM \n",
        "\n",
        "\n",
        "---\n",
        "\n"
      ],
      "metadata": {
        "id": "nM_9tYBHxdL8"
      }
    },
    {
      "cell_type": "markdown",
      "source": [
        "# Imputasi Data sebelum menerapkan algoritma pembelajaran mesin\n",
        "Ada banyak cara untuk menangani nilai yang hilang.\n",
        "\n",
        " Kita dapat menggunakan fillna() dan mengganti nilai yang hilang dengan rata-rata data, median, atau nilai paling sering. Pendekatan yang akan kita gunakan di bawah ini adalah Iterative Imputer. Iterative imputer akan menganggap variabel yang hilang sebagai variabel dependen dan semua fitur lainnya akan menjadi variabel independen. Kemudian akan menerapkan regresi dan variabel independen akan digunakan untuk menentukan variabel dependen (yang merupakan fitur yang hilang)."
      ],
      "metadata": {
        "id": "b-y7oE0zf1Q4"
      }
    },
    {
      "cell_type": "code",
      "source": [
        "gc.collect()"
      ],
      "metadata": {
        "colab": {
          "base_uri": "https://localhost:8080/"
        },
        "id": "sGPC7odYx8S4",
        "outputId": "d4bc22b3-763e-4757-e9c2-21ba0e3fe51d"
      },
      "execution_count": null,
      "outputs": [
        {
          "output_type": "execute_result",
          "data": {
            "text/plain": [
              "3422"
            ]
          },
          "metadata": {},
          "execution_count": 19
        }
      ]
    },
    {
      "cell_type": "code",
      "source": [
        "from sklearn.experimental import enable_iterative_imputer\n",
        "from sklearn.impute import IterativeImputer\n",
        "from sklearn.linear_model import BayesianRidge, Ridge\n",
        "\n",
        "imputer = IterativeImputer(BayesianRidge())\n",
        "X_train_imputed = pd.DataFrame(imputer.fit_transform(X_train_selected_features))\n",
        "X_train_imputed.columns = X_train_selected_features.columns\n",
        "\n",
        "imputer = IterativeImputer(BayesianRidge())\n",
        "application_bureau_prev_test_selected_features_subset1=application_bureau_prev_test_selected_features.iloc[:, np.r_[62,0:30]]\n",
        "app_bur_prev_test_imputed_subset1 = pd.DataFrame(imputer.fit_transform(application_bureau_prev_test_selected_features_subset1))\n",
        "app_bur_prev_test_imputed_subset1.columns = application_bureau_prev_test_selected_features_subset1.columns\n",
        "\n",
        "application_bureau_prev_test_selected_features_subset2=application_bureau_prev_test_selected_features.iloc[:, np.r_[31:63]]\n",
        "app_bur_prev_test_imputed_subset2 = pd.DataFrame(imputer.fit_transform(application_bureau_prev_test_selected_features_subset2))\n",
        "app_bur_prev_test_imputed_subset2.columns = application_bureau_prev_test_selected_features_subset2.columns\n",
        "\n",
        "app_bur_prev_test_imputed=pd.merge(app_bur_prev_test_imputed_subset1, app_bur_prev_test_imputed_subset2, on= 'SK_ID_CURR')\n",
        "\n",
        "imputer = IterativeImputer(BayesianRidge())\n",
        "X_test_imputed = pd.DataFrame(imputer.fit_transform(X_test_selected_features))\n",
        "X_test_imputed.columns = X_test_selected_features.columns\n",
        "\n",
        "print(X_test_imputed.shape)\n",
        "print(X_train_imputed.shape)\n",
        "print(app_bur_prev_test_imputed.shape)"
      ],
      "metadata": {
        "id": "XQwFy0VQf9BL",
        "colab": {
          "base_uri": "https://localhost:8080/",
          "height": 412
        },
        "outputId": "8b4c7b73-48fb-4612-aba3-79d71a999bc3"
      },
      "execution_count": null,
      "outputs": [
        {
          "output_type": "error",
          "ename": "KeyboardInterrupt",
          "evalue": "ignored",
          "traceback": [
            "\u001b[0;31m---------------------------------------------------------------------------\u001b[0m",
            "\u001b[0;31mKeyboardInterrupt\u001b[0m                         Traceback (most recent call last)",
            "\u001b[0;32m<ipython-input-18-b31f6f6ca1eb>\u001b[0m in \u001b[0;36m<cell line: 6>\u001b[0;34m()\u001b[0m\n\u001b[1;32m      4\u001b[0m \u001b[0;34m\u001b[0m\u001b[0m\n\u001b[1;32m      5\u001b[0m \u001b[0mimputer\u001b[0m \u001b[0;34m=\u001b[0m \u001b[0mIterativeImputer\u001b[0m\u001b[0;34m(\u001b[0m\u001b[0mBayesianRidge\u001b[0m\u001b[0;34m(\u001b[0m\u001b[0;34m)\u001b[0m\u001b[0;34m)\u001b[0m\u001b[0;34m\u001b[0m\u001b[0;34m\u001b[0m\u001b[0m\n\u001b[0;32m----> 6\u001b[0;31m \u001b[0mX_train_imputed\u001b[0m \u001b[0;34m=\u001b[0m \u001b[0mpd\u001b[0m\u001b[0;34m.\u001b[0m\u001b[0mDataFrame\u001b[0m\u001b[0;34m(\u001b[0m\u001b[0mimputer\u001b[0m\u001b[0;34m.\u001b[0m\u001b[0mfit_transform\u001b[0m\u001b[0;34m(\u001b[0m\u001b[0mX_train_selected_features\u001b[0m\u001b[0;34m)\u001b[0m\u001b[0;34m)\u001b[0m\u001b[0;34m\u001b[0m\u001b[0;34m\u001b[0m\u001b[0m\n\u001b[0m\u001b[1;32m      7\u001b[0m \u001b[0mX_train_imputed\u001b[0m\u001b[0;34m.\u001b[0m\u001b[0mcolumns\u001b[0m \u001b[0;34m=\u001b[0m \u001b[0mX_train_selected_features\u001b[0m\u001b[0;34m.\u001b[0m\u001b[0mcolumns\u001b[0m\u001b[0;34m\u001b[0m\u001b[0;34m\u001b[0m\u001b[0m\n\u001b[1;32m      8\u001b[0m \u001b[0;34m\u001b[0m\u001b[0m\n",
            "\u001b[0;32m/usr/local/lib/python3.10/dist-packages/sklearn/utils/_set_output.py\u001b[0m in \u001b[0;36mwrapped\u001b[0;34m(self, X, *args, **kwargs)\u001b[0m\n\u001b[1;32m    138\u001b[0m     \u001b[0;34m@\u001b[0m\u001b[0mwraps\u001b[0m\u001b[0;34m(\u001b[0m\u001b[0mf\u001b[0m\u001b[0;34m)\u001b[0m\u001b[0;34m\u001b[0m\u001b[0;34m\u001b[0m\u001b[0m\n\u001b[1;32m    139\u001b[0m     \u001b[0;32mdef\u001b[0m \u001b[0mwrapped\u001b[0m\u001b[0;34m(\u001b[0m\u001b[0mself\u001b[0m\u001b[0;34m,\u001b[0m \u001b[0mX\u001b[0m\u001b[0;34m,\u001b[0m \u001b[0;34m*\u001b[0m\u001b[0margs\u001b[0m\u001b[0;34m,\u001b[0m \u001b[0;34m**\u001b[0m\u001b[0mkwargs\u001b[0m\u001b[0;34m)\u001b[0m\u001b[0;34m:\u001b[0m\u001b[0;34m\u001b[0m\u001b[0;34m\u001b[0m\u001b[0m\n\u001b[0;32m--> 140\u001b[0;31m         \u001b[0mdata_to_wrap\u001b[0m \u001b[0;34m=\u001b[0m \u001b[0mf\u001b[0m\u001b[0;34m(\u001b[0m\u001b[0mself\u001b[0m\u001b[0;34m,\u001b[0m \u001b[0mX\u001b[0m\u001b[0;34m,\u001b[0m \u001b[0;34m*\u001b[0m\u001b[0margs\u001b[0m\u001b[0;34m,\u001b[0m \u001b[0;34m**\u001b[0m\u001b[0mkwargs\u001b[0m\u001b[0;34m)\u001b[0m\u001b[0;34m\u001b[0m\u001b[0;34m\u001b[0m\u001b[0m\n\u001b[0m\u001b[1;32m    141\u001b[0m         \u001b[0;32mif\u001b[0m \u001b[0misinstance\u001b[0m\u001b[0;34m(\u001b[0m\u001b[0mdata_to_wrap\u001b[0m\u001b[0;34m,\u001b[0m \u001b[0mtuple\u001b[0m\u001b[0;34m)\u001b[0m\u001b[0;34m:\u001b[0m\u001b[0;34m\u001b[0m\u001b[0;34m\u001b[0m\u001b[0m\n\u001b[1;32m    142\u001b[0m             \u001b[0;31m# only wrap the first output for cross decomposition\u001b[0m\u001b[0;34m\u001b[0m\u001b[0;34m\u001b[0m\u001b[0m\n",
            "\u001b[0;32m/usr/local/lib/python3.10/dist-packages/sklearn/impute/_iterative.py\u001b[0m in \u001b[0;36mfit_transform\u001b[0;34m(self, X, y)\u001b[0m\n\u001b[1;32m    748\u001b[0m                     \u001b[0mn_features\u001b[0m\u001b[0;34m,\u001b[0m \u001b[0mfeat_idx\u001b[0m\u001b[0;34m,\u001b[0m \u001b[0mabs_corr_mat\u001b[0m\u001b[0;34m\u001b[0m\u001b[0;34m\u001b[0m\u001b[0m\n\u001b[1;32m    749\u001b[0m                 )\n\u001b[0;32m--> 750\u001b[0;31m                 Xt, estimator = self._impute_one_feature(\n\u001b[0m\u001b[1;32m    751\u001b[0m                     \u001b[0mXt\u001b[0m\u001b[0;34m,\u001b[0m\u001b[0;34m\u001b[0m\u001b[0;34m\u001b[0m\u001b[0m\n\u001b[1;32m    752\u001b[0m                     \u001b[0mmask_missing_values\u001b[0m\u001b[0;34m,\u001b[0m\u001b[0;34m\u001b[0m\u001b[0;34m\u001b[0m\u001b[0m\n",
            "\u001b[0;32m/usr/local/lib/python3.10/dist-packages/sklearn/impute/_iterative.py\u001b[0m in \u001b[0;36m_impute_one_feature\u001b[0;34m(self, X_filled, mask_missing_values, feat_idx, neighbor_feat_idx, estimator, fit_mode)\u001b[0m\n\u001b[1;32m    399\u001b[0m                 \u001b[0maxis\u001b[0m\u001b[0;34m=\u001b[0m\u001b[0;36m0\u001b[0m\u001b[0;34m,\u001b[0m\u001b[0;34m\u001b[0m\u001b[0;34m\u001b[0m\u001b[0m\n\u001b[1;32m    400\u001b[0m             )\n\u001b[0;32m--> 401\u001b[0;31m             \u001b[0mestimator\u001b[0m\u001b[0;34m.\u001b[0m\u001b[0mfit\u001b[0m\u001b[0;34m(\u001b[0m\u001b[0mX_train\u001b[0m\u001b[0;34m,\u001b[0m \u001b[0my_train\u001b[0m\u001b[0;34m)\u001b[0m\u001b[0;34m\u001b[0m\u001b[0;34m\u001b[0m\u001b[0m\n\u001b[0m\u001b[1;32m    402\u001b[0m \u001b[0;34m\u001b[0m\u001b[0m\n\u001b[1;32m    403\u001b[0m         \u001b[0;31m# if no missing values, don't predict\u001b[0m\u001b[0;34m\u001b[0m\u001b[0;34m\u001b[0m\u001b[0m\n",
            "\u001b[0;32m/usr/local/lib/python3.10/dist-packages/sklearn/linear_model/_bayes.py\u001b[0m in \u001b[0;36mfit\u001b[0;34m(self, X, y, sample_weight)\u001b[0m\n\u001b[1;32m    271\u001b[0m \u001b[0;34m\u001b[0m\u001b[0m\n\u001b[1;32m    272\u001b[0m         \u001b[0mXT_y\u001b[0m \u001b[0;34m=\u001b[0m \u001b[0mnp\u001b[0m\u001b[0;34m.\u001b[0m\u001b[0mdot\u001b[0m\u001b[0;34m(\u001b[0m\u001b[0mX\u001b[0m\u001b[0;34m.\u001b[0m\u001b[0mT\u001b[0m\u001b[0;34m,\u001b[0m \u001b[0my\u001b[0m\u001b[0;34m)\u001b[0m\u001b[0;34m\u001b[0m\u001b[0;34m\u001b[0m\u001b[0m\n\u001b[0;32m--> 273\u001b[0;31m         \u001b[0mU\u001b[0m\u001b[0;34m,\u001b[0m \u001b[0mS\u001b[0m\u001b[0;34m,\u001b[0m \u001b[0mVh\u001b[0m \u001b[0;34m=\u001b[0m \u001b[0mlinalg\u001b[0m\u001b[0;34m.\u001b[0m\u001b[0msvd\u001b[0m\u001b[0;34m(\u001b[0m\u001b[0mX\u001b[0m\u001b[0;34m,\u001b[0m \u001b[0mfull_matrices\u001b[0m\u001b[0;34m=\u001b[0m\u001b[0;32mFalse\u001b[0m\u001b[0;34m)\u001b[0m\u001b[0;34m\u001b[0m\u001b[0;34m\u001b[0m\u001b[0m\n\u001b[0m\u001b[1;32m    274\u001b[0m         \u001b[0meigen_vals_\u001b[0m \u001b[0;34m=\u001b[0m \u001b[0mS\u001b[0m\u001b[0;34m**\u001b[0m\u001b[0;36m2\u001b[0m\u001b[0;34m\u001b[0m\u001b[0;34m\u001b[0m\u001b[0m\n\u001b[1;32m    275\u001b[0m \u001b[0;34m\u001b[0m\u001b[0m\n",
            "\u001b[0;32m/usr/local/lib/python3.10/dist-packages/scipy/linalg/_decomp_svd.py\u001b[0m in \u001b[0;36msvd\u001b[0;34m(a, full_matrices, compute_uv, overwrite_a, check_finite, lapack_driver)\u001b[0m\n\u001b[1;32m    125\u001b[0m \u001b[0;34m\u001b[0m\u001b[0m\n\u001b[1;32m    126\u001b[0m     \u001b[0;31m# perform decomposition\u001b[0m\u001b[0;34m\u001b[0m\u001b[0;34m\u001b[0m\u001b[0m\n\u001b[0;32m--> 127\u001b[0;31m     u, s, v, info = gesXd(a1, compute_uv=compute_uv, lwork=lwork,\n\u001b[0m\u001b[1;32m    128\u001b[0m                           full_matrices=full_matrices, overwrite_a=overwrite_a)\n\u001b[1;32m    129\u001b[0m \u001b[0;34m\u001b[0m\u001b[0m\n",
            "\u001b[0;31mKeyboardInterrupt\u001b[0m: "
          ]
        }
      ]
    },
    {
      "cell_type": "markdown",
      "source": [
        "Sejajarkan kerangka data pelatihan dan pengujian, pertahankan hanya kolom yang ada di kedua kerangka data Kita lihat di atas bahwa jumlah kolom dalam test dan training set tidak sama."
      ],
      "metadata": {
        "id": "DdWjT-7fgCDr"
      }
    },
    {
      "cell_type": "code",
      "source": [
        "X_train_imputed, app_bur_prev_test_imputed  = app_bur_prev_test_imputed.align(X_train_imputed, join = 'inner', axis = 1)\n",
        "X_train_imputed,X_test_imputed= X_train_imputed.align(X_test_imputed, join = 'inner', axis = 1)"
      ],
      "metadata": {
        "id": "kjZsb0qtgFrv"
      },
      "execution_count": null,
      "outputs": []
    },
    {
      "cell_type": "markdown",
      "source": [
        "# Menerapkan Algoritma Pembelajaran Mesin (menggunakan validasi silang)\n",
        "\n",
        "\n",
        "> Menerapkan Regresi Logistik"
      ],
      "metadata": {
        "id": "uCskXl-zgJAy"
      }
    },
    {
      "cell_type": "code",
      "source": [
        "from sklearn.linear_model import LogisticRegression\n",
        "lr_clf = LogisticRegression(random_state = 0, class_weight='balanced')\n",
        "lr_clf.fit(X_train_imputed, y_train)\n",
        "from sklearn.model_selection import cross_val_predict\n",
        "from sklearn.model_selection import cross_val_score\n",
        "y_train_pred_lr=cross_val_predict(lr_clf, X_train_imputed, y_train, cv=3)\n",
        "print('Akurasi pada set pelatihan:',cross_val_score(lr_clf, X_train_imputed,y_train, cv=3, scoring='accuracy'))\n",
        "print('Akurasi pada set tes:',cross_val_score(lr_clf, X_test_imputed,y_test, cv=3, scoring='accuracy'))"
      ],
      "metadata": {
        "id": "sTCwR3bvgP0d"
      },
      "execution_count": null,
      "outputs": []
    },
    {
      "cell_type": "markdown",
      "source": [
        "> XGBoost"
      ],
      "metadata": {
        "id": "3VRDOhYyJ2Yl"
      }
    },
    {
      "cell_type": "code",
      "source": [
        "#Skala_pos_berat jika disetel ke jumlah(instance negatif)/ sum(instance negatif)\n",
        "#akan menangani data yang tidak seimbang dalam kumpulan data\n",
        "scale_pos_weight_value=y_train.value_counts().values.tolist()[0]/y_train.value_counts().values.tolist()[1]\n",
        "from xgboost import XGBClassifier\n",
        "XGB_clf = XGBClassifier(scale_pos_weight=scale_pos_weight_value)\n",
        "XGB_clf.fit(X_train_imputed, y_train)\n",
        "print('Akurasi pada set pelatihan:',cross_val_score(XGB_clf, X_train_imputed, y_train, cv=3, scoring='accuracy'))\n",
        "print('Akurasi pada set tes:',cross_val_score(XGB_clf, X_test_imputed, y_test, cv=3, scoring='accuracy'))"
      ],
      "metadata": {
        "id": "vpTlt57agTe3"
      },
      "execution_count": null,
      "outputs": []
    },
    {
      "cell_type": "markdown",
      "source": [
        "> CATBOOST"
      ],
      "metadata": {
        "id": "3UaZAldqKLfJ"
      }
    },
    {
      "cell_type": "code",
      "source": [
        "cols_numeric = X_train_imputed.select_dtypes([np.number]).columns cols_categorical=X_train_imputed.columns.difference(cols_numeric)"
      ],
      "metadata": {
        "id": "5WenKP6ngW95"
      },
      "execution_count": null,
      "outputs": []
    },
    {
      "cell_type": "code",
      "source": [
        "#diketahui tidak ada kolom kategorikal\n",
        "from catboost import CatBoostClassifier \n",
        "CatBoost_clf=CatBoostClassifier(scale_pos_weight=scale_pos_weight_value)\n",
        "CatBoost_clf=CatBoostRegressor(iterations=50, depth=3, learning_rate=0.1, loss_function='RMSE')\n",
        "CatBoost_clf.fit(X_train_imputed, y_train) \n",
        "print('Akurasi pada set pelatihan:',cross_val_score(CatBoost_clf, X_train_imputed, y_train, cv=3, scoring='accuracy')) \n",
        "print('Akurasi pada set tes:',cross_val_score(CatBoost_clf, X_test_imputed, y_test, cv=3, scoring='accuracy'))"
      ],
      "metadata": {
        "id": "VKoQBmBzgcPU"
      },
      "execution_count": null,
      "outputs": []
    },
    {
      "cell_type": "markdown",
      "source": [
        "#LightGBM"
      ],
      "metadata": {
        "id": "qThr6aizKV5w"
      }
    },
    {
      "cell_type": "code",
      "source": [
        "import lightgbm as lgb\n",
        "LightGBM_clf=lgb.LGBMClassifier(scale_pos_weight=scale_pos_weight_value)\n",
        "LightGBM_clf.fit(X_train_imputed, y_train)\n",
        "print('Akurasi pada set pelatihan:',cross_val_score(LightGBM_clf, X_train_imputed, y_train, cv=3, scoring='accuracy'))\n",
        "print('Accuracy on Test set:',cross_val_score(LightGBM_clf, X_test_imputed, y_test, cv=3, scoring='accuracy'))"
      ],
      "metadata": {
        "id": "UxwRd9WZgwe2"
      },
      "execution_count": null,
      "outputs": []
    },
    {
      "cell_type": "markdown",
      "source": [
        ">RandomForest"
      ],
      "metadata": {
        "id": "zSveejowKZig"
      }
    },
    {
      "cell_type": "code",
      "source": [
        "#class_weight = 'balanced' ensures that RandomForest works well on imbalanced datasets.\n",
        "from sklearn.ensemble import RandomForestClassifier\n",
        "rf_clf = RandomForestClassifier(n_estimators = 10, random_state = 0, n_jobs=-1, class_weight=\"balanced\")\n",
        "rf_clf.fit(X_train_imputed, y_train)\n",
        "print('Akurasi pada set pelatihan:',cross_val_score(rf_clf, X_train_imputed, y_train, cv=3, scoring='accuracy'))\n",
        "print('Akurasi pada set tes:',cross_val_score(rf_clf, X_test_imputed, y_test, cv=3, scoring='accuracy'))"
      ],
      "metadata": {
        "id": "iRGAjdm7g05N"
      },
      "execution_count": null,
      "outputs": []
    }
  ]
}