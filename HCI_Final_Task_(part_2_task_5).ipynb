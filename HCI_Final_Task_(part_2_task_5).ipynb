{
  "nbformat": 4,
  "nbformat_minor": 0,
  "metadata": {
    "colab": {
      "provenance": []
    },
    "kernelspec": {
      "name": "python3",
      "display_name": "Python 3"
    },
    "language_info": {
      "name": "python"
    }
  },
  "cells": [
    {
      "cell_type": "markdown",
      "source": [
        "lanjut dari part 1, sedikit repetisi tentang clean"
      ],
      "metadata": {
        "id": "2UqtM-gcFXXV"
      }
    },
    {
      "cell_type": "markdown",
      "metadata": {
        "id": "AWOI6JeQjzQk"
      },
      "source": [
        "# Data\n",
        "application_train/application_test: data pelatihan dan pengujian utama dengan informasi tentang setiap aplikasi pinjaman di Home Credit. Setiap pinjaman memiliki barisnya masing-masing dan ditandai dengan fitur SK_ID_CURR. Data aplikasi pelatihan dilengkapi dengan TARGET yang menunjukkan 0: pinjaman telah dilunasi atau 1: pinjaman tidak dilunasi.\n",
        "\n",
        "bureau: data mengenai kredit klien sebelumnya dari lembaga keuangan lain. Setiap kredit sebelumnya memiliki barisnya sendiri di biro, tetapi satu pinjaman dalam data aplikasi dapat memiliki beberapa kredit sebelumnya.\n",
        "\n",
        "bureau_balance: data bulanan tentang kredit sebelumnya di biro. Setiap baris adalah satu bulan dari kredit sebelumnya, dan satu kredit sebelumnya dapat memiliki beberapa baris, satu untuk setiap bulan dari panjang kredit.\n",
        "\n",
        "previous_application: aplikasi sebelumnya untuk pinjaman di Home Credit klien yang memiliki pinjaman dalam data aplikasi. Setiap pinjaman saat ini dalam data aplikasi dapat memiliki beberapa pinjaman sebelumnya. Setiap aplikasi sebelumnya memiliki satu baris dan diidentifikasi oleh fitur SK_ID_PREV.\n",
        "\n",
        "POS_CASH_BALANCE: data bulanan tentang titik penjualan sebelumnya atau pinjaman tunai yang dimiliki klien dengan Home Credit. Setiap baris adalah satu bulan dari titik penjualan atau pinjaman tunai sebelumnya, dan satu pinjaman sebelumnya dapat memiliki banyak baris.\n",
        "\n",
        "credit_card_balance: data bulanan tentang kartu kredit sebelumnya yang dimiliki klien dengan Home Credit. Setiap baris adalah satu bulan dari saldo kartu kredit, dan satu kartu kredit dapat memiliki banyak baris.\n",
        "\n",
        "installments_payment: riwayat pembayaran untuk pinjaman sebelumnya di Home Credit. Ada satu baris untuk setiap pembayaran yang dilakukan dan satu baris untuk setiap pembayaran yang terlewatkan.\n",
        "\n"
      ]
    },
    {
      "cell_type": "markdown",
      "source": [
        "![image](https://drive.google.com/uc?id=1uMUlwp_cnYv8sIfGPgiXf-uxBxAzptqM)\n"
      ],
      "metadata": {
        "id": "qb9YT0nTfn78"
      }
    },
    {
      "cell_type": "code",
      "execution_count": 1,
      "metadata": {
        "id": "-AuGnhVEjzQp"
      },
      "outputs": [],
      "source": [
        "#import libraries\n",
        "import pandas as pd\n",
        "import numpy as np\n"
      ]
    },
    {
      "cell_type": "code",
      "execution_count": 2,
      "metadata": {
        "colab": {
          "base_uri": "https://localhost:8080/"
        },
        "id": "ewqhMFBajzQu",
        "outputId": "523e4a48-5338-4487-9f93-751af667d7e3"
      },
      "outputs": [
        {
          "output_type": "stream",
          "name": "stdout",
          "text": [
            "Drive already mounted at /content/drive/; to attempt to forcibly remount, call drive.mount(\"/content/drive/\", force_remount=True).\n"
          ]
        }
      ],
      "source": [
        "from google.colab import drive\n",
        "drive.mount('/content/drive/')"
      ]
    },
    {
      "cell_type": "code",
      "source": [
        "train_dat = pd.read_csv('/content/drive/MyDrive/Colab Notebooks/train_dat.csv')\n",
        "test_dat = pd.read_csv('/content/drive/MyDrive/Colab Notebooks/test_dat.csv')"
      ],
      "metadata": {
        "id": "0xbdod-c2om1"
      },
      "execution_count": 3,
      "outputs": []
    },
    {
      "cell_type": "markdown",
      "source": [
        "# Feature Engineering\n"
      ],
      "metadata": {
        "id": "1lOpajSzDaS-"
      }
    },
    {
      "cell_type": "markdown",
      "source": [
        "## Data Biro"
      ],
      "metadata": {
        "id": "Tux_yjz9Dmiq"
      }
    },
    {
      "cell_type": "code",
      "source": [
        "bureau = pd.read_csv('/content/drive/MyDrive/Colab Notebooks/bureau.csv')"
      ],
      "metadata": {
        "id": "DA0ydbyyfmmc"
      },
      "execution_count": 4,
      "outputs": []
    },
    {
      "cell_type": "code",
      "source": [
        "# Menggabungkan fitur numerik\n",
        "grp = bureau.drop(['SK_ID_BUREAU'], axis = 1).groupby(by=['SK_ID_CURR']).mean().reset_index()\n",
        "grp.columns = ['BUREAU_'+column if column !='SK_ID_CURR' else column for column in grp.columns]\n",
        "application_bureau = train_dat.merge(grp, on='SK_ID_CURR', how='left')\n",
        "application_bureau.update(application_bureau[grp.columns].fillna(0))\n",
        "\n",
        "application_bureau_test = test_dat.merge(grp, on='SK_ID_CURR', how='left')\n",
        "application_bureau_test.update(application_bureau_test[grp.columns].fillna(0))\n",
        "# Menggabungkan fitur kategorikal\n",
        "bureau_categorical = pd.get_dummies(bureau.select_dtypes('object'))\n",
        "bureau_categorical['SK_ID_CURR'] = bureau['SK_ID_CURR']\n",
        "grp = bureau_categorical.groupby(by = ['SK_ID_CURR']).mean().reset_index()\n",
        "grp.columns = ['BUREAU_'+column if column !='SK_ID_CURR' else column for column in grp.columns]\n",
        "application_bureau = application_bureau.merge(grp, on='SK_ID_CURR', how='left')\n",
        "application_bureau.update(application_bureau[grp.columns].fillna(0))\n",
        "\n",
        "application_bureau_test = application_bureau_test.merge(grp, on='SK_ID_CURR', how='left')\n",
        "application_bureau_test.update(application_bureau_test[grp.columns].fillna(0))"
      ],
      "metadata": {
        "id": "z03sUWYpc3yU"
      },
      "execution_count": 5,
      "outputs": []
    },
    {
      "cell_type": "code",
      "source": [
        "# Jumlah pinjaman masa lalu per pelanggan\n",
        "grp = bureau.groupby(by = ['SK_ID_CURR'])['SK_ID_BUREAU'].count().reset_index().rename(columns = {'SK_ID_BUREAU': 'BUREAU_LOAN_COUNT'})\n",
        "\n",
        "application_bureau = application_bureau.merge(grp, on='SK_ID_CURR', how='left')\n",
        "application_bureau['BUREAU_LOAN_COUNT'] = application_bureau['BUREAU_LOAN_COUNT'].fillna(0)\n",
        "\n",
        "application_bureau_test = application_bureau_test.merge(grp, on='SK_ID_CURR', how='left')\n",
        "application_bureau_test['BUREAU_LOAN_COUNT'] = application_bureau_test['BUREAU_LOAN_COUNT'].fillna(0)\n",
        "# Jumlah jenis pinjaman masa lalu per pelanggan\n",
        "grp = bureau[['SK_ID_CURR', 'CREDIT_TYPE']].groupby(by = ['SK_ID_CURR'])['CREDIT_TYPE'].nunique().reset_index().rename(columns={'CREDIT_TYPE': 'BUREAU_LOAN_TYPES'})\n",
        "\n",
        "application_bureau = application_bureau.merge(grp, on='SK_ID_CURR', how='left')\n",
        "application_bureau['BUREAU_LOAN_TYPES'] = application_bureau['BUREAU_LOAN_TYPES'].fillna(0)\n",
        "\n",
        "application_bureau_test = application_bureau_test.merge(grp, on='SK_ID_CURR', how='left')\n",
        "application_bureau_test['BUREAU_LOAN_TYPES'] = application_bureau_test['BUREAU_LOAN_TYPES'].fillna(0)\n"
      ],
      "metadata": {
        "id": "5ezNS2tnc-r0"
      },
      "execution_count": 6,
      "outputs": []
    },
    {
      "cell_type": "code",
      "source": [
        "\n",
        "# Utang atas rasio kredit\n",
        "bureau['AMT_CREDIT_SUM'] = bureau['AMT_CREDIT_SUM'].fillna(0)\n",
        "bureau['AMT_CREDIT_SUM_DEBT'] = bureau['AMT_CREDIT_SUM_DEBT'].fillna(0)\n",
        "\n",
        "grp1 = bureau[['SK_ID_CURR','AMT_CREDIT_SUM']].groupby(by=['SK_ID_CURR'])['AMT_CREDIT_SUM'].sum().reset_index().rename(columns={'AMT_CREDIT_SUM': 'TOTAL_CREDIT_SUM'})\n",
        "\n",
        "grp2 = bureau[['SK_ID_CURR','AMT_CREDIT_SUM_DEBT']].groupby(by=['SK_ID_CURR'])['AMT_CREDIT_SUM_DEBT'].sum().reset_index().rename(columns={'AMT_CREDIT_SUM_DEBT':'TOTAL_CREDIT_SUM_DEBT'})\n",
        "\n",
        "grp1['DEBT_CREDIT_RATIO'] = grp2['TOTAL_CREDIT_SUM_DEBT']/grp1['TOTAL_CREDIT_SUM']\n",
        "\n",
        "del grp1['TOTAL_CREDIT_SUM']\n",
        "\n",
        "application_bureau = application_bureau.merge(grp1, on='SK_ID_CURR', how='left')\n",
        "application_bureau['DEBT_CREDIT_RATIO'] = application_bureau['DEBT_CREDIT_RATIO'].fillna(0)\n",
        "\n",
        "# Replace inf and -inf values with 0 in 'DEBT_CREDIT_RATIO' column\n",
        "application_bureau['DEBT_CREDIT_RATIO'].replace([np.inf, -np.inf], 0, inplace=True)\n",
        "application_bureau['DEBT_CREDIT_RATIO'] = pd.to_numeric(application_bureau['DEBT_CREDIT_RATIO'], downcast='float')\n",
        "\n",
        "\n",
        "application_bureau_test = application_bureau_test.merge(grp1, on='SK_ID_CURR', how='left')\n",
        "application_bureau_test['DEBT_CREDIT_RATIO'] = application_bureau_test['DEBT_CREDIT_RATIO'].fillna(0)\n",
        "\n",
        "# Replace inf and -inf values with 0 in 'DEBT_CREDIT_RATIO' column in test data\n",
        "application_bureau_test['DEBT_CREDIT_RATIO'].replace([np.inf, -np.inf], 0, inplace=True)\n",
        "application_bureau_test['DEBT_CREDIT_RATIO'] = pd.to_numeric(application_bureau_test['DEBT_CREDIT_RATIO'], downcast='float')"
      ],
      "metadata": {
        "id": "WXf8AsQjBSSl"
      },
      "execution_count": 7,
      "outputs": []
    },
    {
      "cell_type": "code",
      "source": [
        "(application_bureau[application_bureau['DEBT_CREDIT_RATIO'] > 0.5]['TARGET'].value_counts()/len(application_bureau[application_bureau['DEBT_CREDIT_RATIO'] > 0.5]))*100"
      ],
      "metadata": {
        "colab": {
          "base_uri": "https://localhost:8080/"
        },
        "outputId": "00468b36-4288-4b66-9cb7-276da7efcbaa",
        "id": "SokZ4iWeKlPb"
      },
      "execution_count": 8,
      "outputs": [
        {
          "output_type": "execute_result",
          "data": {
            "text/plain": [
              "0    88.385852\n",
              "1    11.614148\n",
              "Name: TARGET, dtype: float64"
            ]
          },
          "metadata": {},
          "execution_count": 8
        }
      ]
    },
    {
      "cell_type": "code",
      "source": [
        "# Jatuh tempo atas rasio utang\n",
        "bureau['AMT_CREDIT_SUM_OVERDUE'] = bureau['AMT_CREDIT_SUM_OVERDUE'].fillna(0)\n",
        "bureau['AMT_CREDIT_SUM_DEBT'] = bureau['AMT_CREDIT_SUM_DEBT'].fillna(0)\n",
        "\n",
        "grp1 = bureau[['SK_ID_CURR','AMT_CREDIT_SUM_OVERDUE']].groupby(by=['SK_ID_CURR'])['AMT_CREDIT_SUM_OVERDUE'].sum().reset_index().rename(columns={'AMT_CREDIT_SUM_OVERDUE': 'TOTAL_CUSTOMER_OVERDUE'})\n",
        "\n",
        "grp2 = bureau[['SK_ID_CURR','AMT_CREDIT_SUM_DEBT']].groupby(by=['SK_ID_CURR'])['AMT_CREDIT_SUM_DEBT'].sum().reset_index().rename(columns={'AMT_CREDIT_SUM_DEBT':'TOTAL_CUSTOMER_DEBT'})\n",
        "\n",
        "grp1['OVERDUE_DEBT_RATIO'] = grp1['TOTAL_CUSTOMER_OVERDUE']/grp2['TOTAL_CUSTOMER_DEBT']\n",
        "\n",
        "del grp1['TOTAL_CUSTOMER_OVERDUE']\n",
        "\n",
        "application_bureau = application_bureau.merge(grp1, on='SK_ID_CURR', how='left')\n",
        "application_bureau['OVERDUE_DEBT_RATIO'] = application_bureau['OVERDUE_DEBT_RATIO'].fillna(0)\n",
        "# Replace inf and -inf values with 0 in 'OVERDUE_DEBT_RATIO' column\n",
        "application_bureau['OVERDUE_DEBT_RATIO'].replace([np.inf, -np.inf], 0, inplace=True)\n",
        "application_bureau['OVERDUE_DEBT_RATIO'] = pd.to_numeric(application_bureau['OVERDUE_DEBT_RATIO'], downcast='float')\n",
        "\n",
        "application_bureau_test = application_bureau_test.merge(grp1, on='SK_ID_CURR', how='left')\n",
        "application_bureau_test['OVERDUE_DEBT_RATIO'] = application_bureau_test['OVERDUE_DEBT_RATIO'].fillna(0)\n",
        "\n",
        "# Replace inf and -inf values with 0 in 'DEBT_CREDIT_RATIO' column in test data\n",
        "application_bureau_test['OVERDUE_DEBT_RATIO'].replace([np.inf, -np.inf], 0, inplace=True)\n",
        "application_bureau_test['OVERDUE_DEBT_RATIO'] = pd.to_numeric(application_bureau_test['OVERDUE_DEBT_RATIO'], downcast='float')"
      ],
      "metadata": {
        "id": "6YF19_7xKlPb"
      },
      "execution_count": 9,
      "outputs": []
    },
    {
      "cell_type": "code",
      "source": [
        "import gc\n",
        "\n",
        "gc.collect()"
      ],
      "metadata": {
        "colab": {
          "base_uri": "https://localhost:8080/"
        },
        "outputId": "2f997bdf-4cb8-4fdd-8e51-5b646a631912",
        "id": "GXijPcW8KlPc"
      },
      "execution_count": 10,
      "outputs": [
        {
          "output_type": "execute_result",
          "data": {
            "text/plain": [
              "0"
            ]
          },
          "metadata": {},
          "execution_count": 10
        }
      ]
    },
    {
      "cell_type": "code",
      "source": [
        "(application_bureau[application_bureau['DEBT_CREDIT_RATIO'] > 0.5]['TARGET'].value_counts()/len(application_bureau[application_bureau['DEBT_CREDIT_RATIO'] > 0.5]))*100"
      ],
      "metadata": {
        "id": "Ai55LBl8dNYv",
        "colab": {
          "base_uri": "https://localhost:8080/"
        },
        "outputId": "d580fc49-947a-493d-ecc4-c55f985c4ad5"
      },
      "execution_count": 13,
      "outputs": [
        {
          "output_type": "execute_result",
          "data": {
            "text/plain": [
              "0    88.385852\n",
              "1    11.614148\n",
              "Name: TARGET, dtype: float64"
            ]
          },
          "metadata": {},
          "execution_count": 13
        }
      ]
    },
    {
      "cell_type": "markdown",
      "source": [
        "## Data Aplikasi Sebelumnya"
      ],
      "metadata": {
        "id": "WpE-R_eTGcu5"
      }
    },
    {
      "cell_type": "code",
      "source": [
        "previous_application = pd.read_csv('/content/drive/MyDrive/Colab Notebooks/previous_application.csv')"
      ],
      "metadata": {
        "id": "yw9Nos4Gf0jm"
      },
      "execution_count": 14,
      "outputs": []
    },
    {
      "cell_type": "code",
      "source": [
        "def isOneToOne(df, col1, col2):\n",
        "    first = df.drop_duplicates([col1, col2]).groupby(col1)[col2].count().max()\n",
        "    second = df.drop_duplicates([col1, col2]).groupby(col2)[col1].count().max()\n",
        "    return first + second == 2\n",
        "\n",
        "isOneToOne(previous_application,'SK_ID_CURR','SK_ID_PREV')"
      ],
      "metadata": {
        "id": "taoKpsGFdsNP",
        "colab": {
          "base_uri": "https://localhost:8080/"
        },
        "outputId": "81525659-ef8d-4e35-af27-929d29c6b156"
      },
      "execution_count": 15,
      "outputs": [
        {
          "output_type": "execute_result",
          "data": {
            "text/plain": [
              "False"
            ]
          },
          "metadata": {},
          "execution_count": 15
        }
      ]
    },
    {
      "cell_type": "markdown",
      "source": [
        "fungsi bernama isOneToOne yang menerima tiga argumen:\n",
        "\n",
        "1. df: Sebuah pandas DataFrame, yang mewakili data masukan.\n",
        "2. col1: Sebuah string, yang mewakili nama kolom pertama yang akan dibandingkan.\n",
        "3. col2: Sebuah string, yang mewakili nama kolom kedua yang akan dibandingkan.\n",
        "\n",
        "Fungsi tersebut memeriksa apakah hubungan antara nilai-nilai dalam kolom col1 dan col2 adalah satu-ke-satu (one-to-one) dalam DataFrame df yang diberikan. Hal ini dilakukan dengan melakukan langkah-langkah berikut:\n",
        "\n",
        "1. Menghapus baris duplikat berdasarkan kolom col1 dan col2 menggunakan metode drop_duplicates().\n",
        "2. Mengelompokkan DataFrame hasilnya berdasarkan kolom col1 dan menghitung nilai unik dalam kolom col2 menggunakan metode groupby() dan count().\n",
        "3. Mengambil nilai maksimum dari jumlah nilai unik dalam kolom col2 untuk setiap kelompok nilai dalam kolom col1, dan menyimpannya dalam variabel first.\n",
        "4. Mengelompokkan DataFrame hasilnya berdasarkan kolom col2 dan menghitung nilai unik dalam kolom col1 menggunakan metode groupby() dan count().\n",
        "5. Mengambil nilai maksimum dari jumlah nilai unik dalam kolom col1 untuk setiap kelompok nilai dalam kolom col2, dan menyimpannya dalam variabel second.\n",
        "6. Mengembalikan True jika jumlah dari first dan second sama dengan 2, yang menunjukkan bahwa hubungan antara col1 dan col2 adalah satu-ke-satu (yaitu setiap nilai unik dalam col1 dipetakan ke tepat satu nilai unik dalam col2 dan sebaliknya), jika tidak mengembalikan False.\n",
        "\n",
        "Fungsi tersebut kemudian dipanggil dengan DataFrame previous_application, dan nama kolom `SK_ID_CURR` dan `SK_ID_PREV` sebagai argumen, untuk memeriksa apakah hubungan antara kedua kolom ini adalah satu-ke-satu dalam DataFrame yang diberikan."
      ],
      "metadata": {
        "id": "-Sv-BL5mEAL2"
      }
    },
    {
      "cell_type": "code",
      "source": [
        "# Jumlah aplikasi sebelumnya per pelanggan\n",
        "grp = previous_application[['SK_ID_CURR','SK_ID_PREV']].groupby(by=['SK_ID_CURR'])['SK_ID_PREV'].count().reset_index().rename(columns={'SK_ID_PREV':'PREV_APP_COUNT'})\n",
        "\n",
        "# Ambil hanya ID yang ada di application_bureau\n",
        "application_bureau_prev = application_bureau.merge(grp, on =['SK_ID_CURR'], how = 'left')\n",
        "application_bureau_prev_test = application_bureau_test.merge(grp, on =['SK_ID_CURR'], how = 'left')\n",
        "\n",
        "#Isi NA untuk hitungan aplikasi sebelumnya (misalkan ada ID aplikasi yang ada di biro aplikasi tetapi tidak ada\n",
        "# dalam grp, berarti orang tersebut tidak pernah mengambil pinjaman sebelumnya, \n",
        "#jadi jumlah pinjaman sebelumnya untuk orang tersebut = 0)\n",
        "application_bureau_prev['PREV_APP_COUNT'] = application_bureau_prev['PREV_APP_COUNT'].fillna(0)\n",
        "application_bureau_prev_test['PREV_APP_COUNT'] = application_bureau_prev_test['PREV_APP_COUNT'].fillna(0)"
      ],
      "metadata": {
        "id": "3kHpr1XPdtIL"
      },
      "execution_count": 16,
      "outputs": []
    },
    {
      "cell_type": "code",
      "source": [
        "# Menggabungkan fitur numerik\n",
        "\n",
        "#Ambil mean dari semua parameter (pengelompokan berdasarkan SK_ID_CURR)\n",
        "grp = previous_application.drop('SK_ID_PREV', axis =1).groupby(by=['SK_ID_CURR']).mean().reset_index()\n",
        "\n",
        "#Tambahkan awalan prev di depan semua kolom agar kita tahu bahwa kolom tersebut berasal dari aplikasi_sebelumnya\n",
        "prev_columns = ['PREV_'+column if column != 'SK_ID_CURR' else column for column in grp.columns ]\n",
        "\n",
        "#ganti kolomnya\n",
        "grp.columns = prev_columns\n",
        "\n",
        "application_bureau_prev = application_bureau_prev.merge(grp, on =['SK_ID_CURR'], how = 'left')\n",
        "application_bureau_prev.update(application_bureau_prev[grp.columns].fillna(0))\n",
        "application_bureau_prev_test = application_bureau_prev_test.merge(grp, on =['SK_ID_CURR'], how = 'left')\n",
        "application_bureau_prev_test.update(application_bureau_prev_test[grp.columns].fillna(0))"
      ],
      "metadata": {
        "id": "tGdTjdBIdz2i"
      },
      "execution_count": 17,
      "outputs": []
    },
    {
      "cell_type": "code",
      "source": [
        "# Menggabungkan fitur kategorikal\n",
        "prev_categorical = pd.get_dummies(previous_application.select_dtypes('object'))\n",
        "prev_categorical['SK_ID_CURR'] = previous_application['SK_ID_CURR']\n",
        "\n",
        "grp = prev_categorical.groupby('SK_ID_CURR').mean().reset_index()\n",
        "grp.columns = ['PREV_'+column if column != 'SK_ID_CURR' else column for column in grp.columns]\n",
        "\n",
        "application_bureau_prev = application_bureau_prev.merge(grp, on=['SK_ID_CURR'], how='left')\n",
        "application_bureau_prev.update(application_bureau_prev[grp.columns].fillna(0))\n",
        "\n",
        "application_bureau_prev_test = application_bureau_prev_test.merge(grp, on=['SK_ID_CURR'], how='left')\n",
        "application_bureau_prev_test.update(application_bureau_prev_test[grp.columns].fillna(0))"
      ],
      "metadata": {
        "id": "7s9paDTPd6r1"
      },
      "execution_count": 18,
      "outputs": []
    },
    {
      "cell_type": "code",
      "source": [
        "gc.collect()"
      ],
      "metadata": {
        "id": "_G_aG7oad_Y4",
        "colab": {
          "base_uri": "https://localhost:8080/"
        },
        "outputId": "67f608b8-848a-42b5-c6c9-0a496896540c"
      },
      "execution_count": 19,
      "outputs": [
        {
          "output_type": "execute_result",
          "data": {
            "text/plain": [
              "0"
            ]
          },
          "metadata": {},
          "execution_count": 19
        }
      ]
    },
    {
      "cell_type": "markdown",
      "source": [
        "## Data POS_CASH_balance"
      ],
      "metadata": {
        "id": "qj0QYVRRHuYx"
      }
    },
    {
      "cell_type": "code",
      "source": [
        "pos_cash= pd.read_csv('/content/drive/MyDrive/Colab Notebooks/POS_CASH_balance.csv')"
      ],
      "metadata": {
        "id": "zFp5LLDEgCkV"
      },
      "execution_count": 20,
      "outputs": []
    },
    {
      "cell_type": "code",
      "source": [
        "# Menggabungkan fitur numerik\n",
        "grp = pos_cash.drop('SK_ID_PREV', axis =1).groupby(by=['SK_ID_CURR']).mean().reset_index()\n",
        "prev_columns = ['POS_'+column if column != 'SK_ID_CURR' else column for column in grp.columns ]\n",
        "grp.columns = prev_columns\n",
        "application_bureau_prev = application_bureau_prev.merge(grp, on =['SK_ID_CURR'], how = 'left')\n",
        "application_bureau_prev.update(application_bureau_prev[grp.columns].fillna(0))\n",
        "\n",
        "application_bureau_prev_test = application_bureau_prev_test.merge(grp, on =['SK_ID_CURR'], how = 'left')\n",
        "application_bureau_prev_test.update(application_bureau_prev_test[grp.columns].fillna(0))\n",
        "\n",
        "# Menggabungkan fitur kategorikal\n",
        "pos_cash_categorical = pd.get_dummies(pos_cash.select_dtypes('object'))\n",
        "pos_cash_categorical['SK_ID_CURR'] = pos_cash['SK_ID_CURR']\n",
        "\n",
        "grp = pos_cash_categorical.groupby('SK_ID_CURR').mean().reset_index()\n",
        "grp.columns = ['POS_'+column if column != 'SK_ID_CURR' else column for column in grp.columns]\n",
        "application_bureau_prev = application_bureau_prev.merge(grp, on=['SK_ID_CURR'], how='left')\n",
        "application_bureau_prev.update(application_bureau_prev[grp.columns].fillna(0))\n",
        "\n",
        "application_bureau_prev_test = application_bureau_prev_test.merge(grp, on=['SK_ID_CURR'], how='left')\n",
        "application_bureau_prev_test.update(application_bureau_prev_test[grp.columns].fillna(0))\n",
        "gc.collect()"
      ],
      "metadata": {
        "id": "_3WWDfDseHoc",
        "colab": {
          "base_uri": "https://localhost:8080/"
        },
        "outputId": "848928cd-728f-46a4-ed17-cb4201cf5c3a"
      },
      "execution_count": 21,
      "outputs": [
        {
          "output_type": "execute_result",
          "data": {
            "text/plain": [
              "0"
            ]
          },
          "metadata": {},
          "execution_count": 21
        }
      ]
    },
    {
      "cell_type": "markdown",
      "source": [
        "## Data installments_payments"
      ],
      "metadata": {
        "id": "5O7SF_dmH9OC"
      }
    },
    {
      "cell_type": "code",
      "source": [
        "insta_payments = pd.read_csv('/content/drive/MyDrive/Colab Notebooks/installments_payments.csv')"
      ],
      "metadata": {
        "id": "jdU5-8JEgGgZ"
      },
      "execution_count": 22,
      "outputs": []
    },
    {
      "cell_type": "code",
      "source": [
        "# Menggabungkan fitur numerik dan tidak ada fitur kategorikal dalam dataset ini\n",
        "grp = insta_payments.drop('SK_ID_PREV', axis =1).groupby(by=['SK_ID_CURR']).mean().reset_index()\n",
        "prev_columns = ['INSTA_'+column if column != 'SK_ID_CURR' else column for column in grp.columns ]\n",
        "grp.columns = prev_columns\n",
        "application_bureau_prev = application_bureau_prev.merge(grp, on =['SK_ID_CURR'], how = 'left')\n",
        "application_bureau_prev.update(application_bureau_prev[grp.columns].fillna(0))\n",
        "application_bureau_prev_test = application_bureau_prev_test.merge(grp, on =['SK_ID_CURR'], how = 'left')\n",
        "application_bureau_prev_test.update(application_bureau_prev_test[grp.columns].fillna(0))\n",
        "gc.collect()"
      ],
      "metadata": {
        "id": "D4o2_If4eOiK",
        "colab": {
          "base_uri": "https://localhost:8080/"
        },
        "outputId": "ff0582f1-d273-4946-df8d-856988d73ca3"
      },
      "execution_count": 23,
      "outputs": [
        {
          "output_type": "execute_result",
          "data": {
            "text/plain": [
              "0"
            ]
          },
          "metadata": {},
          "execution_count": 23
        }
      ]
    }
  ]
}