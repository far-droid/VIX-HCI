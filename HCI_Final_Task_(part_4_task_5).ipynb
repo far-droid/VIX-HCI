{
  "cells": [
    {
      "cell_type": "markdown",
      "metadata": {
        "id": "AWOI6JeQjzQk"
      },
      "source": [
        "# Data\n",
        "application_train/application_test: data pelatihan dan pengujian utama dengan informasi tentang setiap aplikasi pinjaman di Home Credit. Setiap pinjaman memiliki barisnya masing-masing dan ditandai dengan fitur SK_ID_CURR. Data aplikasi pelatihan dilengkapi dengan TARGET yang menunjukkan 0: pinjaman telah dilunasi atau 1: pinjaman tidak dilunasi.\n",
        "\n",
        "bureau: data mengenai kredit klien sebelumnya dari lembaga keuangan lain. Setiap kredit sebelumnya memiliki barisnya sendiri di biro, tetapi satu pinjaman dalam data aplikasi dapat memiliki beberapa kredit sebelumnya.\n",
        "\n",
        "bureau_balance: data bulanan tentang kredit sebelumnya di biro. Setiap baris adalah satu bulan dari kredit sebelumnya, dan satu kredit sebelumnya dapat memiliki beberapa baris, satu untuk setiap bulan dari panjang kredit.\n",
        "\n",
        "previous_application: aplikasi sebelumnya untuk pinjaman di Home Credit klien yang memiliki pinjaman dalam data aplikasi. Setiap pinjaman saat ini dalam data aplikasi dapat memiliki beberapa pinjaman sebelumnya. Setiap aplikasi sebelumnya memiliki satu baris dan diidentifikasi oleh fitur SK_ID_PREV.\n",
        "\n",
        "POS_CASH_BALANCE: data bulanan tentang titik penjualan sebelumnya atau pinjaman tunai yang dimiliki klien dengan Home Credit. Setiap baris adalah satu bulan dari titik penjualan atau pinjaman tunai sebelumnya, dan satu pinjaman sebelumnya dapat memiliki banyak baris.\n",
        "\n",
        "credit_card_balance: data bulanan tentang kartu kredit sebelumnya yang dimiliki klien dengan Home Credit. Setiap baris adalah satu bulan dari saldo kartu kredit, dan satu kartu kredit dapat memiliki banyak baris.\n",
        "\n",
        "installments_payment: riwayat pembayaran untuk pinjaman sebelumnya di Home Credit. Ada satu baris untuk setiap pembayaran yang dilakukan dan satu baris untuk setiap pembayaran yang terlewatkan.\n",
        "\n"
      ]
    },
    {
      "cell_type": "markdown",
      "metadata": {
        "id": "qb9YT0nTfn78"
      },
      "source": [
        "![image](https://drive.google.com/uc?id=1uMUlwp_cnYv8sIfGPgiXf-uxBxAzptqM)\n"
      ]
    },
    {
      "cell_type": "code",
      "execution_count": 2,
      "metadata": {
        "id": "-AuGnhVEjzQp"
      },
      "outputs": [],
      "source": [
        "#import libraries\n",
        "import pandas as pd\n",
        "import numpy as np\n"
      ]
    },
    {
      "cell_type": "code",
      "execution_count": 3,
      "metadata": {
        "colab": {
          "base_uri": "https://localhost:8080/"
        },
        "id": "ewqhMFBajzQu",
        "outputId": "3789f920-cc89-4456-de4d-2640f115dc2a"
      },
      "outputs": [
        {
          "output_type": "stream",
          "name": "stdout",
          "text": [
            "Drive already mounted at /content/drive/; to attempt to forcibly remount, call drive.mount(\"/content/drive/\", force_remount=True).\n"
          ]
        }
      ],
      "source": [
        "from google.colab import drive\n",
        "drive.mount('/content/drive/')"
      ]
    },
    {
      "cell_type": "code",
      "execution_count": 4,
      "metadata": {
        "id": "0xbdod-c2om1"
      },
      "outputs": [],
      "source": [
        "X_train_selected_features = pd.read_csv('/content/drive/MyDrive/Colab Notebooks/X_train_hci.csv')\n",
        "X_test_selected_features = pd.read_csv('/content/drive/MyDrive/Colab Notebooks/X_test_hci.csv')\n",
        "y_train = pd.read_csv('/content/drive/MyDrive/Colab Notebooks/y_train_hci.csv')\n",
        "y_test = pd.read_csv('/content/drive/MyDrive/Colab Notebooks/y_test_hci.csv')\n",
        "application_bureau_prev_test_selected_features = pd.read_csv('/content/drive/MyDrive/Colab Notebooks/application_bureau_prev_test_selected_features.csv')"
      ]
    },
    {
      "cell_type": "code",
      "source": [
        "y_train = y_train['TARGET']\n",
        "y_test = y_test['TARGET']"
      ],
      "metadata": {
        "id": "uyCR7CIHoyTy"
      },
      "execution_count": 5,
      "outputs": []
    },
    {
      "cell_type": "code",
      "execution_count": 6,
      "metadata": {
        "id": "6klAvEcXplqB"
      },
      "outputs": [],
      "source": [
        "X_train_selected_features.drop(['Unnamed: 0.2'], axis='columns', inplace=True)\n",
        "X_test_selected_features.drop(['Unnamed: 0.2'], axis='columns', inplace=True)\n",
        "application_bureau_prev_test_selected_features.drop(['Unnamed: 0.2'], axis='columns', inplace=True)"
      ]
    },
    {
      "cell_type": "code",
      "source": [
        "application_bureau_prev_test_selected_features.columns"
      ],
      "metadata": {
        "colab": {
          "base_uri": "https://localhost:8080/"
        },
        "id": "n5l9FaF5fupk",
        "outputId": "8f9dd7e3-acc7-484e-efe1-466f80a24cca"
      },
      "execution_count": 7,
      "outputs": [
        {
          "output_type": "execute_result",
          "data": {
            "text/plain": [
              "Index(['Unnamed: 0.1', 'Unnamed: 0', 'SK_ID_CURR', 'AMT_INCOME_TOTAL',\n",
              "       'AMT_CREDIT', 'AMT_ANNUITY', 'AMT_GOODS_PRICE', 'DAYS_BIRTH',\n",
              "       'DAYS_EMPLOYED', 'DAYS_REGISTRATION',\n",
              "       ...\n",
              "       'CREDIT_AMT_PAYMENT_TOTAL_CURRENT', 'CREDIT_AMT_RECEIVABLE_PRINCIPAL',\n",
              "       'CREDIT_AMT_RECIVABLE', 'CREDIT_AMT_TOTAL_RECEIVABLE',\n",
              "       'CREDIT_CNT_DRAWINGS_ATM_CURRENT', 'CREDIT_CNT_DRAWINGS_CURRENT',\n",
              "       'CREDIT_CNT_DRAWINGS_POS_CURRENT', 'CREDIT_CNT_INSTALMENT_MATURE_CUM',\n",
              "       'CREDIT_SK_DPD', 'CREDIT_SK_DPD_DEF'],\n",
              "      dtype='object', length=115)"
            ]
          },
          "metadata": {},
          "execution_count": 7
        }
      ]
    },
    {
      "cell_type": "code",
      "source": [
        "y_train.info()"
      ],
      "metadata": {
        "colab": {
          "base_uri": "https://localhost:8080/"
        },
        "id": "03vX7b_CjZiL",
        "outputId": "82781c2d-3150-4ae0-a30c-c7520410e76d"
      },
      "execution_count": 8,
      "outputs": [
        {
          "output_type": "stream",
          "name": "stdout",
          "text": [
            "<class 'pandas.core.series.Series'>\n",
            "RangeIndex: 246008 entries, 0 to 246007\n",
            "Series name: TARGET\n",
            "Non-Null Count   Dtype\n",
            "--------------   -----\n",
            "246008 non-null  int64\n",
            "dtypes: int64(1)\n",
            "memory usage: 1.9 MB\n"
          ]
        }
      ]
    },
    {
      "cell_type": "code",
      "source": [
        "X_train_selected_features.shape"
      ],
      "metadata": {
        "colab": {
          "base_uri": "https://localhost:8080/"
        },
        "id": "ikgGxrdrPkZb",
        "outputId": "4e346ca2-8813-4d91-db80-4d495ae28078"
      },
      "execution_count": 9,
      "outputs": [
        {
          "output_type": "execute_result",
          "data": {
            "text/plain": [
              "(246008, 115)"
            ]
          },
          "metadata": {},
          "execution_count": 9
        }
      ]
    },
    {
      "cell_type": "code",
      "execution_count": 10,
      "metadata": {
        "id": "FMzd-tXyum8f"
      },
      "outputs": [],
      "source": [
        "def check_data(X, y):\n",
        "    # Check for missing values\n",
        "    if X.isnull().sum().sum() > 0:\n",
        "        print(\"Warning: Input data contains missing values. Imputing...\")\n",
        "        X.fillna(X.median(), inplace=True)\n",
        "        \n",
        "    # Check for invalid values\n",
        "    # if X.isin([np.inf, -np.inf]).sum().sum() > 0:\n",
        "    #     print(\"Warning: Input data contains invalid values. Removing...\")\n",
        "    #     X = X.replace([np.inf, -np.inf], np.nan).dropna()\n",
        "    #     y = y.loc[X.index]\n",
        "        \n",
        "    # Check target variable is binary\n",
        "    if set(y.unique()) != set([0, 1]):\n",
        "        raise ValueError(\"Target variable is not binary\")\n",
        "        \n",
        "    return X, y\n",
        "    \n"
      ]
    },
    {
      "cell_type": "code",
      "source": [
        "# check_data(X_train_selected_features, y_train)"
      ],
      "metadata": {
        "id": "FroPBU2Hpi-j"
      },
      "execution_count": 11,
      "outputs": []
    },
    {
      "cell_type": "code",
      "source": [
        "# check_data(X_test_selected_features, y_test)"
      ],
      "metadata": {
        "id": "3fdRM0pV5cUG"
      },
      "execution_count": 12,
      "outputs": []
    },
    {
      "cell_type": "markdown",
      "metadata": {
        "id": "b-y7oE0zf1Q4"
      },
      "source": [
        "# Imputasi Data sebelum menerapkan algoritma pembelajaran mesin\n",
        "Ada banyak cara untuk menangani nilai yang hilang.\n",
        "\n",
        " Kita dapat menggunakan fillna() dan mengganti nilai yang hilang dengan rata-rata data, median, atau nilai paling sering. Pendekatan yang akan kita gunakan di bawah ini adalah Iterative Imputer. Iterative imputer akan menganggap variabel yang hilang sebagai variabel dependen dan semua fitur lainnya akan menjadi variabel independen. Kemudian akan menerapkan regresi dan variabel independen akan digunakan untuk menentukan variabel dependen (yang merupakan fitur yang hilang)."
      ]
    },
    {
      "cell_type": "code",
      "source": [
        "print(application_bureau_prev_test_selected_features.columns.get_loc(\"SK_ID_CURR\")\n",
        ")\n",
        "print(X_train_selected_features.columns.get_loc(\"SK_ID_CURR\")\n",
        ")"
      ],
      "metadata": {
        "colab": {
          "base_uri": "https://localhost:8080/"
        },
        "id": "zfblyNV8q9XJ",
        "outputId": "9fabcba3-b11d-42b2-b2ff-ff8ce63e35d4"
      },
      "execution_count": 13,
      "outputs": [
        {
          "output_type": "stream",
          "name": "stdout",
          "text": [
            "2\n",
            "2\n"
          ]
        }
      ]
    },
    {
      "cell_type": "code",
      "source": [
        "X_train_selected_features.info()"
      ],
      "metadata": {
        "colab": {
          "base_uri": "https://localhost:8080/"
        },
        "id": "pd6T_bFWIqra",
        "outputId": "f805db0b-c0df-48c2-fcdd-d6a37ff00abc"
      },
      "execution_count": 14,
      "outputs": [
        {
          "output_type": "stream",
          "name": "stdout",
          "text": [
            "<class 'pandas.core.frame.DataFrame'>\n",
            "RangeIndex: 246008 entries, 0 to 246007\n",
            "Columns: 115 entries, Unnamed: 0.1 to CREDIT_SK_DPD_DEF\n",
            "dtypes: float64(110), int64(5)\n",
            "memory usage: 215.8 MB\n"
          ]
        }
      ]
    },
    {
      "cell_type": "markdown",
      "source": [],
      "metadata": {
        "id": "TEHc0M35ImAk"
      }
    },
    {
      "cell_type": "code",
      "execution_count": 15,
      "metadata": {
        "colab": {
          "base_uri": "https://localhost:8080/"
        },
        "id": "XQwFy0VQf9BL",
        "outputId": "1666fe76-3510-4dcb-c91e-2383a336e209"
      },
      "outputs": [
        {
          "output_type": "stream",
          "name": "stdout",
          "text": [
            "(61503, 115)\n",
            "(246008, 115)\n",
            "(48744, 115)\n"
          ]
        }
      ],
      "source": [
        "from sklearn.experimental import enable_iterative_imputer\n",
        "from sklearn.impute import IterativeImputer\n",
        "from sklearn.linear_model import BayesianRidge, Ridge\n",
        "\n",
        "# Create the imputer object\n",
        "imputer = IterativeImputer(BayesianRidge())\n",
        "\n",
        "# Impute missing values for X_train_selected_features\n",
        "X_train_imputed = pd.DataFrame(index=X_train_selected_features.index)\n",
        "\n",
        "\n",
        "for column in X_train_selected_features.columns:\n",
        "    column_values = X_train_selected_features[column].values.reshape(-1, 1)\n",
        "    imputed_values = imputer.fit_transform(column_values)\n",
        "    X_train_imputed = pd.concat([X_train_imputed, pd.DataFrame(imputed_values, columns=[column])], axis=1)\n",
        "\n",
        "# Impute missing values for application_bureau_prev_test_selected_features_subset1\n",
        "application_bureau_prev_test_selected_features_subset1 = application_bureau_prev_test_selected_features.iloc[:, np.r_[113:115, 0:57]]\n",
        "app_bur_prev_test_imputed_subset1 = pd.DataFrame(index=application_bureau_prev_test_selected_features_subset1.index)\n",
        "\n",
        "for column in application_bureau_prev_test_selected_features_subset1.columns:\n",
        "    column_values = application_bureau_prev_test_selected_features_subset1[column].values.reshape(-1, 1)\n",
        "    imputed_values = imputer.fit_transform(column_values)\n",
        "    app_bur_prev_test_imputed_subset1 = pd.concat([app_bur_prev_test_imputed_subset1, pd.DataFrame(imputed_values, columns=[column])], axis=1)\n",
        "\n",
        "# Impute missing values for application_bureau_prev_test_selected_features_subset2\n",
        "application_bureau_prev_test_selected_features_subset2 = application_bureau_prev_test_selected_features.iloc[:, np.r_[57:]]\n",
        "app_bur_prev_test_imputed_subset2 = pd.DataFrame(index=application_bureau_prev_test_selected_features_subset2.index)\n",
        "\n",
        "for column in application_bureau_prev_test_selected_features_subset2.columns:\n",
        "    column_values = application_bureau_prev_test_selected_features_subset2[column].values.reshape(-1, 1)\n",
        "    imputed_values = imputer.fit_transform(column_values)\n",
        "    app_bur_prev_test_imputed_subset2 = pd.concat([app_bur_prev_test_imputed_subset2, pd.DataFrame(imputed_values, columns=[column])], axis=1)\n",
        "\n",
        "\n",
        "# Merge the imputed subsets\n",
        "app_bur_prev_test_imputed = pd.merge(app_bur_prev_test_imputed_subset1, app_bur_prev_test_imputed_subset2, on='SK_ID_CURR')\n",
        "\n",
        "# Impute missing values for X_test_selected_features\n",
        "X_test_imputed = pd.DataFrame(index=X_test_selected_features.index)\n",
        "\n",
        "for column in X_test_selected_features.columns:\n",
        "    column_values = X_test_selected_features[column].values.reshape(-1, 1)\n",
        "    imputed_values = imputer.fit_transform(column_values)\n",
        "    X_test_imputed = pd.concat([X_test_imputed, pd.DataFrame(imputed_values, columns=[column])], axis=1)\n",
        "\n",
        "# Print the shapes of the imputed datasets\n",
        "print(X_test_imputed.shape)\n",
        "print(X_train_imputed.shape)\n",
        "print(app_bur_prev_test_imputed.shape)\n"
      ]
    },
    {
      "cell_type": "code",
      "source": [
        "# Print the column names of app_bur_prev_test_imputed\n",
        "print(\"Columns of app_bur_prev_test_imputed:\")\n",
        "print(app_bur_prev_test_imputed.columns)\n",
        "\n",
        "# Print the column names of X_train_imputed\n",
        "print(\"Columns of X_train_imputed:\")\n",
        "print(X_train_imputed.columns)\n",
        "\n",
        "# Find the columns that are present in one DataFrame but not the other\n",
        "missing_columns_in_app_bur_prev_test_imputed = set(X_train_imputed.columns) - set(app_bur_prev_test_imputed.columns)\n",
        "missing_columns_in_X_train_imputed = set(app_bur_prev_test_imputed.columns) - set(X_train_imputed.columns)\n",
        "\n",
        "print(\"Missing columns in app_bur_prev_test_imputed:\")\n",
        "print(missing_columns_in_app_bur_prev_test_imputed)\n",
        "\n",
        "print(\"Missing columns in X_train_imputed:\")\n",
        "print(missing_columns_in_X_train_imputed)\n"
      ],
      "metadata": {
        "colab": {
          "base_uri": "https://localhost:8080/"
        },
        "id": "NYDsDNMPOTnK",
        "outputId": "0382ec58-2214-4a2f-a620-ca0bb3f1121d"
      },
      "execution_count": 16,
      "outputs": [
        {
          "output_type": "stream",
          "name": "stdout",
          "text": [
            "Columns of app_bur_prev_test_imputed:\n",
            "Index(['CREDIT_SK_DPD', 'CREDIT_SK_DPD_DEF', 'Unnamed: 0.1_x', 'Unnamed: 0_x',\n",
            "       'SK_ID_CURR', 'AMT_INCOME_TOTAL_x', 'AMT_CREDIT_x', 'AMT_ANNUITY_x',\n",
            "       'AMT_GOODS_PRICE_x', 'DAYS_BIRTH_x',\n",
            "       ...\n",
            "       'BUREAU_DAYS_CREDIT_ENDDATE_y', 'BUREAU_DAYS_ENDDATE_FACT_y',\n",
            "       'BUREAU_AMT_CREDIT_MAX_OVERDUE_y', 'BUREAU_AMT_CREDIT_SUM_y',\n",
            "       'BUREAU_AMT_CREDIT_SUM_DEBT_y', 'BUREAU_AMT_CREDIT_SUM_LIMIT_y',\n",
            "       'BUREAU_AMT_CREDIT_SUM_OVERDUE_y', 'BUREAU_DAYS_CREDIT_UPDATE_y',\n",
            "       'BUREAU_AMT_ANNUITY_y', 'BUREAU_CREDIT_ACTIVE_Active_y'],\n",
            "      dtype='object', length=115)\n",
            "Columns of X_train_imputed:\n",
            "Index(['Unnamed: 0.1', 'Unnamed: 0', 'SK_ID_CURR', 'AMT_INCOME_TOTAL',\n",
            "       'AMT_CREDIT', 'AMT_ANNUITY', 'AMT_GOODS_PRICE', 'DAYS_BIRTH',\n",
            "       'DAYS_EMPLOYED', 'DAYS_REGISTRATION',\n",
            "       ...\n",
            "       'CREDIT_AMT_PAYMENT_TOTAL_CURRENT', 'CREDIT_AMT_RECEIVABLE_PRINCIPAL',\n",
            "       'CREDIT_AMT_RECIVABLE', 'CREDIT_AMT_TOTAL_RECEIVABLE',\n",
            "       'CREDIT_CNT_DRAWINGS_ATM_CURRENT', 'CREDIT_CNT_DRAWINGS_CURRENT',\n",
            "       'CREDIT_CNT_DRAWINGS_POS_CURRENT', 'CREDIT_CNT_INSTALMENT_MATURE_CUM',\n",
            "       'CREDIT_SK_DPD', 'CREDIT_SK_DPD_DEF'],\n",
            "      dtype='object', length=115)\n",
            "Missing columns in app_bur_prev_test_imputed:\n",
            "{'POS_NAME_CONTRACT_STATUS_Completed', 'COMMONAREA_MODE', 'Unnamed: 0', 'NONLIVINGAREA_MODE', 'INSTA_AMT_PAYMENT_y', 'POS_MONTHS_BALANCE', 'CREDIT_AMT_DRAWINGS_ATM_CURRENT', 'EXT_SOURCE_1', 'INSTA_NUM_INSTALMENT_VERSION_x', 'NONLIVINGAREA_AVG', 'BUREAU_AMT_CREDIT_SUM_OVERDUE', 'CREDIT_CNT_INSTALMENT_MATURE_CUM', 'DAYS_BIRTH', 'PREV_DAYS_DECISION', 'CREDIT_AMT_TOTAL_RECEIVABLE', 'BUREAU_AMT_CREDIT_SUM', 'LIVINGAREA_MODE', 'BUREAU_CREDIT_ACTIVE_Closed', 'PREV_NAME_CONTRACT_STATUS_Approved', 'APARTMENTS_AVG', 'AMT_GOODS_PRICE', 'LIVINGAPARTMENTS_MEDI', 'LIVINGAREA_MEDI', 'INSTA_NUM_INSTALMENT_VERSION_y', 'Percent_Days_employed', 'AMT_CREDIT', 'Annuity_as_percent_income', 'PREV_AMT_CREDIT', 'APARTMENTS_MEDI', 'CREDIT_AMT_INST_MIN_REGULARITY', 'PREV_DAYS_LAST_DUE', 'BUREAU_AMT_CREDIT_MAX_OVERDUE', 'PREV_CNT_PAYMENT', 'INSTA_DAYS_INSTALMENT_x', 'CREDIT_CNT_DRAWINGS_CURRENT', 'LANDAREA_MEDI', 'BUREAU_CREDIT_ACTIVE_Active', 'FLOORSMIN_AVG', 'Unnamed: 0.1', 'LANDAREA_MODE', 'INSTA_AMT_PAYMENT_x', 'POS_SK_DPD_DEF', 'BUREAU_DAYS_CREDIT_ENDDATE', 'PREV_AMT_GOODS_PRICE', 'BASEMENTAREA_AVG', 'Credit_as_percent_income', 'CREDIT_AMT_PAYMENT_TOTAL_CURRENT', 'LANDAREA_AVG', 'POS_CNT_INSTALMENT', 'BUREAU_CREDIT_DAY_OVERDUE', 'CREDIT_AMT_DRAWINGS_OTHER_CURRENT', 'OVERDUE_DEBT_RATIO', 'CREDIT_AMT_DRAWINGS_POS_CURRENT', 'INSTA_DAYS_ENTRY_PAYMENT_y', 'DAYS_ID_PUBLISH', 'PREV_DAYS_LAST_DUE_1ST_VERSION', 'PREV_DAYS_FIRST_DUE', 'BUREAU_AMT_CREDIT_SUM_DEBT', 'CREDIT_AMT_CREDIT_LIMIT_ACTUAL', 'INSTA_DAYS_ENTRY_PAYMENT_x', 'ELEVATORS_AVG', 'POS_SK_DPD', 'PREV_HOUR_APPR_PROCESS_START', 'DAYS_LAST_PHONE_CHANGE', 'BUREAU_DAYS_ENDDATE_FACT', 'CREDIT_CNT_DRAWINGS_ATM_CURRENT', 'INSTA_DAYS_INSTALMENT_y', 'APARTMENTS_MODE', 'LIVINGAPARTMENTS_MODE', 'POS_CNT_INSTALMENT_FUTURE', 'INSTA_AMT_INSTALMENT_y', 'PREV_RATE_DOWN_PAYMENT', 'DAYS_REGISTRATION', 'BUREAU_AMT_CREDIT_SUM_LIMIT', 'BASEMENTAREA_MODE', 'INSTA_NUM_INSTALMENT_NUMBER_y', 'CREDIT_AMT_BALANCE', 'COMMONAREA_AVG', 'LIVINGAREA_AVG', 'PREV_DAYS_TERMINATION', 'DAYS_EMPLOYED', 'BUREAU_AMT_ANNUITY', 'BASEMENTAREA_MEDI', 'PREV_AMT_APPLICATION', 'NONLIVINGAPARTMENTS_MEDI', 'POS_NAME_CONTRACT_STATUS_Active', 'TOTALAREA_MODE', 'AMT_ANNUITY', 'BUREAU_DAYS_CREDIT', 'PREV_CODE_REJECT_REASON_XAP', 'CREDIT_AMT_DRAWINGS_CURRENT', 'CREDIT_CNT_DRAWINGS_POS_CURRENT', 'BUREAU_DAYS_CREDIT_UPDATE', 'FLOORSMAX_AVG', 'PREV_NAME_CONTRACT_STATUS_Refused', 'PREV_AMT_DOWN_PAYMENT', 'CREDIT_AMT_RECEIVABLE_PRINCIPAL', 'PREV_DAYS_FIRST_DRAWING', 'CREDIT_AMT_RECIVABLE', 'COMMONAREA_MEDI', 'INSTA_NUM_INSTALMENT_NUMBER_x', 'EXT_SOURCE_2', 'INSTA_AMT_INSTALMENT_x', 'PREV_SELLERPLACE_AREA', 'CREDIT_AMT_PAYMENT_CURRENT', 'LIVINGAPARTMENTS_AVG', 'NONLIVINGAPARTMENTS_AVG', 'NONLIVINGAREA_MEDI', 'EXT_SOURCE_3', 'PREV_AMT_ANNUITY', 'AMT_INCOME_TOTAL', 'DEBT_CREDIT_RATIO'}\n",
            "Missing columns in X_train_imputed:\n",
            "{'BUREAU_AMT_ANNUITY_x', 'BASEMENTAREA_MEDI_x', 'LANDAREA_AVG_y', 'NONLIVINGAPARTMENTS_AVG_x', 'DAYS_REGISTRATION_y', 'Credit_as_percent_income_x', 'NONLIVINGAPARTMENTS_MEDI_x', 'LANDAREA_MEDI_y', 'DAYS_LAST_PHONE_CHANGE_y', 'APARTMENTS_MEDI_x', 'BUREAU_AMT_CREDIT_SUM_y', 'Percent_Days_employed_y', 'APARTMENTS_AVG_x', 'BASEMENTAREA_AVG_y', 'EXT_SOURCE_1_y', 'AMT_ANNUITY_y', 'EXT_SOURCE_2_x', 'DAYS_ID_PUBLISH_x', 'BUREAU_CREDIT_DAY_OVERDUE_y', 'LANDAREA_MODE_x', 'EXT_SOURCE_3_x', 'LIVINGAPARTMENTS_AVG_x', 'NONLIVINGAPARTMENTS_AVG_y', 'AMT_INCOME_TOTAL_x', 'ELEVATORS_AVG_y', 'Annuity_as_percent_income_x', 'LIVINGAPARTMENTS_MODE_x', 'Percent_Days_employed_x', 'Annuity_as_percent_income_y', 'NONLIVINGAREA_AVG_x', 'BUREAU_AMT_ANNUITY_y', 'BUREAU_AMT_CREDIT_SUM_x', 'DAYS_BIRTH_y', 'BASEMENTAREA_MEDI_y', 'AMT_GOODS_PRICE_y', 'Unnamed: 0_y', 'BUREAU_AMT_CREDIT_SUM_LIMIT_y', 'DAYS_ID_PUBLISH_y', 'BUREAU_CREDIT_ACTIVE_Active_x', 'LIVINGAREA_MEDI_x', 'NONLIVINGAPARTMENTS_MEDI_y', 'DAYS_EMPLOYED_y', 'APARTMENTS_MODE_x', 'BASEMENTAREA_MODE_y', 'AMT_ANNUITY_x', 'BUREAU_AMT_CREDIT_SUM_DEBT_y', 'COMMONAREA_MODE_x', 'AMT_CREDIT_x', 'LIVINGAREA_AVG_x', 'DAYS_BIRTH_x', 'LANDAREA_MODE_y', 'COMMONAREA_AVG_y', 'BUREAU_AMT_CREDIT_SUM_LIMIT_x', 'DAYS_LAST_PHONE_CHANGE_x', 'LIVINGAREA_MEDI_y', 'BUREAU_AMT_CREDIT_SUM_DEBT_x', 'NONLIVINGAREA_MODE_x', 'ELEVATORS_AVG_x', 'AMT_GOODS_PRICE_x', 'COMMONAREA_AVG_x', 'NONLIVINGAREA_MODE_y', 'COMMONAREA_MEDI_y', 'BUREAU_AMT_CREDIT_MAX_OVERDUE_y', 'APARTMENTS_MODE_y', 'COMMONAREA_MEDI_x', 'LIVINGAPARTMENTS_MEDI_x', 'BUREAU_DAYS_CREDIT_UPDATE_x', 'Unnamed: 0.1_y', 'NONLIVINGAREA_AVG_y', 'DAYS_REGISTRATION_x', 'FLOORSMIN_AVG_y', 'BUREAU_DAYS_ENDDATE_FACT_x', 'Unnamed: 0_x', 'Unnamed: 0.1_x', 'FLOORSMAX_AVG_y', 'BUREAU_CREDIT_DAY_OVERDUE_x', 'NONLIVINGAREA_MEDI_x', 'BUREAU_AMT_CREDIT_SUM_OVERDUE_x', 'APARTMENTS_AVG_y', 'LIVINGAPARTMENTS_MEDI_y', 'TOTALAREA_MODE_y', 'EXT_SOURCE_1_x', 'NONLIVINGAREA_MEDI_y', 'BASEMENTAREA_MODE_x', 'LIVINGAPARTMENTS_MODE_y', 'BUREAU_DAYS_CREDIT_y', 'BUREAU_DAYS_CREDIT_UPDATE_y', 'AMT_INCOME_TOTAL_y', 'FLOORSMAX_AVG_x', 'LIVINGAREA_AVG_y', 'COMMONAREA_MODE_y', 'LIVINGAREA_MODE_y', 'LIVINGAPARTMENTS_AVG_y', 'LIVINGAREA_MODE_x', 'BUREAU_DAYS_CREDIT_ENDDATE_y', 'BUREAU_AMT_CREDIT_SUM_OVERDUE_y', 'AMT_CREDIT_y', 'EXT_SOURCE_2_y', 'LANDAREA_MEDI_x', 'BUREAU_AMT_CREDIT_MAX_OVERDUE_x', 'BUREAU_CREDIT_ACTIVE_Active_y', 'BASEMENTAREA_AVG_x', 'TOTALAREA_MODE_x', 'Credit_as_percent_income_y', 'BUREAU_DAYS_CREDIT_x', 'FLOORSMIN_AVG_x', 'APARTMENTS_MEDI_y', 'LANDAREA_AVG_x', 'EXT_SOURCE_3_y', 'BUREAU_DAYS_ENDDATE_FACT_y', 'DAYS_EMPLOYED_x', 'BUREAU_DAYS_CREDIT_ENDDATE_x'}\n"
          ]
        }
      ]
    },
    {
      "cell_type": "markdown",
      "source": [
        "Sejajarkan kerangka data pelatihan dan pengujian, pertahankan hanya kolom yang ada di kedua kerangka data Kita lihat di atas bahwa jumlah kolom dalam test dan training set tidak sama."
      ],
      "metadata": {
        "id": "IiYC1cdaHJSu"
      }
    },
    {
      "cell_type": "code",
      "source": [
        "app_bur_prev_test_imputed.columns"
      ],
      "metadata": {
        "colab": {
          "base_uri": "https://localhost:8080/"
        },
        "id": "psfE-omNWfnm",
        "outputId": "db222dfe-bbc2-420f-b209-121920db3ec2"
      },
      "execution_count": 17,
      "outputs": [
        {
          "output_type": "execute_result",
          "data": {
            "text/plain": [
              "Index(['CREDIT_SK_DPD', 'CREDIT_SK_DPD_DEF', 'Unnamed: 0.1_x', 'Unnamed: 0_x',\n",
              "       'SK_ID_CURR', 'AMT_INCOME_TOTAL_x', 'AMT_CREDIT_x', 'AMT_ANNUITY_x',\n",
              "       'AMT_GOODS_PRICE_x', 'DAYS_BIRTH_x',\n",
              "       ...\n",
              "       'BUREAU_DAYS_CREDIT_ENDDATE_y', 'BUREAU_DAYS_ENDDATE_FACT_y',\n",
              "       'BUREAU_AMT_CREDIT_MAX_OVERDUE_y', 'BUREAU_AMT_CREDIT_SUM_y',\n",
              "       'BUREAU_AMT_CREDIT_SUM_DEBT_y', 'BUREAU_AMT_CREDIT_SUM_LIMIT_y',\n",
              "       'BUREAU_AMT_CREDIT_SUM_OVERDUE_y', 'BUREAU_DAYS_CREDIT_UPDATE_y',\n",
              "       'BUREAU_AMT_ANNUITY_y', 'BUREAU_CREDIT_ACTIVE_Active_y'],\n",
              "      dtype='object', length=115)"
            ]
          },
          "metadata": {},
          "execution_count": 17
        }
      ]
    },
    {
      "cell_type": "code",
      "source": [
        "# X_train_imputed, app_bur_prev_test_imputed = app_bur_prev_test_imputed.align(X_train_imputed, join='inner', axis=1)\n",
        "# X_train_imputed, X_test_imputed = X_train_imputed.align(X_test_imputed, join='inner', axis=1)\n",
        "# print(X_test_imputed.shape)\n",
        "# print(X_train_imputed.shape)\n",
        "# print(app_bur_prev_test_imputed.shape)"
      ],
      "metadata": {
        "id": "8e1fcwtcNl4r"
      },
      "execution_count": 18,
      "outputs": []
    },
    {
      "cell_type": "markdown",
      "metadata": {
        "id": "uCskXl-zgJAy"
      },
      "source": [
        "# Menerapkan Algoritma Pembelajaran Mesin (menggunakan validasi silang)\n",
        "\n",
        "\n",
        "> Menerapkan Regresi Logistik"
      ]
    },
    {
      "cell_type": "code",
      "execution_count": 19,
      "metadata": {
        "id": "sTCwR3bvgP0d",
        "colab": {
          "base_uri": "https://localhost:8080/",
          "height": 74
        },
        "outputId": "61a59631-f7b3-48f3-f7ee-6491982c93f8"
      },
      "outputs": [
        {
          "output_type": "execute_result",
          "data": {
            "text/plain": [
              "LogisticRegression(class_weight='balanced', max_iter=10000, random_state=0)"
            ],
            "text/html": [
              "<style>#sk-container-id-1 {color: black;background-color: white;}#sk-container-id-1 pre{padding: 0;}#sk-container-id-1 div.sk-toggleable {background-color: white;}#sk-container-id-1 label.sk-toggleable__label {cursor: pointer;display: block;width: 100%;margin-bottom: 0;padding: 0.3em;box-sizing: border-box;text-align: center;}#sk-container-id-1 label.sk-toggleable__label-arrow:before {content: \"▸\";float: left;margin-right: 0.25em;color: #696969;}#sk-container-id-1 label.sk-toggleable__label-arrow:hover:before {color: black;}#sk-container-id-1 div.sk-estimator:hover label.sk-toggleable__label-arrow:before {color: black;}#sk-container-id-1 div.sk-toggleable__content {max-height: 0;max-width: 0;overflow: hidden;text-align: left;background-color: #f0f8ff;}#sk-container-id-1 div.sk-toggleable__content pre {margin: 0.2em;color: black;border-radius: 0.25em;background-color: #f0f8ff;}#sk-container-id-1 input.sk-toggleable__control:checked~div.sk-toggleable__content {max-height: 200px;max-width: 100%;overflow: auto;}#sk-container-id-1 input.sk-toggleable__control:checked~label.sk-toggleable__label-arrow:before {content: \"▾\";}#sk-container-id-1 div.sk-estimator input.sk-toggleable__control:checked~label.sk-toggleable__label {background-color: #d4ebff;}#sk-container-id-1 div.sk-label input.sk-toggleable__control:checked~label.sk-toggleable__label {background-color: #d4ebff;}#sk-container-id-1 input.sk-hidden--visually {border: 0;clip: rect(1px 1px 1px 1px);clip: rect(1px, 1px, 1px, 1px);height: 1px;margin: -1px;overflow: hidden;padding: 0;position: absolute;width: 1px;}#sk-container-id-1 div.sk-estimator {font-family: monospace;background-color: #f0f8ff;border: 1px dotted black;border-radius: 0.25em;box-sizing: border-box;margin-bottom: 0.5em;}#sk-container-id-1 div.sk-estimator:hover {background-color: #d4ebff;}#sk-container-id-1 div.sk-parallel-item::after {content: \"\";width: 100%;border-bottom: 1px solid gray;flex-grow: 1;}#sk-container-id-1 div.sk-label:hover label.sk-toggleable__label {background-color: #d4ebff;}#sk-container-id-1 div.sk-serial::before {content: \"\";position: absolute;border-left: 1px solid gray;box-sizing: border-box;top: 0;bottom: 0;left: 50%;z-index: 0;}#sk-container-id-1 div.sk-serial {display: flex;flex-direction: column;align-items: center;background-color: white;padding-right: 0.2em;padding-left: 0.2em;position: relative;}#sk-container-id-1 div.sk-item {position: relative;z-index: 1;}#sk-container-id-1 div.sk-parallel {display: flex;align-items: stretch;justify-content: center;background-color: white;position: relative;}#sk-container-id-1 div.sk-item::before, #sk-container-id-1 div.sk-parallel-item::before {content: \"\";position: absolute;border-left: 1px solid gray;box-sizing: border-box;top: 0;bottom: 0;left: 50%;z-index: -1;}#sk-container-id-1 div.sk-parallel-item {display: flex;flex-direction: column;z-index: 1;position: relative;background-color: white;}#sk-container-id-1 div.sk-parallel-item:first-child::after {align-self: flex-end;width: 50%;}#sk-container-id-1 div.sk-parallel-item:last-child::after {align-self: flex-start;width: 50%;}#sk-container-id-1 div.sk-parallel-item:only-child::after {width: 0;}#sk-container-id-1 div.sk-dashed-wrapped {border: 1px dashed gray;margin: 0 0.4em 0.5em 0.4em;box-sizing: border-box;padding-bottom: 0.4em;background-color: white;}#sk-container-id-1 div.sk-label label {font-family: monospace;font-weight: bold;display: inline-block;line-height: 1.2em;}#sk-container-id-1 div.sk-label-container {text-align: center;}#sk-container-id-1 div.sk-container {/* jupyter's `normalize.less` sets `[hidden] { display: none; }` but bootstrap.min.css set `[hidden] { display: none !important; }` so we also need the `!important` here to be able to override the default hidden behavior on the sphinx rendered scikit-learn.org. See: https://github.com/scikit-learn/scikit-learn/issues/21755 */display: inline-block !important;position: relative;}#sk-container-id-1 div.sk-text-repr-fallback {display: none;}</style><div id=\"sk-container-id-1\" class=\"sk-top-container\"><div class=\"sk-text-repr-fallback\"><pre>LogisticRegression(class_weight=&#x27;balanced&#x27;, max_iter=10000, random_state=0)</pre><b>In a Jupyter environment, please rerun this cell to show the HTML representation or trust the notebook. <br />On GitHub, the HTML representation is unable to render, please try loading this page with nbviewer.org.</b></div><div class=\"sk-container\" hidden><div class=\"sk-item\"><div class=\"sk-estimator sk-toggleable\"><input class=\"sk-toggleable__control sk-hidden--visually\" id=\"sk-estimator-id-1\" type=\"checkbox\" checked><label for=\"sk-estimator-id-1\" class=\"sk-toggleable__label sk-toggleable__label-arrow\">LogisticRegression</label><div class=\"sk-toggleable__content\"><pre>LogisticRegression(class_weight=&#x27;balanced&#x27;, max_iter=10000, random_state=0)</pre></div></div></div></div></div>"
            ]
          },
          "metadata": {},
          "execution_count": 19
        }
      ],
      "source": [
        "from sklearn.linear_model import LogisticRegression\n",
        "lr_clf = LogisticRegression(random_state = 0, class_weight='balanced', solver='lbfgs', max_iter=10000)\n",
        "lr_clf.fit(X_train_imputed, y_train)\n",
        "\n"
      ]
    },
    {
      "cell_type": "code",
      "source": [
        "from sklearn.model_selection import cross_val_predict\n",
        "from sklearn.model_selection import cross_val_score\n",
        "y_train_pred_lr=cross_val_predict(lr_clf, X_train_imputed, y_train, cv=10)\n",
        "print('Akurasi pada set pelatihan:',cross_val_score(lr_clf, X_train_imputed,y_train, cv=10, scoring='accuracy'))\n",
        "print('Akurasi pada set tes:',cross_val_score(lr_clf, X_test_imputed,y_test, cv=10, scoring='accuracy'))"
      ],
      "metadata": {
        "colab": {
          "base_uri": "https://localhost:8080/"
        },
        "id": "2s5fFBq5RTu3",
        "outputId": "e5e8cac1-4a72-452a-973f-a4d72f6a2abe"
      },
      "execution_count": 20,
      "outputs": [
        {
          "output_type": "stream",
          "name": "stdout",
          "text": [
            "Akurasi pada set pelatihan: [0.62603146 0.62196659 0.62241372 0.62391773 0.6198122  0.62826714\n",
            " 0.62017804 0.62054388 0.62573171 0.61963415]\n",
            "Akurasi pada set tes: [0.63810762 0.62347586 0.617298   0.63398374 0.62910569 0.63170732\n",
            " 0.62130081 0.62406504 0.63089431 0.62861789]\n"
          ]
        }
      ]
    },
    {
      "cell_type": "markdown",
      "metadata": {
        "id": "3VRDOhYyJ2Yl"
      },
      "source": [
        "> XGBoost"
      ]
    },
    {
      "cell_type": "code",
      "execution_count": 21,
      "metadata": {
        "id": "vpTlt57agTe3",
        "colab": {
          "base_uri": "https://localhost:8080/"
        },
        "outputId": "1a3ef3e2-e9ee-498f-ec0f-4aa2056aa90f"
      },
      "outputs": [
        {
          "output_type": "stream",
          "name": "stdout",
          "text": [
            "Akurasi pada set pelatihan: [0.75102638 0.75350596 0.74935978 0.75570099 0.75667656 0.75480672\n",
            " 0.75643267 0.74692086 0.75341463 0.75097561]\n",
            "Akurasi pada set tes: [0.82295562 0.81076248 0.81287596 0.81252033 0.80943089 0.81317073\n",
            " 0.80650407 0.81837398 0.8095935  0.81365854]\n"
          ]
        }
      ],
      "source": [
        "#Skala_pos_berat jika disetel ke jumlah(instance negatif)/ sum(instance negatif)\n",
        "#akan menangani data yang tidak seimbang dalam kumpulan data\n",
        "scale_pos_weight_value=y_train.value_counts().values.tolist()[0]/y_train.value_counts().values.tolist()[1]\n",
        "from xgboost import XGBClassifier\n",
        "XGB_clf = XGBClassifier(scale_pos_weight=scale_pos_weight_value)\n",
        "XGB_clf.fit(X_train_imputed, y_train)\n",
        "print('Akurasi pada set pelatihan:',cross_val_score(XGB_clf, X_train_imputed, y_train, cv=10, scoring='accuracy'))\n",
        "print('Akurasi pada set tes:',cross_val_score(XGB_clf, X_test_imputed, y_test, cv=10, scoring='accuracy'))"
      ]
    },
    {
      "cell_type": "markdown",
      "metadata": {
        "id": "3UaZAldqKLfJ"
      },
      "source": [
        "> CATBOOST"
      ]
    },
    {
      "cell_type": "code",
      "execution_count": 28,
      "metadata": {
        "id": "5WenKP6ngW95"
      },
      "outputs": [],
      "source": [
        "cols_numeric = X_train_imputed.select_dtypes([np.number]).columns \n",
        "cols_categorical=X_train_imputed.columns.difference(cols_numeric)\n",
        "# print(y_train.dtype)\n",
        "# print(np.unique(y_train))\n",
        "# print(y_test.dtype)\n",
        "# print(np.unique(y_test))"
      ]
    },
    {
      "cell_type": "code",
      "source": [
        "cols_numeric"
      ],
      "metadata": {
        "colab": {
          "base_uri": "https://localhost:8080/"
        },
        "id": "hJWThBOdFBy8",
        "outputId": "0091664c-c994-4bf0-978f-5e60196beafa"
      },
      "execution_count": 41,
      "outputs": [
        {
          "output_type": "execute_result",
          "data": {
            "text/plain": [
              "Index(['Unnamed: 0.1', 'Unnamed: 0', 'SK_ID_CURR', 'AMT_INCOME_TOTAL',\n",
              "       'AMT_CREDIT', 'AMT_ANNUITY', 'AMT_GOODS_PRICE', 'DAYS_BIRTH',\n",
              "       'DAYS_EMPLOYED', 'DAYS_REGISTRATION',\n",
              "       ...\n",
              "       'CREDIT_AMT_PAYMENT_TOTAL_CURRENT', 'CREDIT_AMT_RECEIVABLE_PRINCIPAL',\n",
              "       'CREDIT_AMT_RECIVABLE', 'CREDIT_AMT_TOTAL_RECEIVABLE',\n",
              "       'CREDIT_CNT_DRAWINGS_ATM_CURRENT', 'CREDIT_CNT_DRAWINGS_CURRENT',\n",
              "       'CREDIT_CNT_DRAWINGS_POS_CURRENT', 'CREDIT_CNT_INSTALMENT_MATURE_CUM',\n",
              "       'CREDIT_SK_DPD', 'CREDIT_SK_DPD_DEF'],\n",
              "      dtype='object', length=115)"
            ]
          },
          "metadata": {},
          "execution_count": 41
        }
      ]
    },
    {
      "cell_type": "code",
      "source": [
        "# pip install catboost"
      ],
      "metadata": {
        "colab": {
          "base_uri": "https://localhost:8080/"
        },
        "id": "zMOygP8MBEvO",
        "outputId": "740f9142-88b3-429d-c801-9fcdab13ee5a"
      },
      "execution_count": 24,
      "outputs": [
        {
          "output_type": "stream",
          "name": "stdout",
          "text": [
            "Looking in indexes: https://pypi.org/simple, https://us-python.pkg.dev/colab-wheels/public/simple/\n",
            "Collecting catboost\n",
            "  Downloading catboost-1.2-cp310-cp310-manylinux2014_x86_64.whl (98.6 MB)\n",
            "\u001b[2K     \u001b[90m━━━━━━━━━━━━━━━━━━━━━━━━━━━━━━━━━━━━━━━━\u001b[0m \u001b[32m98.6/98.6 MB\u001b[0m \u001b[31m2.3 MB/s\u001b[0m eta \u001b[36m0:00:00\u001b[0m\n",
            "\u001b[?25hRequirement already satisfied: graphviz in /usr/local/lib/python3.10/dist-packages (from catboost) (0.20.1)\n",
            "Requirement already satisfied: matplotlib in /usr/local/lib/python3.10/dist-packages (from catboost) (3.7.1)\n",
            "Requirement already satisfied: numpy>=1.16.0 in /usr/local/lib/python3.10/dist-packages (from catboost) (1.22.4)\n",
            "Requirement already satisfied: pandas>=0.24 in /usr/local/lib/python3.10/dist-packages (from catboost) (1.5.3)\n",
            "Requirement already satisfied: scipy in /usr/local/lib/python3.10/dist-packages (from catboost) (1.10.1)\n",
            "Requirement already satisfied: plotly in /usr/local/lib/python3.10/dist-packages (from catboost) (5.13.1)\n",
            "Requirement already satisfied: six in /usr/local/lib/python3.10/dist-packages (from catboost) (1.16.0)\n",
            "Requirement already satisfied: python-dateutil>=2.8.1 in /usr/local/lib/python3.10/dist-packages (from pandas>=0.24->catboost) (2.8.2)\n",
            "Requirement already satisfied: pytz>=2020.1 in /usr/local/lib/python3.10/dist-packages (from pandas>=0.24->catboost) (2022.7.1)\n",
            "Requirement already satisfied: contourpy>=1.0.1 in /usr/local/lib/python3.10/dist-packages (from matplotlib->catboost) (1.0.7)\n",
            "Requirement already satisfied: cycler>=0.10 in /usr/local/lib/python3.10/dist-packages (from matplotlib->catboost) (0.11.0)\n",
            "Requirement already satisfied: fonttools>=4.22.0 in /usr/local/lib/python3.10/dist-packages (from matplotlib->catboost) (4.39.3)\n",
            "Requirement already satisfied: kiwisolver>=1.0.1 in /usr/local/lib/python3.10/dist-packages (from matplotlib->catboost) (1.4.4)\n",
            "Requirement already satisfied: packaging>=20.0 in /usr/local/lib/python3.10/dist-packages (from matplotlib->catboost) (23.1)\n",
            "Requirement already satisfied: pillow>=6.2.0 in /usr/local/lib/python3.10/dist-packages (from matplotlib->catboost) (8.4.0)\n",
            "Requirement already satisfied: pyparsing>=2.3.1 in /usr/local/lib/python3.10/dist-packages (from matplotlib->catboost) (3.0.9)\n",
            "Requirement already satisfied: tenacity>=6.2.0 in /usr/local/lib/python3.10/dist-packages (from plotly->catboost) (8.2.2)\n",
            "Installing collected packages: catboost\n",
            "Successfully installed catboost-1.2\n"
          ]
        }
      ]
    },
    {
      "cell_type": "code",
      "execution_count": 43,
      "metadata": {
        "id": "VKoQBmBzgcPU",
        "colab": {
          "base_uri": "https://localhost:8080/"
        },
        "outputId": "cf46be3f-e6da-495b-afca-df4cbc6ef263"
      },
      "outputs": [
        {
          "output_type": "stream",
          "name": "stdout",
          "text": [
            "0:\tlearn: 0.2713396\ttotal: 62.9ms\tremaining: 3.08s\n",
            "1:\tlearn: 0.2704779\ttotal: 118ms\tremaining: 2.83s\n",
            "2:\tlearn: 0.2697623\ttotal: 185ms\tremaining: 2.9s\n",
            "3:\tlearn: 0.2691397\ttotal: 248ms\tremaining: 2.85s\n",
            "4:\tlearn: 0.2685700\ttotal: 313ms\tremaining: 2.82s\n",
            "5:\tlearn: 0.2680761\ttotal: 402ms\tremaining: 2.94s\n",
            "6:\tlearn: 0.2676318\ttotal: 496ms\tremaining: 3.04s\n",
            "7:\tlearn: 0.2672334\ttotal: 618ms\tremaining: 3.24s\n",
            "8:\tlearn: 0.2669017\ttotal: 726ms\tremaining: 3.31s\n",
            "9:\tlearn: 0.2666061\ttotal: 868ms\tremaining: 3.47s\n",
            "10:\tlearn: 0.2663378\ttotal: 971ms\tremaining: 3.44s\n",
            "11:\tlearn: 0.2660846\ttotal: 1.07s\tremaining: 3.39s\n",
            "12:\tlearn: 0.2658616\ttotal: 1.19s\tremaining: 3.38s\n",
            "13:\tlearn: 0.2656495\ttotal: 1.29s\tremaining: 3.32s\n",
            "14:\tlearn: 0.2654555\ttotal: 1.43s\tremaining: 3.35s\n",
            "15:\tlearn: 0.2652944\ttotal: 1.54s\tremaining: 3.28s\n",
            "16:\tlearn: 0.2651368\ttotal: 1.65s\tremaining: 3.21s\n",
            "17:\tlearn: 0.2649866\ttotal: 1.79s\tremaining: 3.19s\n",
            "18:\tlearn: 0.2648457\ttotal: 1.9s\tremaining: 3.11s\n",
            "19:\tlearn: 0.2647098\ttotal: 2.03s\tremaining: 3.05s\n",
            "20:\tlearn: 0.2645917\ttotal: 2.15s\tremaining: 2.97s\n",
            "21:\tlearn: 0.2644751\ttotal: 2.29s\tremaining: 2.91s\n",
            "22:\tlearn: 0.2643648\ttotal: 2.4s\tremaining: 2.82s\n",
            "23:\tlearn: 0.2642588\ttotal: 2.51s\tremaining: 2.72s\n",
            "24:\tlearn: 0.2641594\ttotal: 2.63s\tremaining: 2.63s\n",
            "25:\tlearn: 0.2640672\ttotal: 2.7s\tremaining: 2.49s\n",
            "26:\tlearn: 0.2639739\ttotal: 2.77s\tremaining: 2.36s\n",
            "27:\tlearn: 0.2638995\ttotal: 2.83s\tremaining: 2.23s\n",
            "28:\tlearn: 0.2638279\ttotal: 2.9s\tremaining: 2.1s\n",
            "29:\tlearn: 0.2637381\ttotal: 2.95s\tremaining: 1.97s\n",
            "30:\tlearn: 0.2636531\ttotal: 3.01s\tremaining: 1.85s\n",
            "31:\tlearn: 0.2635823\ttotal: 3.06s\tremaining: 1.72s\n",
            "32:\tlearn: 0.2635162\ttotal: 3.14s\tremaining: 1.62s\n",
            "33:\tlearn: 0.2634498\ttotal: 3.21s\tremaining: 1.51s\n",
            "34:\tlearn: 0.2633762\ttotal: 3.27s\tremaining: 1.4s\n",
            "35:\tlearn: 0.2633153\ttotal: 3.34s\tremaining: 1.3s\n",
            "36:\tlearn: 0.2632500\ttotal: 3.41s\tremaining: 1.2s\n",
            "37:\tlearn: 0.2631415\ttotal: 3.49s\tremaining: 1.1s\n",
            "38:\tlearn: 0.2630790\ttotal: 3.55s\tremaining: 1s\n",
            "39:\tlearn: 0.2630212\ttotal: 3.6s\tremaining: 901ms\n",
            "40:\tlearn: 0.2629630\ttotal: 3.67s\tremaining: 806ms\n",
            "41:\tlearn: 0.2629099\ttotal: 3.73s\tremaining: 710ms\n",
            "42:\tlearn: 0.2628631\ttotal: 3.79s\tremaining: 616ms\n",
            "43:\tlearn: 0.2627973\ttotal: 3.85s\tremaining: 526ms\n",
            "44:\tlearn: 0.2627167\ttotal: 3.93s\tremaining: 436ms\n",
            "45:\tlearn: 0.2626656\ttotal: 3.99s\tremaining: 347ms\n",
            "46:\tlearn: 0.2626232\ttotal: 4.04s\tremaining: 258ms\n",
            "47:\tlearn: 0.2625847\ttotal: 4.11s\tremaining: 171ms\n",
            "48:\tlearn: 0.2625458\ttotal: 4.16s\tremaining: 85ms\n",
            "49:\tlearn: 0.2625125\ttotal: 4.23s\tremaining: 0us\n",
            "Root Mean Squared Error on training set: 0.26251252808187797\n",
            "0:\tlearn: 0.2712928\ttotal: 62.9ms\tremaining: 3.08s\n",
            "1:\tlearn: 0.2704429\ttotal: 115ms\tremaining: 2.77s\n",
            "2:\tlearn: 0.2696521\ttotal: 170ms\tremaining: 2.66s\n",
            "3:\tlearn: 0.2690285\ttotal: 229ms\tremaining: 2.63s\n",
            "4:\tlearn: 0.2685045\ttotal: 284ms\tremaining: 2.56s\n",
            "5:\tlearn: 0.2680039\ttotal: 351ms\tremaining: 2.57s\n",
            "6:\tlearn: 0.2675752\ttotal: 408ms\tremaining: 2.5s\n",
            "7:\tlearn: 0.2672034\ttotal: 469ms\tremaining: 2.46s\n",
            "8:\tlearn: 0.2668723\ttotal: 528ms\tremaining: 2.4s\n",
            "9:\tlearn: 0.2665638\ttotal: 585ms\tremaining: 2.34s\n",
            "10:\tlearn: 0.2662991\ttotal: 639ms\tremaining: 2.27s\n",
            "11:\tlearn: 0.2660547\ttotal: 695ms\tremaining: 2.2s\n",
            "12:\tlearn: 0.2658370\ttotal: 764ms\tremaining: 2.17s\n",
            "13:\tlearn: 0.2656189\ttotal: 824ms\tremaining: 2.12s\n",
            "14:\tlearn: 0.2654081\ttotal: 891ms\tremaining: 2.08s\n",
            "15:\tlearn: 0.2652253\ttotal: 941ms\tremaining: 2s\n",
            "16:\tlearn: 0.2650657\ttotal: 995ms\tremaining: 1.93s\n",
            "17:\tlearn: 0.2649026\ttotal: 1.05s\tremaining: 1.88s\n",
            "18:\tlearn: 0.2647653\ttotal: 1.1s\tremaining: 1.8s\n",
            "19:\tlearn: 0.2646379\ttotal: 1.17s\tremaining: 1.75s\n",
            "20:\tlearn: 0.2645168\ttotal: 1.22s\tremaining: 1.69s\n",
            "21:\tlearn: 0.2644112\ttotal: 1.28s\tremaining: 1.63s\n",
            "22:\tlearn: 0.2643035\ttotal: 1.33s\tremaining: 1.56s\n",
            "23:\tlearn: 0.2641891\ttotal: 1.38s\tremaining: 1.5s\n",
            "24:\tlearn: 0.2640939\ttotal: 1.44s\tremaining: 1.44s\n",
            "25:\tlearn: 0.2640086\ttotal: 1.49s\tremaining: 1.38s\n",
            "26:\tlearn: 0.2639089\ttotal: 1.54s\tremaining: 1.31s\n",
            "27:\tlearn: 0.2638304\ttotal: 1.59s\tremaining: 1.25s\n",
            "28:\tlearn: 0.2637512\ttotal: 1.67s\tremaining: 1.21s\n",
            "29:\tlearn: 0.2636657\ttotal: 1.73s\tremaining: 1.15s\n",
            "30:\tlearn: 0.2635851\ttotal: 1.79s\tremaining: 1.1s\n",
            "31:\tlearn: 0.2635158\ttotal: 1.84s\tremaining: 1.04s\n",
            "32:\tlearn: 0.2634193\ttotal: 1.9s\tremaining: 980ms\n",
            "33:\tlearn: 0.2633488\ttotal: 1.95s\tremaining: 920ms\n",
            "34:\tlearn: 0.2632744\ttotal: 2.01s\tremaining: 861ms\n",
            "35:\tlearn: 0.2632136\ttotal: 2.06s\tremaining: 802ms\n",
            "36:\tlearn: 0.2631556\ttotal: 2.12s\tremaining: 746ms\n",
            "37:\tlearn: 0.2630532\ttotal: 2.19s\tremaining: 691ms\n",
            "38:\tlearn: 0.2629921\ttotal: 2.24s\tremaining: 632ms\n",
            "39:\tlearn: 0.2629342\ttotal: 2.3s\tremaining: 574ms\n",
            "40:\tlearn: 0.2628707\ttotal: 2.36s\tremaining: 519ms\n",
            "41:\tlearn: 0.2628131\ttotal: 2.43s\tremaining: 463ms\n",
            "42:\tlearn: 0.2627559\ttotal: 2.49s\tremaining: 405ms\n",
            "43:\tlearn: 0.2627127\ttotal: 2.54s\tremaining: 347ms\n",
            "44:\tlearn: 0.2626320\ttotal: 2.62s\tremaining: 291ms\n",
            "45:\tlearn: 0.2625850\ttotal: 2.68s\tremaining: 233ms\n",
            "46:\tlearn: 0.2625367\ttotal: 2.74s\tremaining: 175ms\n",
            "47:\tlearn: 0.2624957\ttotal: 2.8s\tremaining: 117ms\n",
            "48:\tlearn: 0.2624576\ttotal: 2.85s\tremaining: 58.3ms\n",
            "49:\tlearn: 0.2624185\ttotal: 2.91s\tremaining: 0us\n",
            "0:\tlearn: 0.2713533\ttotal: 57.5ms\tremaining: 2.82s\n",
            "1:\tlearn: 0.2705013\ttotal: 111ms\tremaining: 2.67s\n",
            "2:\tlearn: 0.2697396\ttotal: 168ms\tremaining: 2.64s\n",
            "3:\tlearn: 0.2691257\ttotal: 227ms\tremaining: 2.61s\n",
            "4:\tlearn: 0.2685837\ttotal: 280ms\tremaining: 2.52s\n",
            "5:\tlearn: 0.2681209\ttotal: 339ms\tremaining: 2.48s\n",
            "6:\tlearn: 0.2676855\ttotal: 391ms\tremaining: 2.4s\n",
            "7:\tlearn: 0.2673311\ttotal: 444ms\tremaining: 2.33s\n",
            "8:\tlearn: 0.2670012\ttotal: 512ms\tremaining: 2.33s\n",
            "9:\tlearn: 0.2666943\ttotal: 565ms\tremaining: 2.26s\n",
            "10:\tlearn: 0.2664061\ttotal: 636ms\tremaining: 2.26s\n",
            "11:\tlearn: 0.2661329\ttotal: 692ms\tremaining: 2.19s\n",
            "12:\tlearn: 0.2659128\ttotal: 745ms\tremaining: 2.12s\n",
            "13:\tlearn: 0.2656986\ttotal: 794ms\tremaining: 2.04s\n",
            "14:\tlearn: 0.2654942\ttotal: 857ms\tremaining: 2s\n",
            "15:\tlearn: 0.2653126\ttotal: 912ms\tremaining: 1.94s\n",
            "16:\tlearn: 0.2651456\ttotal: 975ms\tremaining: 1.89s\n",
            "17:\tlearn: 0.2649825\ttotal: 1.04s\tremaining: 1.84s\n",
            "18:\tlearn: 0.2648591\ttotal: 1.09s\tremaining: 1.78s\n",
            "19:\tlearn: 0.2647269\ttotal: 1.14s\tremaining: 1.72s\n",
            "20:\tlearn: 0.2646016\ttotal: 1.21s\tremaining: 1.67s\n",
            "21:\tlearn: 0.2644799\ttotal: 1.27s\tremaining: 1.62s\n",
            "22:\tlearn: 0.2643767\ttotal: 1.33s\tremaining: 1.57s\n",
            "23:\tlearn: 0.2642788\ttotal: 1.39s\tremaining: 1.5s\n",
            "24:\tlearn: 0.2641800\ttotal: 1.45s\tremaining: 1.45s\n",
            "25:\tlearn: 0.2640870\ttotal: 1.51s\tremaining: 1.39s\n",
            "26:\tlearn: 0.2639903\ttotal: 1.56s\tremaining: 1.33s\n",
            "27:\tlearn: 0.2638988\ttotal: 1.62s\tremaining: 1.27s\n",
            "28:\tlearn: 0.2638161\ttotal: 1.68s\tremaining: 1.22s\n",
            "29:\tlearn: 0.2637292\ttotal: 1.74s\tremaining: 1.16s\n",
            "30:\tlearn: 0.2636460\ttotal: 1.79s\tremaining: 1.1s\n",
            "31:\tlearn: 0.2635795\ttotal: 1.83s\tremaining: 1.03s\n",
            "32:\tlearn: 0.2634827\ttotal: 1.89s\tremaining: 974ms\n",
            "33:\tlearn: 0.2634127\ttotal: 1.94s\tremaining: 914ms\n",
            "34:\tlearn: 0.2633383\ttotal: 2s\tremaining: 857ms\n",
            "35:\tlearn: 0.2632769\ttotal: 2.05s\tremaining: 799ms\n",
            "36:\tlearn: 0.2631936\ttotal: 2.12s\tremaining: 745ms\n",
            "37:\tlearn: 0.2631398\ttotal: 2.18s\tremaining: 687ms\n",
            "38:\tlearn: 0.2630716\ttotal: 2.23s\tremaining: 628ms\n",
            "39:\tlearn: 0.2630210\ttotal: 2.28s\tremaining: 569ms\n",
            "40:\tlearn: 0.2629731\ttotal: 2.34s\tremaining: 514ms\n",
            "41:\tlearn: 0.2629253\ttotal: 2.39s\tremaining: 456ms\n",
            "42:\tlearn: 0.2628779\ttotal: 2.44s\tremaining: 398ms\n",
            "43:\tlearn: 0.2628274\ttotal: 2.5s\tremaining: 340ms\n",
            "44:\tlearn: 0.2627778\ttotal: 2.56s\tremaining: 284ms\n",
            "45:\tlearn: 0.2627265\ttotal: 2.62s\tremaining: 228ms\n",
            "46:\tlearn: 0.2626811\ttotal: 2.67s\tremaining: 171ms\n",
            "47:\tlearn: 0.2626357\ttotal: 2.77s\tremaining: 115ms\n",
            "48:\tlearn: 0.2626006\ttotal: 2.86s\tremaining: 58.4ms\n",
            "49:\tlearn: 0.2625441\ttotal: 2.97s\tremaining: 0us\n",
            "0:\tlearn: 0.2712445\ttotal: 60.7ms\tremaining: 2.98s\n",
            "1:\tlearn: 0.2703795\ttotal: 118ms\tremaining: 2.83s\n",
            "2:\tlearn: 0.2696188\ttotal: 171ms\tremaining: 2.69s\n",
            "3:\tlearn: 0.2689708\ttotal: 230ms\tremaining: 2.64s\n",
            "4:\tlearn: 0.2684063\ttotal: 290ms\tremaining: 2.61s\n",
            "5:\tlearn: 0.2679374\ttotal: 350ms\tremaining: 2.57s\n",
            "6:\tlearn: 0.2674903\ttotal: 401ms\tremaining: 2.46s\n",
            "7:\tlearn: 0.2671126\ttotal: 481ms\tremaining: 2.52s\n",
            "8:\tlearn: 0.2667549\ttotal: 534ms\tremaining: 2.43s\n",
            "9:\tlearn: 0.2664421\ttotal: 600ms\tremaining: 2.4s\n",
            "10:\tlearn: 0.2661813\ttotal: 656ms\tremaining: 2.33s\n",
            "11:\tlearn: 0.2659534\ttotal: 709ms\tremaining: 2.24s\n",
            "12:\tlearn: 0.2657279\ttotal: 786ms\tremaining: 2.24s\n",
            "13:\tlearn: 0.2655223\ttotal: 834ms\tremaining: 2.15s\n",
            "14:\tlearn: 0.2653257\ttotal: 903ms\tremaining: 2.11s\n",
            "15:\tlearn: 0.2651326\ttotal: 960ms\tremaining: 2.04s\n",
            "16:\tlearn: 0.2649719\ttotal: 1.02s\tremaining: 1.97s\n",
            "17:\tlearn: 0.2648286\ttotal: 1.08s\tremaining: 1.91s\n",
            "18:\tlearn: 0.2646965\ttotal: 1.13s\tremaining: 1.85s\n",
            "19:\tlearn: 0.2645555\ttotal: 1.2s\tremaining: 1.8s\n",
            "20:\tlearn: 0.2644270\ttotal: 1.26s\tremaining: 1.75s\n",
            "21:\tlearn: 0.2643035\ttotal: 1.32s\tremaining: 1.68s\n",
            "22:\tlearn: 0.2641990\ttotal: 1.38s\tremaining: 1.61s\n",
            "23:\tlearn: 0.2640940\ttotal: 1.43s\tremaining: 1.54s\n",
            "24:\tlearn: 0.2639915\ttotal: 1.5s\tremaining: 1.5s\n",
            "25:\tlearn: 0.2638945\ttotal: 1.55s\tremaining: 1.43s\n",
            "26:\tlearn: 0.2637950\ttotal: 1.6s\tremaining: 1.36s\n",
            "27:\tlearn: 0.2637092\ttotal: 1.66s\tremaining: 1.3s\n",
            "28:\tlearn: 0.2636183\ttotal: 1.72s\tremaining: 1.25s\n",
            "29:\tlearn: 0.2635357\ttotal: 1.78s\tremaining: 1.19s\n",
            "30:\tlearn: 0.2634490\ttotal: 1.84s\tremaining: 1.13s\n",
            "31:\tlearn: 0.2633763\ttotal: 1.89s\tremaining: 1.06s\n",
            "32:\tlearn: 0.2633067\ttotal: 1.95s\tremaining: 1s\n",
            "33:\tlearn: 0.2632412\ttotal: 2s\tremaining: 943ms\n",
            "34:\tlearn: 0.2631720\ttotal: 2.06s\tremaining: 882ms\n",
            "35:\tlearn: 0.2631133\ttotal: 2.1s\tremaining: 819ms\n",
            "36:\tlearn: 0.2630448\ttotal: 2.17s\tremaining: 762ms\n",
            "37:\tlearn: 0.2629369\ttotal: 2.23s\tremaining: 706ms\n",
            "38:\tlearn: 0.2628784\ttotal: 2.29s\tremaining: 644ms\n",
            "39:\tlearn: 0.2628242\ttotal: 2.34s\tremaining: 585ms\n",
            "40:\tlearn: 0.2627676\ttotal: 2.4s\tremaining: 528ms\n",
            "41:\tlearn: 0.2627262\ttotal: 2.45s\tremaining: 467ms\n",
            "42:\tlearn: 0.2626349\ttotal: 2.53s\tremaining: 413ms\n",
            "43:\tlearn: 0.2625842\ttotal: 2.59s\tremaining: 353ms\n",
            "44:\tlearn: 0.2625385\ttotal: 2.65s\tremaining: 294ms\n",
            "45:\tlearn: 0.2624943\ttotal: 2.7s\tremaining: 235ms\n",
            "46:\tlearn: 0.2624486\ttotal: 2.75s\tremaining: 176ms\n",
            "47:\tlearn: 0.2624066\ttotal: 2.81s\tremaining: 117ms\n",
            "48:\tlearn: 0.2623677\ttotal: 2.86s\tremaining: 58.4ms\n",
            "49:\tlearn: 0.2623287\ttotal: 2.92s\tremaining: 0us\n",
            "0:\tlearn: 0.2718111\ttotal: 67.6ms\tremaining: 3.31s\n",
            "1:\tlearn: 0.2709625\ttotal: 122ms\tremaining: 2.92s\n",
            "2:\tlearn: 0.2701880\ttotal: 188ms\tremaining: 2.94s\n",
            "3:\tlearn: 0.2695725\ttotal: 255ms\tremaining: 2.93s\n",
            "4:\tlearn: 0.2690416\ttotal: 312ms\tremaining: 2.81s\n",
            "5:\tlearn: 0.2685947\ttotal: 372ms\tremaining: 2.73s\n",
            "6:\tlearn: 0.2681579\ttotal: 423ms\tremaining: 2.6s\n",
            "7:\tlearn: 0.2677880\ttotal: 491ms\tremaining: 2.58s\n",
            "8:\tlearn: 0.2674540\ttotal: 550ms\tremaining: 2.5s\n",
            "9:\tlearn: 0.2671273\ttotal: 607ms\tremaining: 2.43s\n",
            "10:\tlearn: 0.2668639\ttotal: 657ms\tremaining: 2.33s\n",
            "11:\tlearn: 0.2666240\ttotal: 705ms\tremaining: 2.23s\n",
            "12:\tlearn: 0.2663924\ttotal: 768ms\tremaining: 2.19s\n",
            "13:\tlearn: 0.2661879\ttotal: 820ms\tremaining: 2.11s\n",
            "14:\tlearn: 0.2659675\ttotal: 885ms\tremaining: 2.06s\n",
            "15:\tlearn: 0.2658081\ttotal: 944ms\tremaining: 2s\n",
            "16:\tlearn: 0.2656318\ttotal: 998ms\tremaining: 1.94s\n",
            "17:\tlearn: 0.2654697\ttotal: 1.06s\tremaining: 1.88s\n",
            "18:\tlearn: 0.2653089\ttotal: 1.12s\tremaining: 1.82s\n",
            "19:\tlearn: 0.2651734\ttotal: 1.17s\tremaining: 1.75s\n",
            "20:\tlearn: 0.2650427\ttotal: 1.24s\tremaining: 1.71s\n",
            "21:\tlearn: 0.2649290\ttotal: 1.3s\tremaining: 1.65s\n",
            "22:\tlearn: 0.2648195\ttotal: 1.35s\tremaining: 1.58s\n",
            "23:\tlearn: 0.2647102\ttotal: 1.4s\tremaining: 1.52s\n",
            "24:\tlearn: 0.2646116\ttotal: 1.47s\tremaining: 1.47s\n",
            "25:\tlearn: 0.2645128\ttotal: 1.52s\tremaining: 1.4s\n",
            "26:\tlearn: 0.2644177\ttotal: 1.57s\tremaining: 1.34s\n",
            "27:\tlearn: 0.2643426\ttotal: 1.63s\tremaining: 1.28s\n",
            "28:\tlearn: 0.2642620\ttotal: 1.7s\tremaining: 1.23s\n",
            "29:\tlearn: 0.2641807\ttotal: 1.75s\tremaining: 1.17s\n",
            "30:\tlearn: 0.2641099\ttotal: 1.81s\tremaining: 1.11s\n",
            "31:\tlearn: 0.2640390\ttotal: 1.86s\tremaining: 1.05s\n",
            "32:\tlearn: 0.2639834\ttotal: 1.93s\tremaining: 992ms\n",
            "33:\tlearn: 0.2639151\ttotal: 1.98s\tremaining: 931ms\n",
            "34:\tlearn: 0.2638539\ttotal: 2.03s\tremaining: 869ms\n",
            "35:\tlearn: 0.2637874\ttotal: 2.09s\tremaining: 812ms\n",
            "36:\tlearn: 0.2636965\ttotal: 2.15s\tremaining: 754ms\n",
            "37:\tlearn: 0.2636430\ttotal: 2.21s\tremaining: 698ms\n",
            "38:\tlearn: 0.2635783\ttotal: 2.27s\tremaining: 641ms\n",
            "39:\tlearn: 0.2635217\ttotal: 2.32s\tremaining: 580ms\n",
            "40:\tlearn: 0.2634657\ttotal: 2.38s\tremaining: 523ms\n",
            "41:\tlearn: 0.2633644\ttotal: 2.44s\tremaining: 466ms\n",
            "42:\tlearn: 0.2633150\ttotal: 2.51s\tremaining: 409ms\n",
            "43:\tlearn: 0.2632489\ttotal: 2.57s\tremaining: 351ms\n",
            "44:\tlearn: 0.2631963\ttotal: 2.63s\tremaining: 292ms\n",
            "45:\tlearn: 0.2631514\ttotal: 2.68s\tremaining: 233ms\n",
            "46:\tlearn: 0.2631048\ttotal: 2.74s\tremaining: 175ms\n",
            "47:\tlearn: 0.2630650\ttotal: 2.8s\tremaining: 117ms\n",
            "48:\tlearn: 0.2630280\ttotal: 2.86s\tremaining: 58.3ms\n",
            "49:\tlearn: 0.2629821\ttotal: 2.91s\tremaining: 0us\n",
            "0:\tlearn: 0.2714385\ttotal: 54.4ms\tremaining: 2.67s\n",
            "1:\tlearn: 0.2705926\ttotal: 117ms\tremaining: 2.81s\n",
            "2:\tlearn: 0.2698224\ttotal: 173ms\tremaining: 2.7s\n",
            "3:\tlearn: 0.2692089\ttotal: 229ms\tremaining: 2.64s\n",
            "4:\tlearn: 0.2686878\ttotal: 286ms\tremaining: 2.57s\n",
            "5:\tlearn: 0.2682525\ttotal: 346ms\tremaining: 2.53s\n",
            "6:\tlearn: 0.2678145\ttotal: 404ms\tremaining: 2.48s\n",
            "7:\tlearn: 0.2674495\ttotal: 463ms\tremaining: 2.43s\n",
            "8:\tlearn: 0.2671254\ttotal: 534ms\tremaining: 2.43s\n",
            "9:\tlearn: 0.2668189\ttotal: 584ms\tremaining: 2.34s\n",
            "10:\tlearn: 0.2665647\ttotal: 634ms\tremaining: 2.25s\n",
            "11:\tlearn: 0.2663120\ttotal: 685ms\tremaining: 2.17s\n",
            "12:\tlearn: 0.2660894\ttotal: 750ms\tremaining: 2.13s\n",
            "13:\tlearn: 0.2658811\ttotal: 797ms\tremaining: 2.05s\n",
            "14:\tlearn: 0.2656655\ttotal: 860ms\tremaining: 2.01s\n",
            "15:\tlearn: 0.2654974\ttotal: 931ms\tremaining: 1.98s\n",
            "16:\tlearn: 0.2653240\ttotal: 1s\tremaining: 1.94s\n",
            "17:\tlearn: 0.2651676\ttotal: 1.06s\tremaining: 1.88s\n",
            "18:\tlearn: 0.2650186\ttotal: 1.11s\tremaining: 1.81s\n",
            "19:\tlearn: 0.2648863\ttotal: 1.22s\tremaining: 1.82s\n",
            "20:\tlearn: 0.2647592\ttotal: 1.32s\tremaining: 1.82s\n",
            "21:\tlearn: 0.2646368\ttotal: 1.41s\tremaining: 1.8s\n",
            "22:\tlearn: 0.2645271\ttotal: 1.51s\tremaining: 1.77s\n",
            "23:\tlearn: 0.2644236\ttotal: 1.62s\tremaining: 1.75s\n",
            "24:\tlearn: 0.2643225\ttotal: 1.74s\tremaining: 1.74s\n",
            "25:\tlearn: 0.2642377\ttotal: 1.83s\tremaining: 1.69s\n",
            "26:\tlearn: 0.2641481\ttotal: 1.93s\tremaining: 1.65s\n",
            "27:\tlearn: 0.2640711\ttotal: 2.04s\tremaining: 1.6s\n",
            "28:\tlearn: 0.2639901\ttotal: 2.16s\tremaining: 1.56s\n",
            "29:\tlearn: 0.2639062\ttotal: 2.27s\tremaining: 1.51s\n",
            "30:\tlearn: 0.2638225\ttotal: 2.36s\tremaining: 1.45s\n",
            "31:\tlearn: 0.2637410\ttotal: 2.48s\tremaining: 1.4s\n",
            "32:\tlearn: 0.2636778\ttotal: 2.59s\tremaining: 1.33s\n",
            "33:\tlearn: 0.2636137\ttotal: 2.7s\tremaining: 1.27s\n",
            "34:\tlearn: 0.2635392\ttotal: 2.79s\tremaining: 1.2s\n",
            "35:\tlearn: 0.2634811\ttotal: 2.88s\tremaining: 1.12s\n",
            "36:\tlearn: 0.2634175\ttotal: 2.98s\tremaining: 1.05s\n",
            "37:\tlearn: 0.2633502\ttotal: 3.1s\tremaining: 979ms\n",
            "38:\tlearn: 0.2632851\ttotal: 3.21s\tremaining: 905ms\n",
            "39:\tlearn: 0.2632263\ttotal: 3.29s\tremaining: 822ms\n",
            "40:\tlearn: 0.2631623\ttotal: 3.34s\tremaining: 733ms\n",
            "41:\tlearn: 0.2630522\ttotal: 3.41s\tremaining: 649ms\n",
            "42:\tlearn: 0.2630003\ttotal: 3.48s\tremaining: 566ms\n",
            "43:\tlearn: 0.2629515\ttotal: 3.53s\tremaining: 481ms\n",
            "44:\tlearn: 0.2628993\ttotal: 3.59s\tremaining: 399ms\n",
            "45:\tlearn: 0.2628568\ttotal: 3.64s\tremaining: 317ms\n",
            "46:\tlearn: 0.2628113\ttotal: 3.7s\tremaining: 236ms\n",
            "47:\tlearn: 0.2627716\ttotal: 3.75s\tremaining: 156ms\n",
            "48:\tlearn: 0.2627337\ttotal: 3.8s\tremaining: 77.6ms\n",
            "49:\tlearn: 0.2626949\ttotal: 3.85s\tremaining: 0us\n",
            "0:\tlearn: 0.2709863\ttotal: 56.3ms\tremaining: 2.76s\n",
            "1:\tlearn: 0.2701412\ttotal: 108ms\tremaining: 2.6s\n",
            "2:\tlearn: 0.2693750\ttotal: 166ms\tremaining: 2.59s\n",
            "3:\tlearn: 0.2687602\ttotal: 220ms\tremaining: 2.53s\n",
            "4:\tlearn: 0.2682155\ttotal: 278ms\tremaining: 2.5s\n",
            "5:\tlearn: 0.2677569\ttotal: 347ms\tremaining: 2.54s\n",
            "6:\tlearn: 0.2673270\ttotal: 398ms\tremaining: 2.45s\n",
            "7:\tlearn: 0.2669413\ttotal: 465ms\tremaining: 2.44s\n",
            "8:\tlearn: 0.2666082\ttotal: 524ms\tremaining: 2.39s\n",
            "9:\tlearn: 0.2663098\ttotal: 572ms\tremaining: 2.29s\n",
            "10:\tlearn: 0.2660432\ttotal: 627ms\tremaining: 2.22s\n",
            "11:\tlearn: 0.2657910\ttotal: 681ms\tremaining: 2.16s\n",
            "12:\tlearn: 0.2655695\ttotal: 742ms\tremaining: 2.11s\n",
            "13:\tlearn: 0.2653742\ttotal: 789ms\tremaining: 2.03s\n",
            "14:\tlearn: 0.2651643\ttotal: 863ms\tremaining: 2.01s\n",
            "15:\tlearn: 0.2650003\ttotal: 914ms\tremaining: 1.94s\n",
            "16:\tlearn: 0.2648302\ttotal: 981ms\tremaining: 1.9s\n",
            "17:\tlearn: 0.2646866\ttotal: 1.04s\tremaining: 1.86s\n",
            "18:\tlearn: 0.2645433\ttotal: 1.1s\tremaining: 1.79s\n",
            "19:\tlearn: 0.2644119\ttotal: 1.16s\tremaining: 1.74s\n",
            "20:\tlearn: 0.2642836\ttotal: 1.23s\tremaining: 1.7s\n",
            "21:\tlearn: 0.2641715\ttotal: 1.29s\tremaining: 1.64s\n",
            "22:\tlearn: 0.2640674\ttotal: 1.35s\tremaining: 1.58s\n",
            "23:\tlearn: 0.2639701\ttotal: 1.4s\tremaining: 1.51s\n",
            "24:\tlearn: 0.2638533\ttotal: 1.45s\tremaining: 1.45s\n",
            "25:\tlearn: 0.2637613\ttotal: 1.5s\tremaining: 1.39s\n",
            "26:\tlearn: 0.2636801\ttotal: 1.55s\tremaining: 1.32s\n",
            "27:\tlearn: 0.2636043\ttotal: 1.6s\tremaining: 1.26s\n",
            "28:\tlearn: 0.2635241\ttotal: 1.67s\tremaining: 1.21s\n",
            "29:\tlearn: 0.2634410\ttotal: 1.72s\tremaining: 1.14s\n",
            "30:\tlearn: 0.2633682\ttotal: 1.78s\tremaining: 1.09s\n",
            "31:\tlearn: 0.2632982\ttotal: 1.84s\tremaining: 1.03s\n",
            "32:\tlearn: 0.2632053\ttotal: 1.9s\tremaining: 976ms\n",
            "33:\tlearn: 0.2631467\ttotal: 1.95s\tremaining: 916ms\n",
            "34:\tlearn: 0.2630766\ttotal: 2.01s\tremaining: 861ms\n",
            "35:\tlearn: 0.2630192\ttotal: 2.06s\tremaining: 801ms\n",
            "36:\tlearn: 0.2629381\ttotal: 2.12s\tremaining: 745ms\n",
            "37:\tlearn: 0.2628811\ttotal: 2.17s\tremaining: 686ms\n",
            "38:\tlearn: 0.2628079\ttotal: 2.23s\tremaining: 628ms\n",
            "39:\tlearn: 0.2627493\ttotal: 2.29s\tremaining: 573ms\n",
            "40:\tlearn: 0.2626526\ttotal: 2.36s\tremaining: 519ms\n",
            "41:\tlearn: 0.2626083\ttotal: 2.41s\tremaining: 459ms\n",
            "42:\tlearn: 0.2625559\ttotal: 2.47s\tremaining: 402ms\n",
            "43:\tlearn: 0.2625040\ttotal: 2.53s\tremaining: 345ms\n",
            "44:\tlearn: 0.2624642\ttotal: 2.59s\tremaining: 288ms\n",
            "45:\tlearn: 0.2624196\ttotal: 2.64s\tremaining: 230ms\n",
            "46:\tlearn: 0.2623786\ttotal: 2.69s\tremaining: 172ms\n",
            "47:\tlearn: 0.2623349\ttotal: 2.75s\tremaining: 115ms\n",
            "48:\tlearn: 0.2622949\ttotal: 2.8s\tremaining: 57.2ms\n",
            "49:\tlearn: 0.2622399\ttotal: 2.87s\tremaining: 0us\n",
            "0:\tlearn: 0.2709458\ttotal: 56.1ms\tremaining: 2.75s\n",
            "1:\tlearn: 0.2700914\ttotal: 108ms\tremaining: 2.6s\n",
            "2:\tlearn: 0.2693591\ttotal: 161ms\tremaining: 2.52s\n",
            "3:\tlearn: 0.2687175\ttotal: 217ms\tremaining: 2.5s\n",
            "4:\tlearn: 0.2681565\ttotal: 280ms\tremaining: 2.52s\n",
            "5:\tlearn: 0.2676506\ttotal: 344ms\tremaining: 2.52s\n",
            "6:\tlearn: 0.2672015\ttotal: 394ms\tremaining: 2.42s\n",
            "7:\tlearn: 0.2668139\ttotal: 458ms\tremaining: 2.4s\n",
            "8:\tlearn: 0.2664675\ttotal: 512ms\tremaining: 2.33s\n",
            "9:\tlearn: 0.2661456\ttotal: 577ms\tremaining: 2.31s\n",
            "10:\tlearn: 0.2658992\ttotal: 645ms\tremaining: 2.29s\n",
            "11:\tlearn: 0.2656444\ttotal: 699ms\tremaining: 2.21s\n",
            "12:\tlearn: 0.2654073\ttotal: 760ms\tremaining: 2.16s\n",
            "13:\tlearn: 0.2652060\ttotal: 808ms\tremaining: 2.08s\n",
            "14:\tlearn: 0.2650122\ttotal: 868ms\tremaining: 2.02s\n",
            "15:\tlearn: 0.2648354\ttotal: 924ms\tremaining: 1.96s\n",
            "16:\tlearn: 0.2646758\ttotal: 979ms\tremaining: 1.9s\n",
            "17:\tlearn: 0.2645160\ttotal: 1.04s\tremaining: 1.85s\n",
            "18:\tlearn: 0.2643749\ttotal: 1.09s\tremaining: 1.78s\n",
            "19:\tlearn: 0.2642512\ttotal: 1.15s\tremaining: 1.72s\n",
            "20:\tlearn: 0.2641261\ttotal: 1.21s\tremaining: 1.68s\n",
            "21:\tlearn: 0.2640240\ttotal: 1.27s\tremaining: 1.62s\n",
            "22:\tlearn: 0.2639062\ttotal: 1.33s\tremaining: 1.56s\n",
            "23:\tlearn: 0.2638029\ttotal: 1.38s\tremaining: 1.49s\n",
            "24:\tlearn: 0.2637020\ttotal: 1.43s\tremaining: 1.43s\n",
            "25:\tlearn: 0.2636043\ttotal: 1.48s\tremaining: 1.37s\n",
            "26:\tlearn: 0.2635178\ttotal: 1.54s\tremaining: 1.31s\n",
            "27:\tlearn: 0.2634452\ttotal: 1.59s\tremaining: 1.25s\n",
            "28:\tlearn: 0.2633702\ttotal: 1.66s\tremaining: 1.2s\n",
            "29:\tlearn: 0.2632866\ttotal: 1.72s\tremaining: 1.15s\n",
            "30:\tlearn: 0.2631993\ttotal: 1.78s\tremaining: 1.09s\n",
            "31:\tlearn: 0.2631315\ttotal: 1.82s\tremaining: 1.02s\n",
            "32:\tlearn: 0.2630540\ttotal: 1.9s\tremaining: 977ms\n",
            "33:\tlearn: 0.2629759\ttotal: 1.95s\tremaining: 916ms\n",
            "34:\tlearn: 0.2628942\ttotal: 2.01s\tremaining: 860ms\n",
            "35:\tlearn: 0.2628342\ttotal: 2.06s\tremaining: 800ms\n",
            "36:\tlearn: 0.2627613\ttotal: 2.12s\tremaining: 746ms\n",
            "37:\tlearn: 0.2627057\ttotal: 2.18s\tremaining: 687ms\n",
            "38:\tlearn: 0.2626227\ttotal: 2.23s\tremaining: 629ms\n",
            "39:\tlearn: 0.2625693\ttotal: 2.28s\tremaining: 570ms\n",
            "40:\tlearn: 0.2624882\ttotal: 2.34s\tremaining: 513ms\n",
            "41:\tlearn: 0.2624272\ttotal: 2.4s\tremaining: 456ms\n",
            "42:\tlearn: 0.2623791\ttotal: 2.45s\tremaining: 398ms\n",
            "43:\tlearn: 0.2623312\ttotal: 2.5s\tremaining: 341ms\n",
            "44:\tlearn: 0.2622779\ttotal: 2.56s\tremaining: 284ms\n",
            "45:\tlearn: 0.2622313\ttotal: 2.62s\tremaining: 228ms\n",
            "46:\tlearn: 0.2621906\ttotal: 2.68s\tremaining: 171ms\n",
            "47:\tlearn: 0.2621482\ttotal: 2.74s\tremaining: 114ms\n",
            "48:\tlearn: 0.2621115\ttotal: 2.79s\tremaining: 57ms\n",
            "49:\tlearn: 0.2620316\ttotal: 2.86s\tremaining: 0us\n",
            "0:\tlearn: 0.2712818\ttotal: 104ms\tremaining: 5.09s\n",
            "1:\tlearn: 0.2704233\ttotal: 202ms\tremaining: 4.85s\n",
            "2:\tlearn: 0.2696625\ttotal: 302ms\tremaining: 4.73s\n",
            "3:\tlearn: 0.2690454\ttotal: 410ms\tremaining: 4.72s\n",
            "4:\tlearn: 0.2685007\ttotal: 504ms\tremaining: 4.54s\n",
            "5:\tlearn: 0.2680471\ttotal: 609ms\tremaining: 4.47s\n",
            "6:\tlearn: 0.2676080\ttotal: 715ms\tremaining: 4.39s\n",
            "7:\tlearn: 0.2672455\ttotal: 820ms\tremaining: 4.3s\n",
            "8:\tlearn: 0.2669073\ttotal: 909ms\tremaining: 4.14s\n",
            "9:\tlearn: 0.2665862\ttotal: 1.04s\tremaining: 4.14s\n",
            "10:\tlearn: 0.2663056\ttotal: 1.13s\tremaining: 4.01s\n",
            "11:\tlearn: 0.2660630\ttotal: 1.24s\tremaining: 3.94s\n",
            "12:\tlearn: 0.2658540\ttotal: 1.36s\tremaining: 3.87s\n",
            "13:\tlearn: 0.2656421\ttotal: 1.44s\tremaining: 3.71s\n",
            "14:\tlearn: 0.2654483\ttotal: 1.57s\tremaining: 3.67s\n",
            "15:\tlearn: 0.2652712\ttotal: 1.64s\tremaining: 3.5s\n",
            "16:\tlearn: 0.2651107\ttotal: 1.73s\tremaining: 3.35s\n",
            "17:\tlearn: 0.2649430\ttotal: 1.84s\tremaining: 3.27s\n",
            "18:\tlearn: 0.2648060\ttotal: 1.91s\tremaining: 3.11s\n",
            "19:\tlearn: 0.2646744\ttotal: 1.96s\tremaining: 2.95s\n",
            "20:\tlearn: 0.2645480\ttotal: 2.02s\tremaining: 2.79s\n",
            "21:\tlearn: 0.2644288\ttotal: 2.09s\tremaining: 2.65s\n",
            "22:\tlearn: 0.2643181\ttotal: 2.14s\tremaining: 2.51s\n",
            "23:\tlearn: 0.2642158\ttotal: 2.19s\tremaining: 2.37s\n",
            "24:\tlearn: 0.2641194\ttotal: 2.25s\tremaining: 2.25s\n",
            "25:\tlearn: 0.2640308\ttotal: 2.32s\tremaining: 2.14s\n",
            "26:\tlearn: 0.2639430\ttotal: 2.37s\tremaining: 2.02s\n",
            "27:\tlearn: 0.2638667\ttotal: 2.43s\tremaining: 1.91s\n",
            "28:\tlearn: 0.2637797\ttotal: 2.48s\tremaining: 1.79s\n",
            "29:\tlearn: 0.2636937\ttotal: 2.54s\tremaining: 1.69s\n",
            "30:\tlearn: 0.2636141\ttotal: 2.59s\tremaining: 1.59s\n",
            "31:\tlearn: 0.2635306\ttotal: 2.65s\tremaining: 1.49s\n",
            "32:\tlearn: 0.2634647\ttotal: 2.7s\tremaining: 1.39s\n",
            "33:\tlearn: 0.2633962\ttotal: 2.76s\tremaining: 1.3s\n",
            "34:\tlearn: 0.2633321\ttotal: 2.81s\tremaining: 1.21s\n",
            "35:\tlearn: 0.2632712\ttotal: 2.86s\tremaining: 1.11s\n",
            "36:\tlearn: 0.2632139\ttotal: 2.92s\tremaining: 1.02s\n",
            "37:\tlearn: 0.2631536\ttotal: 2.97s\tremaining: 937ms\n",
            "38:\tlearn: 0.2630968\ttotal: 3.02s\tremaining: 851ms\n",
            "39:\tlearn: 0.2630384\ttotal: 3.07s\tremaining: 768ms\n",
            "40:\tlearn: 0.2629796\ttotal: 3.12s\tremaining: 686ms\n",
            "41:\tlearn: 0.2629078\ttotal: 3.18s\tremaining: 605ms\n",
            "42:\tlearn: 0.2628540\ttotal: 3.24s\tremaining: 527ms\n",
            "43:\tlearn: 0.2627983\ttotal: 3.32s\tremaining: 453ms\n",
            "44:\tlearn: 0.2627531\ttotal: 3.39s\tremaining: 376ms\n",
            "45:\tlearn: 0.2627082\ttotal: 3.44s\tremaining: 299ms\n",
            "46:\tlearn: 0.2626643\ttotal: 3.5s\tremaining: 224ms\n",
            "47:\tlearn: 0.2626241\ttotal: 3.56s\tremaining: 148ms\n",
            "48:\tlearn: 0.2625289\ttotal: 3.64s\tremaining: 74.2ms\n",
            "49:\tlearn: 0.2624834\ttotal: 3.69s\tremaining: 0us\n",
            "0:\tlearn: 0.2719374\ttotal: 55ms\tremaining: 2.69s\n",
            "1:\tlearn: 0.2710703\ttotal: 107ms\tremaining: 2.57s\n",
            "2:\tlearn: 0.2702975\ttotal: 163ms\tremaining: 2.55s\n",
            "3:\tlearn: 0.2696708\ttotal: 217ms\tremaining: 2.5s\n",
            "4:\tlearn: 0.2691071\ttotal: 271ms\tremaining: 2.44s\n",
            "5:\tlearn: 0.2686374\ttotal: 338ms\tremaining: 2.48s\n",
            "6:\tlearn: 0.2681857\ttotal: 388ms\tremaining: 2.38s\n",
            "7:\tlearn: 0.2677891\ttotal: 453ms\tremaining: 2.38s\n",
            "8:\tlearn: 0.2674378\ttotal: 516ms\tremaining: 2.35s\n",
            "9:\tlearn: 0.2671334\ttotal: 566ms\tremaining: 2.26s\n",
            "10:\tlearn: 0.2668668\ttotal: 619ms\tremaining: 2.19s\n",
            "11:\tlearn: 0.2666365\ttotal: 671ms\tremaining: 2.13s\n",
            "12:\tlearn: 0.2664137\ttotal: 732ms\tremaining: 2.08s\n",
            "13:\tlearn: 0.2661997\ttotal: 780ms\tremaining: 2.01s\n",
            "14:\tlearn: 0.2659990\ttotal: 847ms\tremaining: 1.98s\n",
            "15:\tlearn: 0.2658204\ttotal: 903ms\tremaining: 1.92s\n",
            "16:\tlearn: 0.2656557\ttotal: 964ms\tremaining: 1.87s\n",
            "17:\tlearn: 0.2654841\ttotal: 1.03s\tremaining: 1.83s\n",
            "18:\tlearn: 0.2653370\ttotal: 1.08s\tremaining: 1.76s\n",
            "19:\tlearn: 0.2652035\ttotal: 1.13s\tremaining: 1.69s\n",
            "20:\tlearn: 0.2650752\ttotal: 1.19s\tremaining: 1.64s\n",
            "21:\tlearn: 0.2649586\ttotal: 1.25s\tremaining: 1.6s\n",
            "22:\tlearn: 0.2648456\ttotal: 1.32s\tremaining: 1.55s\n",
            "23:\tlearn: 0.2647457\ttotal: 1.37s\tremaining: 1.48s\n",
            "24:\tlearn: 0.2646348\ttotal: 1.42s\tremaining: 1.42s\n",
            "25:\tlearn: 0.2645395\ttotal: 1.47s\tremaining: 1.36s\n",
            "26:\tlearn: 0.2644479\ttotal: 1.52s\tremaining: 1.3s\n",
            "27:\tlearn: 0.2643687\ttotal: 1.58s\tremaining: 1.24s\n",
            "28:\tlearn: 0.2642862\ttotal: 1.63s\tremaining: 1.18s\n",
            "29:\tlearn: 0.2641980\ttotal: 1.7s\tremaining: 1.13s\n",
            "30:\tlearn: 0.2641170\ttotal: 1.76s\tremaining: 1.08s\n",
            "31:\tlearn: 0.2640502\ttotal: 1.81s\tremaining: 1.02s\n",
            "32:\tlearn: 0.2639833\ttotal: 1.87s\tremaining: 964ms\n",
            "33:\tlearn: 0.2639139\ttotal: 1.93s\tremaining: 907ms\n",
            "34:\tlearn: 0.2638537\ttotal: 1.98s\tremaining: 848ms\n",
            "35:\tlearn: 0.2637908\ttotal: 2.03s\tremaining: 790ms\n",
            "36:\tlearn: 0.2637240\ttotal: 2.09s\tremaining: 736ms\n",
            "37:\tlearn: 0.2636157\ttotal: 2.16s\tremaining: 683ms\n",
            "38:\tlearn: 0.2635337\ttotal: 2.22s\tremaining: 625ms\n",
            "39:\tlearn: 0.2634794\ttotal: 2.27s\tremaining: 567ms\n",
            "40:\tlearn: 0.2633844\ttotal: 2.35s\tremaining: 516ms\n",
            "41:\tlearn: 0.2633271\ttotal: 2.41s\tremaining: 459ms\n",
            "42:\tlearn: 0.2632762\ttotal: 2.47s\tremaining: 402ms\n",
            "43:\tlearn: 0.2632311\ttotal: 2.52s\tremaining: 344ms\n",
            "44:\tlearn: 0.2631773\ttotal: 2.59s\tremaining: 288ms\n",
            "45:\tlearn: 0.2631280\ttotal: 2.65s\tremaining: 230ms\n",
            "46:\tlearn: 0.2630809\ttotal: 2.7s\tremaining: 172ms\n",
            "47:\tlearn: 0.2630380\ttotal: 2.75s\tremaining: 115ms\n",
            "48:\tlearn: 0.2630025\ttotal: 2.8s\tremaining: 57.2ms\n",
            "49:\tlearn: 0.2629389\ttotal: 2.88s\tremaining: 0us\n",
            "0:\tlearn: 0.2713277\ttotal: 54ms\tremaining: 2.65s\n",
            "1:\tlearn: 0.2704899\ttotal: 108ms\tremaining: 2.58s\n",
            "2:\tlearn: 0.2697278\ttotal: 174ms\tremaining: 2.72s\n",
            "3:\tlearn: 0.2691236\ttotal: 234ms\tremaining: 2.69s\n",
            "4:\tlearn: 0.2685787\ttotal: 292ms\tremaining: 2.63s\n",
            "5:\tlearn: 0.2681015\ttotal: 342ms\tremaining: 2.5s\n",
            "6:\tlearn: 0.2676650\ttotal: 409ms\tremaining: 2.51s\n",
            "7:\tlearn: 0.2672953\ttotal: 465ms\tremaining: 2.44s\n",
            "8:\tlearn: 0.2669520\ttotal: 518ms\tremaining: 2.36s\n",
            "9:\tlearn: 0.2666633\ttotal: 577ms\tremaining: 2.31s\n",
            "10:\tlearn: 0.2663887\ttotal: 633ms\tremaining: 2.24s\n",
            "11:\tlearn: 0.2661157\ttotal: 693ms\tremaining: 2.19s\n",
            "12:\tlearn: 0.2658972\ttotal: 761ms\tremaining: 2.17s\n",
            "13:\tlearn: 0.2656867\ttotal: 810ms\tremaining: 2.08s\n",
            "14:\tlearn: 0.2654932\ttotal: 875ms\tremaining: 2.04s\n",
            "15:\tlearn: 0.2653256\ttotal: 933ms\tremaining: 1.98s\n",
            "16:\tlearn: 0.2651707\ttotal: 987ms\tremaining: 1.92s\n",
            "17:\tlearn: 0.2650031\ttotal: 1.05s\tremaining: 1.86s\n",
            "18:\tlearn: 0.2648666\ttotal: 1.1s\tremaining: 1.8s\n",
            "19:\tlearn: 0.2647486\ttotal: 1.16s\tremaining: 1.74s\n",
            "20:\tlearn: 0.2646203\ttotal: 1.22s\tremaining: 1.68s\n",
            "21:\tlearn: 0.2645179\ttotal: 1.27s\tremaining: 1.62s\n",
            "22:\tlearn: 0.2644119\ttotal: 1.32s\tremaining: 1.55s\n",
            "23:\tlearn: 0.2643146\ttotal: 1.37s\tremaining: 1.49s\n",
            "24:\tlearn: 0.2642107\ttotal: 1.43s\tremaining: 1.43s\n",
            "25:\tlearn: 0.2641248\ttotal: 1.48s\tremaining: 1.37s\n",
            "26:\tlearn: 0.2640349\ttotal: 1.53s\tremaining: 1.3s\n",
            "27:\tlearn: 0.2639491\ttotal: 1.58s\tremaining: 1.24s\n",
            "28:\tlearn: 0.2638704\ttotal: 1.65s\tremaining: 1.2s\n",
            "29:\tlearn: 0.2637931\ttotal: 1.71s\tremaining: 1.14s\n",
            "30:\tlearn: 0.2637248\ttotal: 1.77s\tremaining: 1.08s\n",
            "31:\tlearn: 0.2636589\ttotal: 1.82s\tremaining: 1.02s\n",
            "32:\tlearn: 0.2635863\ttotal: 1.87s\tremaining: 965ms\n",
            "33:\tlearn: 0.2635252\ttotal: 1.93s\tremaining: 908ms\n",
            "34:\tlearn: 0.2634142\ttotal: 1.99s\tremaining: 852ms\n",
            "35:\tlearn: 0.2633569\ttotal: 2.04s\tremaining: 793ms\n",
            "36:\tlearn: 0.2632994\ttotal: 2.11s\tremaining: 740ms\n",
            "37:\tlearn: 0.2632417\ttotal: 2.16s\tremaining: 684ms\n",
            "38:\tlearn: 0.2631837\ttotal: 2.22s\tremaining: 625ms\n",
            "39:\tlearn: 0.2631297\ttotal: 2.27s\tremaining: 568ms\n",
            "40:\tlearn: 0.2630724\ttotal: 2.33s\tremaining: 512ms\n",
            "41:\tlearn: 0.2630000\ttotal: 2.38s\tremaining: 454ms\n",
            "42:\tlearn: 0.2629497\ttotal: 2.44s\tremaining: 397ms\n",
            "43:\tlearn: 0.2629072\ttotal: 2.49s\tremaining: 339ms\n",
            "44:\tlearn: 0.2628584\ttotal: 2.56s\tremaining: 284ms\n",
            "45:\tlearn: 0.2628131\ttotal: 2.64s\tremaining: 229ms\n",
            "46:\tlearn: 0.2627679\ttotal: 2.71s\tremaining: 173ms\n",
            "47:\tlearn: 0.2627309\ttotal: 2.82s\tremaining: 117ms\n",
            "48:\tlearn: 0.2626887\ttotal: 2.92s\tremaining: 59.5ms\n",
            "49:\tlearn: 0.2626001\ttotal: 3.04s\tremaining: 0us\n",
            "Cross-validated RMSE on training set: 0.2627660953034981\n",
            "Root Mean Squared Error on test set: 0.262356664492227\n"
          ]
        }
      ],
      "source": [
        "from catboost import CatBoostRegressor\n",
        "from sklearn.metrics import mean_squared_error\n",
        "\n",
        "CatBoost_reg = CatBoostRegressor(iterations=50, depth=3, learning_rate=0.1, loss_function='RMSE')\n",
        "CatBoost_reg.fit(X_train_imputed, y_train) \n",
        "\n",
        "# Evaluate performance on training set\n",
        "y_train_pred = CatBoost_reg.predict(X_train_imputed)\n",
        "train_rmse = mean_squared_error(y_train, y_train_pred, squared=False)\n",
        "print('Root Mean Squared Error on training set:', train_rmse)\n",
        "\n",
        "cv_scores = cross_val_score(CatBoost_reg, X_train_imputed, y_train, cv=10, scoring='neg_root_mean_squared_error')\n",
        "cv_rmse_mean = -cv_scores.mean()\n",
        "print('Cross-validated RMSE on training set:', cv_rmse_mean)\n",
        "\n",
        "# Evaluate performance on test set\n",
        "y_test_pred = CatBoost_reg.predict(X_test_imputed)\n",
        "test_rmse = mean_squared_error(y_test, y_test_pred, squared=False)\n",
        "print('Root Mean Squared Error on test set:', test_rmse)\n"
      ]
    },
    {
      "cell_type": "markdown",
      "source": [
        "Nilai RMSE yang rendah menunjukkan bahwa model membuat prediksi yang akurat baik pada set pelatihan maupun pengujian. Namun, penting untuk mempertimbangkan skala variabel target Anda untuk menginterpretasikan nilai absolut\n",
        "\n",
        "Jika variabel target berada pada skala yang berbeda atau memiliki rentang nilai yang besar, akan sangat membantu jika membandingkan RMSE dengan rentang variabel target untuk lebih memahami kinerja model.\n",
        "\n",
        "Secara keseluruhan, memiliki nilai RMSE yang serupa untuk set pelatihan dan pengujian dan pencapaian nilai RMSE yang rendah menunjukkan bahwa model CatBoostRegressor bekerja dengan baik pada tugas regresi ini."
      ],
      "metadata": {
        "id": "kBhDlKOnHFTN"
      }
    },
    {
      "cell_type": "markdown",
      "metadata": {
        "id": "qThr6aizKV5w"
      },
      "source": [
        "#LightGBM"
      ]
    },
    {
      "cell_type": "code",
      "execution_count": 45,
      "metadata": {
        "id": "UxwRd9WZgwe2",
        "colab": {
          "base_uri": "https://localhost:8080/"
        },
        "outputId": "74208db5-5a56-4d95-a3f3-d60a79c9fe8b"
      },
      "outputs": [
        {
          "output_type": "stream",
          "name": "stdout",
          "text": [
            "Accuracy on training set: [0.71391407 0.71427991 0.71180033 0.71204423 0.71476769 0.71623105\n",
            " 0.71013373 0.71269461 0.71569106 0.71386179]\n",
            "Accuracy on test set: [0.75727524 0.7483336  0.74280605 0.75154472 0.74731707 0.75203252\n",
            " 0.7396748  0.75414634 0.75252033 0.75414634]\n"
          ]
        }
      ],
      "source": [
        "import re\n",
        "import lightgbm as lgb\n",
        "\n",
        "# Preprocess feature names\n",
        "def preprocess_feature_names(names):\n",
        "    # Remove special characters\n",
        "    names = [re.sub(r'\\W+', '', name) for name in names]\n",
        "    # Replace spaces with underscores\n",
        "    names = [name.replace(' ', '_') for name in names]\n",
        "    # Ensure valid JSON strings\n",
        "    names = [name.encode('utf-8').decode('unicode_escape').replace('\"', '') for name in names]\n",
        "    return names\n",
        "\n",
        "# Preprocess feature names for training data\n",
        "X_train_imputed.columns = preprocess_feature_names(X_train_imputed.columns)\n",
        "\n",
        "# Create and fit LightGBM classifier\n",
        "LightGBM_clf = lgb.LGBMClassifier(scale_pos_weight=scale_pos_weight_value)\n",
        "LightGBM_clf.fit(X_train_imputed, y_train)\n",
        "\n",
        "# Preprocess feature names for test data\n",
        "X_test_imputed.columns = preprocess_feature_names(X_test_imputed.columns)\n",
        "\n",
        "# Evaluate model performance\n",
        "print('Accuracy on training set:', cross_val_score(LightGBM_clf, X_train_imputed, y_train, cv=10, scoring='accuracy'))\n",
        "print('Accuracy on test set:', cross_val_score(LightGBM_clf, X_test_imputed, y_test, cv=10, scoring='accuracy'))"
      ]
    },
    {
      "cell_type": "markdown",
      "metadata": {
        "id": "zSveejowKZig"
      },
      "source": [
        ">RandomForest"
      ]
    },
    {
      "cell_type": "code",
      "execution_count": 46,
      "metadata": {
        "id": "iRGAjdm7g05N",
        "colab": {
          "base_uri": "https://localhost:8080/"
        },
        "outputId": "6a80fd2d-762f-4634-917b-c82206dcc0f7"
      },
      "outputs": [
        {
          "output_type": "stream",
          "name": "stdout",
          "text": [
            "Akurasi pada set pelatihan: [0.91849925 0.91866184 0.91910898 0.91858055 0.91914963 0.91752368\n",
            " 0.91870249 0.9185399  0.91768293 0.91865854]\n",
            "Akurasi pada set tes: [0.9187124  0.91773695 0.91773695 0.91772358 0.91804878 0.91739837\n",
            " 0.91853659 0.91886179 0.91837398 0.91902439]\n"
          ]
        }
      ],
      "source": [
        "#class_weight = 'balanced' ensures that RandomForest works well on imbalanced datasets.\n",
        "from sklearn.ensemble import RandomForestClassifier\n",
        "rf_clf = RandomForestClassifier(n_estimators = 10, random_state = 0, n_jobs=-1, class_weight=\"balanced\")\n",
        "rf_clf.fit(X_train_imputed, y_train)\n",
        "print('Akurasi pada set pelatihan:',cross_val_score(rf_clf, X_train_imputed, y_train, cv=10, scoring='accuracy'))\n",
        "print('Akurasi pada set tes:',cross_val_score(rf_clf, X_test_imputed, y_test, cv=10, scoring='accuracy'))"
      ]
    }
  ],
  "metadata": {
    "colab": {
      "provenance": []
    },
    "kernelspec": {
      "display_name": "Python 3",
      "name": "python3"
    },
    "language_info": {
      "name": "python"
    }
  },
  "nbformat": 4,
  "nbformat_minor": 0
}